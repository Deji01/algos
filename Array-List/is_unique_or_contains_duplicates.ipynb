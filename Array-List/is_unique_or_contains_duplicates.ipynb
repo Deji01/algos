{
 "cells": [
  {
   "cell_type": "markdown",
   "id": "f2b6e9fd",
   "metadata": {},
   "source": [
    "Implement an algorithm to determine if a list has all unique characters, using a python list"
   ]
  },
  {
   "cell_type": "code",
   "execution_count": 1,
   "id": "76ce71c5",
   "metadata": {},
   "outputs": [],
   "source": [
    "myList = [1,20,30,44,5,56,57,8,19,10,31,12,13,14,35,16,27,58,19,21]"
   ]
  },
  {
   "cell_type": "code",
   "execution_count": 2,
   "id": "a17c6a7c",
   "metadata": {},
   "outputs": [
    {
     "data": {
      "text/plain": [
       "[1, 20, 30, 44, 5, 56, 57, 8, 19, 10, 31, 12, 13, 14, 35, 16, 27, 58, 19, 21]"
      ]
     },
     "execution_count": 2,
     "metadata": {},
     "output_type": "execute_result"
    }
   ],
   "source": [
    "myList"
   ]
  },
  {
   "cell_type": "code",
   "execution_count": 7,
   "id": "907e6527",
   "metadata": {},
   "outputs": [],
   "source": [
    "def isUnique(list_):\n",
    "    #create an empty list\n",
    "    unique = []\n",
    "    #loop through the given list\n",
    "    for i in list_:\n",
    "        if i in unique:\n",
    "            #In each visit check if the visited element is in our newly created list and save the visited element in the newly created list\n",
    "            print(i)\n",
    "            return False\n",
    "        else:\n",
    "            unique.append(i)\n",
    "    return True"
   ]
  },
  {
   "cell_type": "code",
   "execution_count": 8,
   "id": "34d4fe0e",
   "metadata": {},
   "outputs": [
    {
     "name": "stdout",
     "output_type": "stream",
     "text": [
      "19\n"
     ]
    },
    {
     "data": {
      "text/plain": [
       "False"
      ]
     },
     "execution_count": 8,
     "metadata": {},
     "output_type": "execute_result"
    }
   ],
   "source": [
    "isUnique(myList)"
   ]
  }
 ],
 "metadata": {
  "kernelspec": {
   "display_name": "Python 3 (ipykernel)",
   "language": "python",
   "name": "python3"
  },
  "language_info": {
   "codemirror_mode": {
    "name": "ipython",
    "version": 3
   },
   "file_extension": ".py",
   "mimetype": "text/x-python",
   "name": "python",
   "nbconvert_exporter": "python",
   "pygments_lexer": "ipython3",
   "version": "3.9.1"
  }
 },
 "nbformat": 4,
 "nbformat_minor": 5
}
