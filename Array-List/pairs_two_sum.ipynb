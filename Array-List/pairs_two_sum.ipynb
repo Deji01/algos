{
 "cells": [
  {
   "cell_type": "markdown",
   "id": "7cb54873",
   "metadata": {},
   "source": [
    "Write a program to find all pairs of integers whose sum is equal to a given number."
   ]
  },
  {
   "cell_type": "code",
   "execution_count": 3,
   "id": "520cc834",
   "metadata": {},
   "outputs": [],
   "source": [
    "# input : nums = [2,6,3,9,11], target = 9\n",
    "# output : [1,2]\n",
    "# because nums[1] + nums[2] == 9"
   ]
  },
  {
   "cell_type": "markdown",
   "id": "c486b478",
   "metadata": {},
   "source": [
    "$Questions$ $to$ $ask$"
   ]
  },
  {
   "cell_type": "markdown",
   "id": "acc2d770",
   "metadata": {},
   "source": [
    "- Does the array contain only positive or negative numbers?\n",
    "- What if the same pair repeats twice, should it be printed everytime?\n",
    "- Is the reverse of the pair is acceptable? e.g can I print both (4,1) and (1,4) if the given sum is 5.\n",
    "- Do I need to print only distinct pairs?e.g is (3,3) a valid pair for a given sum of 6\n",
    "- How big is the array?"
   ]
  },
  {
   "cell_type": "code",
   "execution_count": 24,
   "id": "410142a5",
   "metadata": {},
   "outputs": [],
   "source": [
    "def findPairs(nums, target):\n",
    "    for i in range(len(nums)):\n",
    "        for j in range(i+1, len(nums)):\n",
    "            if nums[i] == nums[j]:\n",
    "                continue\n",
    "            elif nums[i] + nums[j] == target:\n",
    "                print([i,j])"
   ]
  },
  {
   "cell_type": "code",
   "execution_count": 25,
   "id": "7de2b46f",
   "metadata": {},
   "outputs": [],
   "source": [
    "nums = [1,2,3,2,3,4,5,6]\n",
    "target = 6"
   ]
  },
  {
   "cell_type": "code",
   "execution_count": 26,
   "id": "e22092a0",
   "metadata": {},
   "outputs": [
    {
     "name": "stdout",
     "output_type": "stream",
     "text": [
      "[0, 6]\n",
      "[1, 5]\n",
      "[3, 5]\n"
     ]
    }
   ],
   "source": [
    "findPairs(nums, target)"
   ]
  }
 ],
 "metadata": {
  "kernelspec": {
   "display_name": "Python 3 (ipykernel)",
   "language": "python",
   "name": "python3"
  },
  "language_info": {
   "codemirror_mode": {
    "name": "ipython",
    "version": 3
   },
   "file_extension": ".py",
   "mimetype": "text/x-python",
   "name": "python",
   "nbconvert_exporter": "python",
   "pygments_lexer": "ipython3",
   "version": "3.9.1"
  }
 },
 "nbformat": 4,
 "nbformat_minor": 5
}
