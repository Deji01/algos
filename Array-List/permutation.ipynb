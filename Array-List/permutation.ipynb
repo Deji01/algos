{
 "cells": [
  {
   "cell_type": "markdown",
   "id": "0e0b3f5e",
   "metadata": {},
   "source": [
    "Given two lists, write a method to decide if one is a permutation of the other."
   ]
  },
  {
   "cell_type": "code",
   "execution_count": 1,
   "id": "36bcb620",
   "metadata": {},
   "outputs": [],
   "source": [
    "def permutation(list1, list2):\n",
    "    if len(list1) != len(list2):\n",
    "        return False\n",
    "    list1 = sorted(list1)\n",
    "    list2 = sorted(list2)\n",
    "    if list1 == list2:\n",
    "        return True\n",
    "    else:\n",
    "        return False"
   ]
  },
  {
   "cell_type": "code",
   "execution_count": 2,
   "id": "2850a3e5",
   "metadata": {},
   "outputs": [
    {
     "data": {
      "text/plain": [
       "True"
      ]
     },
     "execution_count": 2,
     "metadata": {},
     "output_type": "execute_result"
    }
   ],
   "source": [
    "permutation([1,2,3], [1,3,2])"
   ]
  },
  {
   "cell_type": "code",
   "execution_count": 6,
   "id": "0470a113",
   "metadata": {},
   "outputs": [],
   "source": [
    "list1 = ['a', 'c', 'b']\n",
    "list2 = ['b', 'a', 'c']"
   ]
  },
  {
   "cell_type": "code",
   "execution_count": 7,
   "id": "492eba2d",
   "metadata": {},
   "outputs": [
    {
     "data": {
      "text/plain": [
       "True"
      ]
     },
     "execution_count": 7,
     "metadata": {},
     "output_type": "execute_result"
    }
   ],
   "source": [
    "permutation(list1,list2)"
   ]
  },
  {
   "cell_type": "code",
   "execution_count": 9,
   "id": "60f0f264",
   "metadata": {},
   "outputs": [],
   "source": [
    "list3 = ['a', 'c', 'b']\n",
    "list4 = ['b', 'd', 'c']"
   ]
  },
  {
   "cell_type": "code",
   "execution_count": 10,
   "id": "9915b696",
   "metadata": {},
   "outputs": [
    {
     "data": {
      "text/plain": [
       "False"
      ]
     },
     "execution_count": 10,
     "metadata": {},
     "output_type": "execute_result"
    }
   ],
   "source": [
    "permutation(list3,list4)"
   ]
  }
 ],
 "metadata": {
  "kernelspec": {
   "display_name": "Python 3 (ipykernel)",
   "language": "python",
   "name": "python3"
  },
  "language_info": {
   "codemirror_mode": {
    "name": "ipython",
    "version": 3
   },
   "file_extension": ".py",
   "mimetype": "text/x-python",
   "name": "python",
   "nbconvert_exporter": "python",
   "pygments_lexer": "ipython3",
   "version": "3.9.1"
  }
 },
 "nbformat": 4,
 "nbformat_minor": 5
}
