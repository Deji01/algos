{
 "cells": [
  {
   "cell_type": "markdown",
   "id": "75e3a954",
   "metadata": {},
   "source": [
    "Find the maximum product of two integers in an array where all elements are positive."
   ]
  },
  {
   "cell_type": "code",
   "execution_count": 1,
   "id": "8c8d3ef7",
   "metadata": {},
   "outputs": [],
   "source": [
    "import numpy as np"
   ]
  },
  {
   "cell_type": "code",
   "execution_count": 2,
   "id": "7f91b9be",
   "metadata": {},
   "outputs": [],
   "source": [
    "max_arr = np.array([1,20,30,44,5,56,57,8,9,10,31,12,14,35,16,27,58,19,21])"
   ]
  },
  {
   "cell_type": "code",
   "execution_count": 3,
   "id": "8b58868f",
   "metadata": {},
   "outputs": [
    {
     "data": {
      "text/plain": [
       "array([ 1, 20, 30, 44,  5, 56, 57,  8,  9, 10, 31, 12, 14, 35, 16, 27, 58,\n",
       "       19, 21])"
      ]
     },
     "execution_count": 3,
     "metadata": {},
     "output_type": "execute_result"
    }
   ],
   "source": [
    "max_arr"
   ]
  },
  {
   "cell_type": "code",
   "execution_count": 6,
   "id": "41db00f1",
   "metadata": {},
   "outputs": [],
   "source": [
    "def findMaxProduct(array):\n",
    "    maxProduct = 0\n",
    "    for i in range(len(array)):\n",
    "        for j in range(i+1, len(array)):\n",
    "            if array[i] * array[j] > maxProduct:\n",
    "                maxProduct = array[i] * array[j]\n",
    "                pairs = (array[i], array[j])\n",
    "    print(f'Pairs = {pairs}')\n",
    "    print(f'Max Product = {maxProduct}')"
   ]
  },
  {
   "cell_type": "code",
   "execution_count": 7,
   "id": "f085a927",
   "metadata": {},
   "outputs": [
    {
     "name": "stdout",
     "output_type": "stream",
     "text": [
      "Pairs = (57, 58)\n",
      "Max Product = 3306\n"
     ]
    }
   ],
   "source": [
    "findMaxProduct(max_arr)"
   ]
  }
 ],
 "metadata": {
  "kernelspec": {
   "display_name": "Python 3 (ipykernel)",
   "language": "python",
   "name": "python3"
  },
  "language_info": {
   "codemirror_mode": {
    "name": "ipython",
    "version": 3
   },
   "file_extension": ".py",
   "mimetype": "text/x-python",
   "name": "python",
   "nbconvert_exporter": "python",
   "pygments_lexer": "ipython3",
   "version": "3.9.1"
  }
 },
 "nbformat": 4,
 "nbformat_minor": 5
}
