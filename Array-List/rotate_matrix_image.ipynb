{
 "cells": [
  {
   "cell_type": "markdown",
   "id": "9a6a3b43",
   "metadata": {},
   "source": [
    "Given an image represented by NxN matrix, write a method to rotate the image by 90 degrees"
   ]
  },
  {
   "cell_type": "code",
   "execution_count": 3,
   "id": "c5ec31c1",
   "metadata": {},
   "outputs": [
    {
     "data": {
      "text/plain": [
       "[[1, 2, 3], [4, 5, 6], [7, 8, 9]]"
      ]
     },
     "execution_count": 3,
     "metadata": {},
     "output_type": "execute_result"
    }
   ],
   "source": [
    "myList = [[1,2,3],[4,5,6],[7,8,9]]\n",
    "myList"
   ]
  },
  {
   "cell_type": "code",
   "execution_count": 10,
   "id": "e5ff41e9",
   "metadata": {},
   "outputs": [],
   "source": [
    "import numpy as np\n",
    "arr = np.array(myList)"
   ]
  },
  {
   "cell_type": "code",
   "execution_count": 6,
   "id": "c89327d3",
   "metadata": {},
   "outputs": [
    {
     "data": {
      "text/plain": [
       "array([[7, 4, 1],\n",
       "       [8, 5, 2],\n",
       "       [9, 6, 3]])"
      ]
     },
     "execution_count": 6,
     "metadata": {},
     "output_type": "execute_result"
    }
   ],
   "source": [
    "# expected output\n",
    "np.array([[7,4,1],[8,5,2],[9,6,3]])"
   ]
  },
  {
   "cell_type": "code",
   "execution_count": 16,
   "id": "7624856b",
   "metadata": {},
   "outputs": [],
   "source": [
    "def rotateMatrix(matrix):\n",
    "    n = len(matrix)\n",
    "    for layer in range(n//2):\n",
    "        first = layer\n",
    "        last = n - layer -1\n",
    "        for i in range(first, last):\n",
    "            # save top element\n",
    "            top = matrix[layer][i]\n",
    "            # move left element to top\n",
    "            matrix[layer][i] = matrix[-i-1][layer]\n",
    "            # move bottom element to left\n",
    "            matrix[-i-1][layer] = matrix[-layer-1][-i-1]\n",
    "            # move right to bottom\n",
    "            matrix[-layer-1][-i-1] = matrix[i][-layer-1]\n",
    "            # move top to right\n",
    "            matrix[i][-layer-1] = top\n",
    "        return matrix"
   ]
  },
  {
   "cell_type": "code",
   "execution_count": 17,
   "id": "aaac3ae7",
   "metadata": {},
   "outputs": [
    {
     "data": {
      "text/plain": [
       "array([[1, 2, 3],\n",
       "       [4, 5, 6],\n",
       "       [7, 8, 9]])"
      ]
     },
     "execution_count": 17,
     "metadata": {},
     "output_type": "execute_result"
    }
   ],
   "source": [
    "arr"
   ]
  },
  {
   "cell_type": "code",
   "execution_count": 18,
   "id": "60f38f2c",
   "metadata": {},
   "outputs": [
    {
     "data": {
      "text/plain": [
       "array([[7, 4, 1],\n",
       "       [8, 5, 2],\n",
       "       [9, 6, 3]])"
      ]
     },
     "execution_count": 18,
     "metadata": {},
     "output_type": "execute_result"
    }
   ],
   "source": [
    "rotateMatrix(arr)"
   ]
  }
 ],
 "metadata": {
  "kernelspec": {
   "display_name": "Python 3 (ipykernel)",
   "language": "python",
   "name": "python3"
  },
  "language_info": {
   "codemirror_mode": {
    "name": "ipython",
    "version": 3
   },
   "file_extension": ".py",
   "mimetype": "text/x-python",
   "name": "python",
   "nbconvert_exporter": "python",
   "pygments_lexer": "ipython3",
   "version": "3.9.1"
  }
 },
 "nbformat": 4,
 "nbformat_minor": 5
}
