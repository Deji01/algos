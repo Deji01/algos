{
 "cells": [
  {
   "cell_type": "code",
   "execution_count": 8,
   "id": "7a92ec7d",
   "metadata": {},
   "outputs": [],
   "source": [
    "def averageDailyTemp():\n",
    "    numDays = int(input(\"How many day's temperature? \"))\n",
    "    temp = []\n",
    "    total = 0\n",
    "    for i in range(numDays):\n",
    "        \n",
    "        nextDay = float(input(f\"Day {i+1}'s high temp: \"))\n",
    "        temp.append(nextDay)\n",
    "        total += temp[i]\n",
    "        \n",
    "    avg = total/numDays \n",
    "    print(f'Average = {avg}')\n",
    "    \n",
    "    \n",
    "    above = 0\n",
    "    for j in temp:\n",
    "        if j > avg:\n",
    "            above += 1\n",
    "                   \n",
    "    print(f'{above} day(s) above average')"
   ]
  },
  {
   "cell_type": "code",
   "execution_count": 9,
   "id": "047f04b9",
   "metadata": {},
   "outputs": [
    {
     "name": "stdout",
     "output_type": "stream",
     "text": [
      "How many day's temperature? 6\n",
      "Day 1's high temp: 32.4\n",
      "Day 2's high temp: 33\n",
      "Day 3's high temp: 39.2\n",
      "Day 4's high temp: 30.8\n",
      "Day 5's high temp: 35.5\n",
      "Day 6's high temp: 37\n",
      "Average = 34.65\n",
      "3 day(s) above average\n"
     ]
    }
   ],
   "source": [
    "averageDailyTemp()"
   ]
  }
 ],
 "metadata": {
  "kernelspec": {
   "display_name": "Python 3 (ipykernel)",
   "language": "python",
   "name": "python3"
  },
  "language_info": {
   "codemirror_mode": {
    "name": "ipython",
    "version": 3
   },
   "file_extension": ".py",
   "mimetype": "text/x-python",
   "name": "python",
   "nbconvert_exporter": "python",
   "pygments_lexer": "ipython3",
   "version": "3.9.1"
  }
 },
 "nbformat": 4,
 "nbformat_minor": 5
}
