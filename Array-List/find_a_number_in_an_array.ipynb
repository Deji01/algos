{
 "cells": [
  {
   "cell_type": "code",
   "execution_count": 1,
   "id": "dede46a6",
   "metadata": {},
   "outputs": [],
   "source": [
    "import numpy as np"
   ]
  },
  {
   "cell_type": "code",
   "execution_count": 3,
   "id": "ab0d073f",
   "metadata": {},
   "outputs": [],
   "source": [
    "myArray = np.array([i for i in range(1,21)])"
   ]
  },
  {
   "cell_type": "code",
   "execution_count": 4,
   "id": "26cc5a69",
   "metadata": {},
   "outputs": [
    {
     "data": {
      "text/plain": [
       "array([ 1,  2,  3,  4,  5,  6,  7,  8,  9, 10, 11, 12, 13, 14, 15, 16, 17,\n",
       "       18, 19, 20])"
      ]
     },
     "execution_count": 4,
     "metadata": {},
     "output_type": "execute_result"
    }
   ],
   "source": [
    "myArray"
   ]
  },
  {
   "cell_type": "code",
   "execution_count": 24,
   "id": "0f2735db",
   "metadata": {},
   "outputs": [],
   "source": [
    "def linearSearch(arr, number ):\n",
    "    for i in range(len(arr)):\n",
    "        if arr[i] == number:\n",
    "            return True"
   ]
  },
  {
   "cell_type": "code",
   "execution_count": 25,
   "id": "5745d4cb",
   "metadata": {},
   "outputs": [],
   "source": [
    "linearSearch(myArray, 21)"
   ]
  },
  {
   "cell_type": "code",
   "execution_count": 26,
   "id": "42cddc1b",
   "metadata": {},
   "outputs": [
    {
     "data": {
      "text/plain": [
       "True"
      ]
     },
     "execution_count": 26,
     "metadata": {},
     "output_type": "execute_result"
    }
   ],
   "source": [
    "linearSearch(myArray, 4)"
   ]
  }
 ],
 "metadata": {
  "kernelspec": {
   "display_name": "Python 3 (ipykernel)",
   "language": "python",
   "name": "python3"
  },
  "language_info": {
   "codemirror_mode": {
    "name": "ipython",
    "version": 3
   },
   "file_extension": ".py",
   "mimetype": "text/x-python",
   "name": "python",
   "nbconvert_exporter": "python",
   "pygments_lexer": "ipython3",
   "version": "3.9.1"
  }
 },
 "nbformat": 4,
 "nbformat_minor": 5
}
