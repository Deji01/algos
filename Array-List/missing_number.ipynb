{
 "cells": [
  {
   "cell_type": "code",
   "execution_count": 1,
   "id": "c53a9af5",
   "metadata": {},
   "outputs": [],
   "source": [
    "import numpy as np"
   ]
  },
  {
   "cell_type": "markdown",
   "id": "33ec3743",
   "metadata": {},
   "source": [
    "Find the missing number in an integer array of 1 to 100"
   ]
  },
  {
   "cell_type": "code",
   "execution_count": 12,
   "id": "4a3d7723",
   "metadata": {},
   "outputs": [],
   "source": [
    "int_arr = np.array([i for i in range(1,101)])"
   ]
  },
  {
   "cell_type": "code",
   "execution_count": 13,
   "id": "ae8a915f",
   "metadata": {},
   "outputs": [
    {
     "data": {
      "text/plain": [
       "array([  1,   2,   3,   4,   5,   6,   7,   8,   9,  10,  11,  12,  13,\n",
       "        14,  15,  16,  17,  18,  19,  20,  21,  22,  23,  24,  25,  26,\n",
       "        27,  28,  29,  30,  31,  32,  33,  34,  35,  36,  37,  38,  39,\n",
       "        40,  41,  42,  43,  44,  45,  46,  47,  48,  49,  50,  51,  52,\n",
       "        53,  54,  55,  56,  57,  58,  59,  60,  61,  62,  63,  64,  65,\n",
       "        66,  67,  68,  69,  70,  71,  72,  73,  74,  75,  76,  77,  78,\n",
       "        79,  80,  81,  82,  83,  84,  85,  86,  87,  88,  89,  90,  91,\n",
       "        92,  93,  94,  95,  96,  97,  98,  99, 100])"
      ]
     },
     "execution_count": 13,
     "metadata": {},
     "output_type": "execute_result"
    }
   ],
   "source": [
    "int_arr"
   ]
  },
  {
   "cell_type": "code",
   "execution_count": 23,
   "id": "4051fdd9",
   "metadata": {},
   "outputs": [],
   "source": [
    "miss_arr = int_arr[:99]"
   ]
  },
  {
   "cell_type": "code",
   "execution_count": 26,
   "id": "1433e002",
   "metadata": {},
   "outputs": [],
   "source": [
    "def findMissingNo(arr, n):\n",
    "    sum1 = n*(n+1)/2\n",
    "    sum2 = sum(arr)\n",
    "    missing = sum1 - sum2\n",
    "    return missing"
   ]
  },
  {
   "cell_type": "code",
   "execution_count": 27,
   "id": "69cac90a",
   "metadata": {},
   "outputs": [
    {
     "data": {
      "text/plain": [
       "100.0"
      ]
     },
     "execution_count": 27,
     "metadata": {},
     "output_type": "execute_result"
    }
   ],
   "source": [
    "findMissingNo(miss_arr, 100)"
   ]
  },
  {
   "cell_type": "code",
   "execution_count": 28,
   "id": "47653a30",
   "metadata": {},
   "outputs": [],
   "source": [
    "miss_arr2 = np.delete(int_arr,[23])"
   ]
  },
  {
   "cell_type": "code",
   "execution_count": 31,
   "id": "e544b54e",
   "metadata": {},
   "outputs": [
    {
     "data": {
      "text/plain": [
       "array([  1,   2,   3,   4,   5,   6,   7,   8,   9,  10,  11,  12,  13,\n",
       "        14,  15,  16,  17,  18,  19,  20,  21,  22,  23,  25,  26,  27,\n",
       "        28,  29,  30,  31,  32,  33,  34,  35,  36,  37,  38,  39,  40,\n",
       "        41,  42,  43,  44,  45,  46,  47,  48,  49,  50,  51,  52,  53,\n",
       "        54,  55,  56,  57,  58,  59,  60,  61,  62,  63,  64,  65,  66,\n",
       "        67,  68,  69,  70,  71,  72,  73,  74,  75,  76,  77,  78,  79,\n",
       "        80,  81,  82,  83,  84,  85,  86,  87,  88,  89,  90,  91,  92,\n",
       "        93,  94,  95,  96,  97,  98,  99, 100])"
      ]
     },
     "execution_count": 31,
     "metadata": {},
     "output_type": "execute_result"
    }
   ],
   "source": [
    "miss_arr2"
   ]
  },
  {
   "cell_type": "code",
   "execution_count": 30,
   "id": "49745baf",
   "metadata": {},
   "outputs": [
    {
     "data": {
      "text/plain": [
       "24.0"
      ]
     },
     "execution_count": 30,
     "metadata": {},
     "output_type": "execute_result"
    }
   ],
   "source": [
    "findMissingNo(miss_arr2, 100)"
   ]
  }
 ],
 "metadata": {
  "kernelspec": {
   "display_name": "Python 3 (ipykernel)",
   "language": "python",
   "name": "python3"
  },
  "language_info": {
   "codemirror_mode": {
    "name": "ipython",
    "version": 3
   },
   "file_extension": ".py",
   "mimetype": "text/x-python",
   "name": "python",
   "nbconvert_exporter": "python",
   "pygments_lexer": "ipython3",
   "version": "3.9.1"
  }
 },
 "nbformat": 4,
 "nbformat_minor": 5
}
