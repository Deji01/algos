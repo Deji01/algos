{
 "cells": [
  {
   "cell_type": "code",
   "execution_count": 1,
   "id": "e824e52a",
   "metadata": {},
   "outputs": [
    {
     "data": {
      "text/plain": [
       "('a', 'b', 'c', 'd', 'e')"
      ]
     },
     "execution_count": 1,
     "metadata": {},
     "output_type": "execute_result"
    }
   ],
   "source": [
    "newTuple = ('a','b','c','d','e')\n",
    "newTuple"
   ]
  },
  {
   "cell_type": "code",
   "execution_count": 4,
   "id": "3e7bad5e",
   "metadata": {},
   "outputs": [
    {
     "data": {
      "text/plain": [
       "('a',)"
      ]
     },
     "execution_count": 4,
     "metadata": {},
     "output_type": "execute_result"
    }
   ],
   "source": [
    "newTuple1 = ('a',)\n",
    "newTuple1"
   ]
  },
  {
   "cell_type": "code",
   "execution_count": 5,
   "id": "f992d6bf",
   "metadata": {},
   "outputs": [
    {
     "data": {
      "text/plain": [
       "()"
      ]
     },
     "execution_count": 5,
     "metadata": {},
     "output_type": "execute_result"
    }
   ],
   "source": [
    "newTuple2 = tuple()\n",
    "newTuple2"
   ]
  },
  {
   "cell_type": "code",
   "execution_count": 6,
   "id": "4228cc3f",
   "metadata": {},
   "outputs": [
    {
     "data": {
      "text/plain": [
       "('a', 'b', 'c', 'd', 'e', 'f')"
      ]
     },
     "execution_count": 6,
     "metadata": {},
     "output_type": "execute_result"
    }
   ],
   "source": [
    "newTuple3 = tuple('abcdef')\n",
    "newTuple3"
   ]
  },
  {
   "cell_type": "markdown",
   "id": "76322fc9",
   "metadata": {},
   "source": [
    "***Time Complexity: O(1)***"
   ]
  },
  {
   "cell_type": "markdown",
   "id": "64ba510a",
   "metadata": {},
   "source": [
    "***Space Complexity: O(N)***"
   ]
  },
  {
   "cell_type": "code",
   "execution_count": 7,
   "id": "edb89ff8",
   "metadata": {},
   "outputs": [
    {
     "data": {
      "text/plain": [
       "('a', 'b', 'c', 'd', 'e', 'f')"
      ]
     },
     "execution_count": 7,
     "metadata": {},
     "output_type": "execute_result"
    }
   ],
   "source": [
    "newTuple3"
   ]
  },
  {
   "cell_type": "code",
   "execution_count": 8,
   "id": "5e233c53",
   "metadata": {},
   "outputs": [
    {
     "data": {
      "text/plain": [
       "'f'"
      ]
     },
     "execution_count": 8,
     "metadata": {},
     "output_type": "execute_result"
    }
   ],
   "source": [
    "newTuple3[-1]"
   ]
  },
  {
   "cell_type": "code",
   "execution_count": 9,
   "id": "163dc082",
   "metadata": {},
   "outputs": [
    {
     "data": {
      "text/plain": [
       "'b'"
      ]
     },
     "execution_count": 9,
     "metadata": {},
     "output_type": "execute_result"
    }
   ],
   "source": [
    "newTuple3[1]"
   ]
  },
  {
   "cell_type": "code",
   "execution_count": 11,
   "id": "80edc86e",
   "metadata": {},
   "outputs": [
    {
     "name": "stdout",
     "output_type": "stream",
     "text": [
      "(0, 'a')\n",
      "(1, 'b')\n",
      "(2, 'c')\n",
      "(3, 'd')\n",
      "(4, 'e')\n",
      "(5, 'f')\n"
     ]
    }
   ],
   "source": [
    "for index, value in enumerate(newTuple3):\n",
    "    print((index,value))"
   ]
  },
  {
   "cell_type": "markdown",
   "id": "5f5d6eaf",
   "metadata": {},
   "source": [
    "***Time Complexity: O(N)***"
   ]
  },
  {
   "cell_type": "markdown",
   "id": "7ddc6b5f",
   "metadata": {},
   "source": [
    "***Space Complexity: O(1)***"
   ]
  },
  {
   "cell_type": "code",
   "execution_count": 12,
   "id": "b1b729cf",
   "metadata": {},
   "outputs": [
    {
     "data": {
      "text/plain": [
       "('d', 'e', 'f')"
      ]
     },
     "execution_count": 12,
     "metadata": {},
     "output_type": "execute_result"
    }
   ],
   "source": [
    "newTuple3[3:]"
   ]
  },
  {
   "cell_type": "code",
   "execution_count": 13,
   "id": "e2d149cc",
   "metadata": {},
   "outputs": [
    {
     "data": {
      "text/plain": [
       "('b', 'c')"
      ]
     },
     "execution_count": 13,
     "metadata": {},
     "output_type": "execute_result"
    }
   ],
   "source": [
    "newTuple3[1:3]"
   ]
  },
  {
   "cell_type": "code",
   "execution_count": 16,
   "id": "0490f36f",
   "metadata": {},
   "outputs": [
    {
     "data": {
      "text/plain": [
       "True"
      ]
     },
     "execution_count": 16,
     "metadata": {},
     "output_type": "execute_result"
    }
   ],
   "source": [
    "'b' in newTuple3"
   ]
  },
  {
   "cell_type": "code",
   "execution_count": 17,
   "id": "2d03637b",
   "metadata": {},
   "outputs": [
    {
     "data": {
      "text/plain": [
       "False"
      ]
     },
     "execution_count": 17,
     "metadata": {},
     "output_type": "execute_result"
    }
   ],
   "source": [
    "'v' in newTuple3"
   ]
  },
  {
   "cell_type": "code",
   "execution_count": 21,
   "id": "658eee59",
   "metadata": {},
   "outputs": [],
   "source": [
    "def searchTuple(tupl, ele):\n",
    "    for i in tupl:\n",
    "        if i == ele:\n",
    "            return tupl.index(i)\n",
    "        \n",
    "    return 'The element does not exist'"
   ]
  },
  {
   "cell_type": "code",
   "execution_count": 22,
   "id": "8602909c",
   "metadata": {},
   "outputs": [
    {
     "data": {
      "text/plain": [
       "2"
      ]
     },
     "execution_count": 22,
     "metadata": {},
     "output_type": "execute_result"
    }
   ],
   "source": [
    "searchTuple(newTuple3, 'c')"
   ]
  },
  {
   "cell_type": "code",
   "execution_count": 23,
   "id": "88d2ea29",
   "metadata": {},
   "outputs": [
    {
     "data": {
      "text/plain": [
       "'The element does not exist'"
      ]
     },
     "execution_count": 23,
     "metadata": {},
     "output_type": "execute_result"
    }
   ],
   "source": [
    "searchTuple(newTuple3, 'z')"
   ]
  },
  {
   "cell_type": "markdown",
   "id": "0d977356",
   "metadata": {},
   "source": [
    "***Time Complexity: O(N)***"
   ]
  },
  {
   "cell_type": "markdown",
   "id": "10b15af4",
   "metadata": {},
   "source": [
    "***Space Complexity: O(1)***"
   ]
  },
  {
   "cell_type": "code",
   "execution_count": 25,
   "id": "3acdee15",
   "metadata": {},
   "outputs": [
    {
     "data": {
      "text/plain": [
       "('a', 'b', 'c', 'd', 'e')"
      ]
     },
     "execution_count": 25,
     "metadata": {},
     "output_type": "execute_result"
    }
   ],
   "source": [
    "newTuple"
   ]
  },
  {
   "cell_type": "code",
   "execution_count": 26,
   "id": "c0be665c",
   "metadata": {},
   "outputs": [
    {
     "data": {
      "text/plain": [
       "('a',)"
      ]
     },
     "execution_count": 26,
     "metadata": {},
     "output_type": "execute_result"
    }
   ],
   "source": [
    "newTuple1"
   ]
  },
  {
   "cell_type": "code",
   "execution_count": 29,
   "id": "29b1fc4a",
   "metadata": {},
   "outputs": [
    {
     "data": {
      "text/plain": [
       "('x', 'y', 'z')"
      ]
     },
     "execution_count": 29,
     "metadata": {},
     "output_type": "execute_result"
    }
   ],
   "source": [
    "newTuple2 = tuple('xyz')\n",
    "newTuple2"
   ]
  },
  {
   "cell_type": "code",
   "execution_count": 28,
   "id": "58231afd",
   "metadata": {},
   "outputs": [
    {
     "data": {
      "text/plain": [
       "('a', 'b', 'c', 'd', 'e', 'f')"
      ]
     },
     "execution_count": 28,
     "metadata": {},
     "output_type": "execute_result"
    }
   ],
   "source": [
    "newTuple3"
   ]
  },
  {
   "cell_type": "code",
   "execution_count": 30,
   "id": "5e67f7ff",
   "metadata": {},
   "outputs": [
    {
     "data": {
      "text/plain": [
       "('a', 'x', 'y', 'z')"
      ]
     },
     "execution_count": 30,
     "metadata": {},
     "output_type": "execute_result"
    }
   ],
   "source": [
    "concat_tuple = newTuple1 + newTuple2\n",
    "concat_tuple"
   ]
  },
  {
   "cell_type": "code",
   "execution_count": 31,
   "id": "74cf16ee",
   "metadata": {},
   "outputs": [],
   "source": [
    "int_tuple1 = (1,2,3,4,5)\n",
    "int_tuple2 = (2,4,6,8)"
   ]
  },
  {
   "cell_type": "code",
   "execution_count": 33,
   "id": "3a6c844b",
   "metadata": {},
   "outputs": [
    {
     "data": {
      "text/plain": [
       "(2, 4, 6, 8, 2, 4, 6, 8, 2, 4, 6, 8)"
      ]
     },
     "execution_count": 33,
     "metadata": {},
     "output_type": "execute_result"
    }
   ],
   "source": [
    "triple = int_tuple2 * 3\n",
    "triple"
   ]
  },
  {
   "cell_type": "code",
   "execution_count": 35,
   "id": "225f25d9",
   "metadata": {},
   "outputs": [
    {
     "data": {
      "text/plain": [
       "3"
      ]
     },
     "execution_count": 35,
     "metadata": {},
     "output_type": "execute_result"
    }
   ],
   "source": [
    "triple.count(2)"
   ]
  },
  {
   "cell_type": "code",
   "execution_count": 36,
   "id": "cbfb52a2",
   "metadata": {},
   "outputs": [
    {
     "data": {
      "text/plain": [
       "1"
      ]
     },
     "execution_count": 36,
     "metadata": {},
     "output_type": "execute_result"
    }
   ],
   "source": [
    "int_tuple1.count(3)"
   ]
  },
  {
   "cell_type": "code",
   "execution_count": 38,
   "id": "6a0ec4d3",
   "metadata": {},
   "outputs": [
    {
     "data": {
      "text/plain": [
       "3"
      ]
     },
     "execution_count": 38,
     "metadata": {},
     "output_type": "execute_result"
    }
   ],
   "source": [
    "triple.index(8)"
   ]
  },
  {
   "cell_type": "code",
   "execution_count": 39,
   "id": "2c33dc78",
   "metadata": {},
   "outputs": [
    {
     "data": {
      "text/plain": [
       "12"
      ]
     },
     "execution_count": 39,
     "metadata": {},
     "output_type": "execute_result"
    }
   ],
   "source": [
    "len(triple)"
   ]
  },
  {
   "cell_type": "code",
   "execution_count": 40,
   "id": "612a2432",
   "metadata": {},
   "outputs": [
    {
     "data": {
      "text/plain": [
       "8"
      ]
     },
     "execution_count": 40,
     "metadata": {},
     "output_type": "execute_result"
    }
   ],
   "source": [
    "max(triple)"
   ]
  },
  {
   "cell_type": "code",
   "execution_count": 41,
   "id": "e9f1cba6",
   "metadata": {},
   "outputs": [
    {
     "data": {
      "text/plain": [
       "2"
      ]
     },
     "execution_count": 41,
     "metadata": {},
     "output_type": "execute_result"
    }
   ],
   "source": [
    "min(int_tuple2)"
   ]
  },
  {
   "cell_type": "code",
   "execution_count": 43,
   "id": "8efc544a",
   "metadata": {},
   "outputs": [
    {
     "data": {
      "text/plain": [
       "(0, 1, 2, 3, 4, 5, 6, 7, 8, 9)"
      ]
     },
     "execution_count": 43,
     "metadata": {},
     "output_type": "execute_result"
    }
   ],
   "source": [
    "tup_list = tuple([i for i in range(10)])\n",
    "tup_list"
   ]
  },
  {
   "cell_type": "code",
   "execution_count": 44,
   "id": "69bdea81",
   "metadata": {},
   "outputs": [],
   "source": [
    "del tup_list"
   ]
  },
  {
   "cell_type": "code",
   "execution_count": 47,
   "id": "c35b0c7e",
   "metadata": {},
   "outputs": [],
   "source": [
    "nested = [1,2], [3,4], [4,5], (6,7)"
   ]
  },
  {
   "cell_type": "code",
   "execution_count": 48,
   "id": "f17c721c",
   "metadata": {},
   "outputs": [
    {
     "data": {
      "text/plain": [
       "([1, 2], [3, 4], [4, 5], (6, 7))"
      ]
     },
     "execution_count": 48,
     "metadata": {},
     "output_type": "execute_result"
    }
   ],
   "source": [
    "nested"
   ]
  },
  {
   "cell_type": "code",
   "execution_count": null,
   "id": "9115e837",
   "metadata": {},
   "outputs": [],
   "source": []
  }
 ],
 "metadata": {
  "kernelspec": {
   "display_name": "Python 3 (ipykernel)",
   "language": "python",
   "name": "python3"
  },
  "language_info": {
   "codemirror_mode": {
    "name": "ipython",
    "version": 3
   },
   "file_extension": ".py",
   "mimetype": "text/x-python",
   "name": "python",
   "nbconvert_exporter": "python",
   "pygments_lexer": "ipython3",
   "version": "3.9.1"
  }
 },
 "nbformat": 4,
 "nbformat_minor": 5
}
