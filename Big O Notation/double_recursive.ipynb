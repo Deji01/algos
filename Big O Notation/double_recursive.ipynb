{
 "cells": [
  {
   "cell_type": "markdown",
   "id": "1c2212e9-cfe2-46dc-a3f3-0c57e2c4146c",
   "metadata": {},
   "source": [
    "***Cummulative Sum***"
   ]
  },
  {
   "cell_type": "code",
   "execution_count": 1,
   "id": "320adb01-3d62-4064-aab0-3e58adb14b76",
   "metadata": {},
   "outputs": [],
   "source": [
    " def f(n):\n",
    "        if n<=1:\n",
    "            return 1\n",
    "        return f(n-1) + f(n-1)"
   ]
  },
  {
   "cell_type": "code",
   "execution_count": 5,
   "id": "7d5f85cc-cc8d-4080-9a3f-8cc16817c100",
   "metadata": {},
   "outputs": [
    {
     "name": "stdout",
     "output_type": "stream",
     "text": [
      "(0, 1)\n",
      "(1, 1)\n",
      "(2, 2)\n",
      "(3, 4)\n"
     ]
    }
   ],
   "source": [
    "for i in range(4):\n",
    "    print((i, f(i)))"
   ]
  },
  {
   "cell_type": "code",
   "execution_count": 6,
   "id": "4bf24222-90a8-4f6d-b216-98654400c598",
   "metadata": {},
   "outputs": [],
   "source": [
    "# f(4) + f(3) + f(3) + f(2) + f(2) + f(2) + f(2) \n",
    "# f(1) + f(1) + f(1) + f(1) + f(1) + f(1) + f(1) + f(1)  "
   ]
  },
  {
   "cell_type": "code",
   "execution_count": 7,
   "id": "0f53e0c2-11bc-4941-8964-d52a08c24e05",
   "metadata": {},
   "outputs": [],
   "source": [
    "# f(4) = 2**0 = 1\n",
    "# f(3 = 2**1 = 2 \n",
    "# f(2)= 2**2 = 4\n",
    "# f(1) = 2**3 = 8\n",
    "# f(n) = 2**n = 1\n",
    "# 2**n-1"
   ]
  },
  {
   "cell_type": "markdown",
   "id": "c0b114e0-7295-4615-b2e3-0bb1ac40e53b",
   "metadata": {},
   "source": [
    "$O(2^n)$"
   ]
  },
  {
   "cell_type": "markdown",
   "id": "7e6d5452-7697-40ce-8239-19db73fbb8ca",
   "metadata": {},
   "source": [
    "$O(branches^d)$"
   ]
  },
  {
   "cell_type": "markdown",
   "id": "77498d9a-b30f-41f1-b706-6745c444d59e",
   "metadata": {},
   "source": [
    "$d = depth = parameter$"
   ]
  }
 ],
 "metadata": {
  "kernelspec": {
   "display_name": "Python 3 (ipykernel)",
   "language": "python",
   "name": "python3"
  },
  "language_info": {
   "codemirror_mode": {
    "name": "ipython",
    "version": 3
   },
   "file_extension": ".py",
   "mimetype": "text/x-python",
   "name": "python",
   "nbconvert_exporter": "python",
   "pygments_lexer": "ipython3",
   "version": "3.9.1"
  }
 },
 "nbformat": 4,
 "nbformat_minor": 5
}
