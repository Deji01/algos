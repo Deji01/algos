{
 "cells": [
  {
   "cell_type": "markdown",
   "id": "cb54389b-c32e-41d3-9e09-37ff954ecf33",
   "metadata": {},
   "source": [
    "Find the biggest number in a given array"
   ]
  },
  {
   "cell_type": "code",
   "execution_count": 48,
   "id": "40e0f0f2-d1a0-418d-bc50-34e098ebae20",
   "metadata": {},
   "outputs": [],
   "source": [
    "def findBiggestNumber(sampleArray):\n",
    "    biggestNumber = sampleArray[0]\n",
    "    for index in range(1, len(sampleArray)):\n",
    "        if sampleArray[index] > biggestNumber:\n",
    "            biggestNumber = sampleArray[index]\n",
    "    return biggestNumber"
   ]
  },
  {
   "cell_type": "code",
   "execution_count": 49,
   "id": "ceb28473-3ab6-4eda-814d-334658034a34",
   "metadata": {},
   "outputs": [],
   "source": [
    "array_ = [i**2+1 for i in range(20)]"
   ]
  },
  {
   "cell_type": "code",
   "execution_count": 50,
   "id": "90162452-ef6f-49ed-96f1-ef7729cac943",
   "metadata": {},
   "outputs": [
    {
     "data": {
      "text/plain": [
       "[226, 257, 290, 325, 362]"
      ]
     },
     "execution_count": 50,
     "metadata": {},
     "output_type": "execute_result"
    }
   ],
   "source": [
    "array_[-5:]"
   ]
  },
  {
   "cell_type": "code",
   "execution_count": 52,
   "id": "fde30605-bf5e-49f0-ba56-4e4e9112f854",
   "metadata": {},
   "outputs": [
    {
     "data": {
      "text/plain": [
       "362"
      ]
     },
     "execution_count": 52,
     "metadata": {},
     "output_type": "execute_result"
    }
   ],
   "source": [
    "findBiggestNumber(array_)"
   ]
  },
  {
   "cell_type": "code",
   "execution_count": 51,
   "id": "dc85906e-8d0a-438b-bab3-474e8691c568",
   "metadata": {},
   "outputs": [
    {
     "name": "stdout",
     "output_type": "stream",
     "text": [
      "13.7 µs ± 705 ns per loop (mean ± std. dev. of 7 runs, 100000 loops each)\n"
     ]
    }
   ],
   "source": [
    "%%timeit\n",
    "findBiggestNumber(array_)"
   ]
  },
  {
   "cell_type": "code",
   "execution_count": 56,
   "id": "a79cb8d7-cf5c-46bc-a04a-4f2f70a4a799",
   "metadata": {},
   "outputs": [],
   "source": [
    "# def findBiggestNumber(sampleArray):\n",
    "#     biggestNumber = sampleArray[0] -------------- O(1) \n",
    "#     for index in range(1, len(sampleArray)): -------------- O(N) \n",
    "#         if sampleArray[index] > biggestNumber: -------------- O(1)\n",
    "#             biggestNumber = sampleArray[index] -------------- O(1) \n",
    "#     return biggestNumber -------------- O(1)"
   ]
  },
  {
   "cell_type": "markdown",
   "id": "cc37808d-0b3e-4f43-bca6-357f3e4a6b18",
   "metadata": {},
   "source": [
    "### Time complexity"
   ]
  },
  {
   "cell_type": "markdown",
   "id": "6616ceb5-5282-46f7-a750-5036414c2112",
   "metadata": {},
   "source": [
    "$O(1)+O(N)+O(1)+O(1)+O(1) = O(N)$"
   ]
  }
 ],
 "metadata": {
  "kernelspec": {
   "display_name": "Python 3 (ipykernel)",
   "language": "python",
   "name": "python3"
  },
  "language_info": {
   "codemirror_mode": {
    "name": "ipython",
    "version": 3
   },
   "file_extension": ".py",
   "mimetype": "text/x-python",
   "name": "python",
   "nbconvert_exporter": "python",
   "pygments_lexer": "ipython3",
   "version": "3.9.1"
  }
 },
 "nbformat": 4,
 "nbformat_minor": 5
}
