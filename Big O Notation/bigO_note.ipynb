{
 "cells": [
  {
   "cell_type": "markdown",
   "id": "84862a3d-34dd-4e9e-8957-77b54d4fa136",
   "metadata": {},
   "source": [
    "# $Big$ $O$ $Notation$"
   ]
  },
  {
   "cell_type": "markdown",
   "id": "62fadaeb-9872-4d46-8236-d87f6290a9c6",
   "metadata": {},
   "source": [
    "- **Big O** : It has a complexity that is going to be less or equal to the `worst` case.\n",
    "- **Big-Omega** : It has a complexity that is going to be at least more than the `best` case.\n",
    "- **Big Theta** : It has a complexity that is within bounds of the `worst` and `best` cases."
   ]
  },
  {
   "cell_type": "markdown",
   "id": "95709a9e-3d8f-477b-bb68-c3cca17c8dab",
   "metadata": {},
   "source": [
    "##### **CASE STUDY**\n",
    "\n",
    "We have an array of 1 million elements. The goal is to find a given number within this array. "
   ]
  },
  {
   "cell_type": "markdown",
   "id": "c3b9b44e-a64d-4852-ba48-4ac51d5a3d86",
   "metadata": {},
   "source": [
    "**Big O** - ***O(N)***\n",
    "\n",
    "**Big-Omega** - ***$\\Omega$(1)***\n",
    "\n",
    "**Big Theta** - ***$\\theta$(n/2)***\n",
    "\n"
   ]
  },
  {
   "cell_type": "markdown",
   "id": "c24cb594-97b1-4349-841a-cba8e773fc8d",
   "metadata": {},
   "source": [
    "# $Algorithm$ $run$ $time$ $complexities$"
   ]
  },
  {
   "cell_type": "markdown",
   "id": "e38968ba-a402-42a0-b819-f1479ced6c04",
   "metadata": {},
   "source": [
    "### $O(1)$ - $Constant$ $time$\n",
    "For any given input, the execution time will not change. It will remain constant. e.g accessing a specific element in an array.\n",
    "### $O(N)$ - $Linear$ $time$\n",
    "Time complexity will grow in the direction proportional to the size of the input. e.g looping through all array elements.\n",
    "### $O(LogN)$ - $Logarithmic$ $time$\n",
    "This complexity refers to an algorithm that runs in a proportion to the logarithm of the input.i.e when the number of elements in a problem gets halved each time. e.g finding an element in a sorted array.\n",
    "### $O(N^2)$ - $Quadratic$ $time$\n",
    "This refers to an algorithm whose performance is directly proportional to the square size of input data. e.g looking at every index in an array twice (using nested loops).\n",
    "### $O(2^N)$ - $Exponential$ $time$\n",
    "An algorithm whose growth doubles with each addition to the input. e.g double recursion in fibonacci."
   ]
  },
  {
   "cell_type": "code",
   "execution_count": 26,
   "id": "f909e4fd-35b1-4903-86d3-b3f95941d1aa",
   "metadata": {
    "tags": []
   },
   "outputs": [],
   "source": [
    "array = [1, 2, 3, 4, 5]"
   ]
  },
  {
   "cell_type": "code",
   "execution_count": 34,
   "id": "04a73546-231f-4787-ba83-ceb8b65466c4",
   "metadata": {},
   "outputs": [
    {
     "name": "stdout",
     "output_type": "stream",
     "text": [
      "[3, 4, 5]\n"
     ]
    }
   ],
   "source": [
    "# Constant time complexity  \n",
    "print(array[2:])"
   ]
  },
  {
   "cell_type": "code",
   "execution_count": 33,
   "id": "79bb3c70-c206-41cf-b5de-72ff43113357",
   "metadata": {},
   "outputs": [
    {
     "name": "stdout",
     "output_type": "stream",
     "text": [
      "1\n",
      "2\n"
     ]
    }
   ],
   "source": [
    "# Linear time complexity \n",
    "for element in array[:2]:\n",
    "    print(element)"
   ]
  },
  {
   "cell_type": "code",
   "execution_count": 29,
   "id": "b4fffdc7-0773-4a54-bdb3-c5c56ab2c840",
   "metadata": {},
   "outputs": [
    {
     "name": "stdout",
     "output_type": "stream",
     "text": [
      "1\n",
      "4\n"
     ]
    }
   ],
   "source": [
    "# Logarithmic time complexity\n",
    "for index in range(0,len(array),3):\n",
    "    print(array[index])"
   ]
  },
  {
   "cell_type": "code",
   "execution_count": 31,
   "id": "b32901b6-cd7e-4083-9711-c44c8c131fc1",
   "metadata": {},
   "outputs": [
    {
     "name": "stdout",
     "output_type": "stream",
     "text": [
      "1 1\n",
      "1 2\n",
      "2 1\n",
      "2 2\n"
     ]
    }
   ],
   "source": [
    "# Quadratic time complexity \n",
    "for x in array[:2]:\n",
    "    for y in array[:2]:\n",
    "        print(x,y)"
   ]
  },
  {
   "cell_type": "code",
   "execution_count": 32,
   "id": "962311ea-da6d-4026-9db5-b606c98c07c2",
   "metadata": {},
   "outputs": [],
   "source": [
    "#  Exponential time complexity\n",
    "def fibonacci(n):\n",
    "    if n <= 1:\n",
    "        return n\n",
    "    return fibonacci(n-1) + fibonacci(n-2)"
   ]
  },
  {
   "cell_type": "markdown",
   "id": "62507ab4-d411-4d12-a5e4-b7e7acc83fa9",
   "metadata": {},
   "source": [
    "# $Space$ $complexity$"
   ]
  },
  {
   "cell_type": "markdown",
   "id": "f1c3863d-6498-4584-a33f-5fe5de802110",
   "metadata": {},
   "source": [
    "### $O(1)$ \n",
    "Not adding a level to the stack memory. e.g a function called inside a for loop.\n",
    "### $O(N)$\n",
    "An array of size n. i.e a 1- dimensional array e.g a function with a single recursive call.\n",
    "### $O(N^2)$ \n",
    "A 2- dimensional array.  i.e An array of size n$\\cdotp$n.\n"
   ]
  },
  {
   "cell_type": "markdown",
   "id": "9c583414-ffde-4b33-a2a5-4dea98434f02",
   "metadata": {},
   "source": [
    "# $Add$ $vs$ $Multiply$"
   ]
  },
  {
   "cell_type": "code",
   "execution_count": 1,
   "id": "b0ed4e03-5bc1-4696-bcc2-1be8906af28c",
   "metadata": {},
   "outputs": [],
   "source": [
    "arrayA = []\n",
    "arrayB = []"
   ]
  },
  {
   "cell_type": "code",
   "execution_count": 2,
   "id": "d51e4da6-3944-41d6-bd31-b4d5aded1699",
   "metadata": {},
   "outputs": [],
   "source": [
    "for a in arrayA:\n",
    "    print(a)\n",
    "\n",
    "for b in arrayA:\n",
    "    print(b)"
   ]
  },
  {
   "cell_type": "markdown",
   "id": "ce66b566-04ef-4092-8d15-6edfa78bf5c2",
   "metadata": {},
   "source": [
    "**Add the Runtimes:** O(A+B)"
   ]
  },
  {
   "cell_type": "code",
   "execution_count": 5,
   "id": "f2387cd3-a05f-468e-9966-697467ff6dfa",
   "metadata": {},
   "outputs": [],
   "source": [
    "for a in arrayA:\n",
    "    for b in arrayB:\n",
    "        print(a,b)"
   ]
  },
  {
   "cell_type": "markdown",
   "id": "3e8eaca3-fb9c-40f2-b594-89c645b2a87d",
   "metadata": {},
   "source": [
    "**Multiply the Runtimes:** O(A$\\cdotp$B)"
   ]
  }
 ],
 "metadata": {
  "kernelspec": {
   "display_name": "Python 3 (ipykernel)",
   "language": "python",
   "name": "python3"
  },
  "language_info": {
   "codemirror_mode": {
    "name": "ipython",
    "version": 3
   },
   "file_extension": ".py",
   "mimetype": "text/x-python",
   "name": "python",
   "nbconvert_exporter": "python",
   "pygments_lexer": "ipython3",
   "version": "3.9.1"
  }
 },
 "nbformat": 4,
 "nbformat_minor": 5
}
