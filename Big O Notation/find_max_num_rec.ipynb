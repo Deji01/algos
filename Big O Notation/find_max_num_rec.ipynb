{
 "cells": [
  {
   "cell_type": "markdown",
   "id": "cb54389b-c32e-41d3-9e09-37ff954ecf33",
   "metadata": {},
   "source": [
    "Find the biggest number in a given array"
   ]
  },
  {
   "cell_type": "code",
   "execution_count": 1,
   "id": "40e0f0f2-d1a0-418d-bc50-34e098ebae20",
   "metadata": {},
   "outputs": [],
   "source": [
    "def findMaxNumRec(sampleArray, n):\n",
    "    if n == 1:\n",
    "        return sampleArray[0]\n",
    "    return max(sampleArray[n-1], findMaxNumRec(sampleArray, n-1))"
   ]
  },
  {
   "cell_type": "code",
   "execution_count": 2,
   "id": "ceb28473-3ab6-4eda-814d-334658034a34",
   "metadata": {},
   "outputs": [],
   "source": [
    "array_ = [i**2+1 for i in range(20)]"
   ]
  },
  {
   "cell_type": "code",
   "execution_count": 3,
   "id": "90162452-ef6f-49ed-96f1-ef7729cac943",
   "metadata": {},
   "outputs": [
    {
     "data": {
      "text/plain": [
       "[226, 257, 290, 325, 362]"
      ]
     },
     "execution_count": 3,
     "metadata": {},
     "output_type": "execute_result"
    }
   ],
   "source": [
    "array_[-5:]"
   ]
  },
  {
   "cell_type": "code",
   "execution_count": 4,
   "id": "c6eec46e-c759-4892-9805-f6fb1eefba2e",
   "metadata": {},
   "outputs": [],
   "source": [
    "n = len(array_)"
   ]
  },
  {
   "cell_type": "code",
   "execution_count": 6,
   "id": "fde30605-bf5e-49f0-ba56-4e4e9112f854",
   "metadata": {},
   "outputs": [
    {
     "data": {
      "text/plain": [
       "362"
      ]
     },
     "execution_count": 6,
     "metadata": {},
     "output_type": "execute_result"
    }
   ],
   "source": [
    "findMaxNumRec(array_, n)"
   ]
  },
  {
   "cell_type": "code",
   "execution_count": 7,
   "id": "dc85906e-8d0a-438b-bab3-474e8691c568",
   "metadata": {},
   "outputs": [
    {
     "name": "stdout",
     "output_type": "stream",
     "text": [
      "39.4 µs ± 4.28 µs per loop (mean ± std. dev. of 7 runs, 10000 loops each)\n"
     ]
    }
   ],
   "source": [
    "%%timeit\n",
    "findMaxNumRec(array_, n)"
   ]
  },
  {
   "cell_type": "markdown",
   "id": "98f80ea4-8d5d-4d93-b206-53d419b294cb",
   "metadata": {},
   "source": [
    "### Time complexity "
   ]
  },
  {
   "cell_type": "code",
   "execution_count": 54,
   "id": "a79cb8d7-cf5c-46bc-a04a-4f2f70a4a799",
   "metadata": {},
   "outputs": [],
   "source": [
    "# def findMaxNumRec(sampleArray, n):-------------- M(n)\n",
    "#     if n == 1: -------------- O(1)\n",
    "#         return sampleArray[0] -------------- O(1)\n",
    "#     return max(sampleArray[n-1], findMaxNumRec(sampleArray, n-1)) -------------- M(n-1)"
   ]
  },
  {
   "cell_type": "code",
   "execution_count": 9,
   "id": "85973c46-d44a-4a43-8df4-1cf1ef0134d5",
   "metadata": {},
   "outputs": [],
   "source": [
    "# M(n) = O(1)+O(1)+M(n-1)\n",
    "# M(n) = O(1)+M(n-1)\n",
    "# M(1) = O(1)\n",
    "# M(n-1) = O(1) + M((n-1)-1)\n",
    "# M(n-2) = O(1) + M((n-2)-1)"
   ]
  },
  {
   "cell_type": "code",
   "execution_count": 10,
   "id": "67d5603b-a051-48f4-a672-641c8e0a282e",
   "metadata": {},
   "outputs": [],
   "source": [
    "# M(n) = 1+M(n-1)\n",
    "#      = 1+(1+M((n-1)-1))\n",
    "#      = 2+M(n-2)\n",
    "#      = 2+1+M((n-2)-1)\n",
    "#      = 3+M(n-3)"
   ]
  },
  {
   "cell_type": "code",
   "execution_count": 11,
   "id": "b9595d27-845e-4e7e-a692-6550a17af414",
   "metadata": {},
   "outputs": [],
   "source": [
    "# = a+M(n-a)\n",
    "# if a = n-1\n",
    "# = n-1+M(n-(n-1))\n",
    "# = n-1+1\n",
    "# = n"
   ]
  },
  {
   "cell_type": "markdown",
   "id": "314ca4b7-ec1e-4e10-ba7e-70f39eaf6e33",
   "metadata": {},
   "source": [
    "$O(n)$"
   ]
  }
 ],
 "metadata": {
  "kernelspec": {
   "display_name": "Python 3 (ipykernel)",
   "language": "python",
   "name": "python3"
  },
  "language_info": {
   "codemirror_mode": {
    "name": "ipython",
    "version": 3
   },
   "file_extension": ".py",
   "mimetype": "text/x-python",
   "name": "python",
   "nbconvert_exporter": "python",
   "pygments_lexer": "ipython3",
   "version": "3.9.1"
  }
 },
 "nbformat": 4,
 "nbformat_minor": 5
}
