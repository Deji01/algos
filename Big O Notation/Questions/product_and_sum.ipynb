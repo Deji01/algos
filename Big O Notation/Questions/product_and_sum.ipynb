{
 "cells": [
  {
   "cell_type": "code",
   "execution_count": 13,
   "id": "e6c4866f-6570-46d2-9411-1366f2c5a37d",
   "metadata": {},
   "outputs": [],
   "source": [
    "def foo(array):\n",
    "    sum_ = 0 # ----------- O(1)\n",
    "    product = 1 # ----------- O(1)\n",
    "    \n",
    "    for i in array: # ----------- O(N)\n",
    "        sum_ += i # ----------- O(1)\n",
    "    \n",
    "    for i in array: # ----------- O(N)\n",
    "        product *= i # ----------- O(1)\n",
    "     \n",
    "    print('Sum = '+str(sum_)+', Product = '+str(product)) # ----------- O(1)"
   ]
  },
  {
   "cell_type": "code",
   "execution_count": 14,
   "id": "7753018f-13c9-4bf0-99f9-82fca08178c4",
   "metadata": {},
   "outputs": [
    {
     "name": "stdout",
     "output_type": "stream",
     "text": [
      "Sum = 10, Product = 24\n"
     ]
    }
   ],
   "source": [
    "array_ = [1,2,3,4]\n",
    "foo(array_)"
   ]
  },
  {
   "cell_type": "markdown",
   "id": "00ad09ee-fe38-48a9-9223-3a8080906225",
   "metadata": {},
   "source": [
    "$O(N) + O (N) = O(2N) = O(N)$"
   ]
  }
 ],
 "metadata": {
  "kernelspec": {
   "display_name": "Python 3 (ipykernel)",
   "language": "python",
   "name": "python3"
  },
  "language_info": {
   "codemirror_mode": {
    "name": "ipython",
    "version": 3
   },
   "file_extension": ".py",
   "mimetype": "text/x-python",
   "name": "python",
   "nbconvert_exporter": "python",
   "pygments_lexer": "ipython3",
   "version": "3.9.1"
  }
 },
 "nbformat": 4,
 "nbformat_minor": 5
}
