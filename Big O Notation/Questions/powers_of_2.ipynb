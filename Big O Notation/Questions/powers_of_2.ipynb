{
 "cells": [
  {
   "cell_type": "code",
   "execution_count": 16,
   "id": "e180cfc7-fd12-449f-aebe-020311fe87d2",
   "metadata": {},
   "outputs": [],
   "source": [
    "def powersOf2(n):\n",
    "    if n<1: # -------- O(1)\n",
    "        return 0 # -------- O(1)\n",
    "    elif n ==1: # -------- O(1)\n",
    "        print(1) # -------- O(1)\n",
    "        return 1\n",
    "    else: # -------- O(1)\n",
    "        prev = powersOf2(int(n/2)) # -------- O(logN)\n",
    "        curr = prev*2 # -------- O(1)\n",
    "        print(curr) # -------- O(1)\n",
    "        return curr # -------- O(1)"
   ]
  },
  {
   "cell_type": "code",
   "execution_count": 17,
   "id": "113093ed-a3e8-4f47-afa0-9a7be6203dc8",
   "metadata": {},
   "outputs": [
    {
     "name": "stdout",
     "output_type": "stream",
     "text": [
      "1\n",
      "2\n",
      "4\n",
      "8\n",
      "16\n",
      "32\n"
     ]
    },
    {
     "data": {
      "text/plain": [
       "32"
      ]
     },
     "execution_count": 17,
     "metadata": {},
     "output_type": "execute_result"
    }
   ],
   "source": [
    "powersOf2(50)"
   ]
  },
  {
   "cell_type": "markdown",
   "id": "08eebc65-84fa-4a68-8ca1-64e419eae686",
   "metadata": {},
   "source": [
    "***Time Complexity*** : $O(logN)$"
   ]
  }
 ],
 "metadata": {
  "kernelspec": {
   "display_name": "Python 3 (ipykernel)",
   "language": "python",
   "name": "python3"
  },
  "language_info": {
   "codemirror_mode": {
    "name": "ipython",
    "version": 3
   },
   "file_extension": ".py",
   "mimetype": "text/x-python",
   "name": "python",
   "nbconvert_exporter": "python",
   "pygments_lexer": "ipython3",
   "version": "3.9.1"
  }
 },
 "nbformat": 4,
 "nbformat_minor": 5
}
