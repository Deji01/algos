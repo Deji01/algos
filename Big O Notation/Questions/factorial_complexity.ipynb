{
 "cells": [
  {
   "cell_type": "code",
   "execution_count": 1,
   "id": "c418b8a8-d423-44b6-85a9-380bbb99c0cb",
   "metadata": {},
   "outputs": [],
   "source": [
    "def factorial(n): # ------------- M(N)\n",
    "    if n < 0: # ------------- O(1)\n",
    "        return -1 # ------------- O(1)\n",
    "    elif n == 0: # ------------- O(1)\n",
    "        return 1 # ------------- O(1)\n",
    "    else: # ------------- O(1)\n",
    "        return n * factorial(n-1) # ------------- M(N-1)"
   ]
  },
  {
   "cell_type": "code",
   "execution_count": 2,
   "id": "30b3c513-0aba-43f5-ba79-f867056fea00",
   "metadata": {},
   "outputs": [
    {
     "data": {
      "text/plain": [
       "120"
      ]
     },
     "execution_count": 2,
     "metadata": {},
     "output_type": "execute_result"
    }
   ],
   "source": [
    "factorial(5)"
   ]
  },
  {
   "cell_type": "code",
   "execution_count": 3,
   "id": "8a7091bb-1abe-4706-ad3b-8f3a40f878ba",
   "metadata": {},
   "outputs": [],
   "source": [
    "# M(N)= O(1) + M(N-1)\n",
    "# M(0) = O(1)\n",
    "# M(N-1)= O(1) + M((N-1)-1)\n",
    "# M(N-2)= O(1) + M((N-2)-1)\n",
    "# M(N)= 1 + ( 1 + M((N-1)-1))\n",
    "# M(N)=2 + M(N-2)\n",
    "# = a + M(n-a)\n",
    "# to get M(o), a = n\n",
    "# = n + M(n-n)\n",
    "# = n + 1\n",
    "# = n "
   ]
  },
  {
   "cell_type": "markdown",
   "id": "268e6623-1186-4b72-89e6-26115e027741",
   "metadata": {},
   "source": [
    "***Time Complexity*** : $O(N)$"
   ]
  }
 ],
 "metadata": {
  "kernelspec": {
   "display_name": "Python 3 (ipykernel)",
   "language": "python",
   "name": "python3"
  },
  "language_info": {
   "codemirror_mode": {
    "name": "ipython",
    "version": 3
   },
   "file_extension": ".py",
   "mimetype": "text/x-python",
   "name": "python",
   "nbconvert_exporter": "python",
   "pygments_lexer": "ipython3",
   "version": "3.9.1"
  }
 },
 "nbformat": 4,
 "nbformat_minor": 5
}
