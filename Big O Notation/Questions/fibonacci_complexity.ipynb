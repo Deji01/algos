{
 "cells": [
  {
   "cell_type": "code",
   "execution_count": 15,
   "id": "de264456-411c-4dcd-912e-d92c4027d81c",
   "metadata": {},
   "outputs": [],
   "source": [
    "def fib(n): \n",
    "    if n<=0:\n",
    "        return 0\n",
    "    elif n == 1:\n",
    "        return 1\n",
    "    return fib(n-1) + fib(n-2)"
   ]
  },
  {
   "cell_type": "markdown",
   "id": "fff3803a-cb10-46ba-ba73-f05c281b049c",
   "metadata": {},
   "source": [
    "***Time complexity*** $O(2^N)$"
   ]
  },
  {
   "cell_type": "code",
   "execution_count": 14,
   "id": "3b49c1d0-3b1e-4020-9cf2-e3b3591b0085",
   "metadata": {},
   "outputs": [],
   "source": [
    "def allFib(n):\n",
    "    for i in range(n):\n",
    "        print(str(i)+' : '+str(fib(i)))"
   ]
  },
  {
   "cell_type": "code",
   "execution_count": 16,
   "id": "f8e00319-404c-4d7e-baf1-7b237a1f0088",
   "metadata": {
    "tags": []
   },
   "outputs": [
    {
     "name": "stdout",
     "output_type": "stream",
     "text": [
      "0 : 0\n",
      "1 : 1\n",
      "2 : 1\n",
      "3 : 2\n",
      "4 : 3\n",
      "5 : 5\n",
      "6 : 8\n",
      "7 : 13\n",
      "8 : 21\n",
      "9 : 34\n"
     ]
    }
   ],
   "source": [
    "allFib(10)"
   ]
  },
  {
   "cell_type": "code",
   "execution_count": 17,
   "id": "f9a2e8a8-9094-489e-ae8f-542e73ea7b34",
   "metadata": {},
   "outputs": [],
   "source": [
    "#Total work = 2**1 + 2**2 + 2**n\n",
    "# = (2**n+1)- 1\n",
    "# because it start from 1 and not 0\n",
    "# = (2**n+1)- 1 - 1\n",
    "#  = (2**n+1)- 2\n",
    "# = 2**n+1\n",
    "# = 2**n"
   ]
  },
  {
   "cell_type": "markdown",
   "id": "9210467f-8b48-4f50-8393-e111aed6151d",
   "metadata": {},
   "source": [
    "***Time complexity*** $O(2^N)$"
   ]
  }
 ],
 "metadata": {
  "kernelspec": {
   "display_name": "Python 3 (ipykernel)",
   "language": "python",
   "name": "python3"
  },
  "language_info": {
   "codemirror_mode": {
    "name": "ipython",
    "version": 3
   },
   "file_extension": ".py",
   "mimetype": "text/x-python",
   "name": "python",
   "nbconvert_exporter": "python",
   "pygments_lexer": "ipython3",
   "version": "3.9.1"
  }
 },
 "nbformat": 4,
 "nbformat_minor": 5
}
