{
 "cells": [
  {
   "cell_type": "markdown",
   "id": "597842a0-3761-434b-a8da-11736786e2de",
   "metadata": {},
   "source": [
    "Which of the following are equivalents of `O(N)` and why?\n",
    "- `O(N+P)`, where P < N/2\n",
    "- `O(2N)`\n",
    "- `O(N+logN)`\n",
    "- `O(N+NlogN)`\n",
    "- `O(N+M)`"
   ]
  },
  {
   "cell_type": "markdown",
   "id": "e002f672-bb4f-4d5f-8a0e-e34a03ae025b",
   "metadata": {},
   "source": [
    "- $ O(N+P), where P < N/2 $\n",
    " N > P i.e N is dominant -> `O(N)` \n",
    "- $ O(2N) $\n",
    "Drop constant 2 -> `O(N)`\n",
    "- $ O(N+logN) $\n",
    "N > logN -> `O(N)`\n",
    "- $ O(N+NlogN) $\n",
    "N < NlogN -> `O(NlogN)`\n",
    "- $ O(N+M) $\n",
    "`O(N)` is not equivalent to `O(N+M)` because N doesn't dominate M -> `O(N+M)`"
   ]
  }
 ],
 "metadata": {
  "kernelspec": {
   "display_name": "Python 3 (ipykernel)",
   "language": "python",
   "name": "python3"
  },
  "language_info": {
   "codemirror_mode": {
    "name": "ipython",
    "version": 3
   },
   "file_extension": ".py",
   "mimetype": "text/x-python",
   "name": "python",
   "nbconvert_exporter": "python",
   "pygments_lexer": "ipython3",
   "version": "3.9.1"
  }
 },
 "nbformat": 4,
 "nbformat_minor": 5
}
