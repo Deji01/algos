{
 "cells": [
  {
   "cell_type": "code",
   "execution_count": 6,
   "id": "1a0b8068-4143-4bb2-ab4e-4fc4d68590e6",
   "metadata": {},
   "outputs": [],
   "source": [
    "def printUnorderedPairs(array):\n",
    "    for i in range(0, len(array)): # ---------- O(N)\n",
    "        for j in range(i+1, len(array)): # ---------- O(N/2)\n",
    "            print(str(array[i])+','+str(array[j])) # ---------- O(1)"
   ]
  },
  {
   "cell_type": "code",
   "execution_count": 7,
   "id": "5ff04ea3-4c18-4dfa-84a4-bd804c9847ee",
   "metadata": {},
   "outputs": [
    {
     "name": "stdout",
     "output_type": "stream",
     "text": [
      "1,2\n",
      "1,3\n",
      "2,3\n"
     ]
    }
   ],
   "source": [
    "arr = [1,2,3]\n",
    "printUnorderedPairs(arr)"
   ]
  },
  {
   "cell_type": "code",
   "execution_count": 9,
   "id": "ab4d2881-93ab-4fe6-95df-ede0c71505e7",
   "metadata": {},
   "outputs": [],
   "source": [
    "# N * N/2\n",
    "# N**2/2\n",
    "# N**2"
   ]
  },
  {
   "cell_type": "markdown",
   "id": "2e1d6399-3935-4eba-992b-0b9a5cb1d806",
   "metadata": {},
   "source": [
    "***OR***"
   ]
  },
  {
   "cell_type": "code",
   "execution_count": 11,
   "id": "d5699e79-35e9-4528-8786-b5943b4f35d0",
   "metadata": {},
   "outputs": [],
   "source": [
    "# (n-1)+(n-2)+(n-3)+..+ 2 + 1\n",
    "# n(n-1)/2\n",
    "# n**2/2 + n\n",
    "# n**2"
   ]
  },
  {
   "cell_type": "markdown",
   "id": "4e2801bd-74c2-4835-bfd4-3cb202d067e7",
   "metadata": {},
   "source": [
    "$O(N^2)$"
   ]
  },
  {
   "cell_type": "code",
   "execution_count": 18,
   "id": "4b74962e-a072-4d4d-aa98-09c45a6fa495",
   "metadata": {},
   "outputs": [],
   "source": [
    "def printUnorderedPairs(arrayA, arrayB):\n",
    "    for i in range(len(arrayA)): # -------------- O(a)\n",
    "        for j in range(len(arrayB)): # -------------- O(b)\n",
    "            if arrayA[i] < arrayB[j]: # -------------- O(1)\n",
    "                print(str(arrayA[i]) + ',' + str(arrayB[j])) # -------------- O(1)"
   ]
  },
  {
   "cell_type": "code",
   "execution_count": 17,
   "id": "26a36345-9746-4585-9e78-efe120c0d609",
   "metadata": {},
   "outputs": [
    {
     "name": "stdout",
     "output_type": "stream",
     "text": [
      "5,7\n",
      "5,8\n",
      "6,7\n",
      "6,8\n"
     ]
    }
   ],
   "source": [
    "arrayA = [5,6]\n",
    "arrayB = [7,8]\n",
    "printUnorderedPairs(arrayA, arrayB)"
   ]
  },
  {
   "cell_type": "markdown",
   "id": "ae0745ff-1b31-481d-bbf2-ee82f2c1b38b",
   "metadata": {},
   "source": [
    "- b = len(arrayB)\n",
    "- a = len(arrayA)"
   ]
  },
  {
   "cell_type": "code",
   "execution_count": 20,
   "id": "c74d5a2c-99bc-4261-b7b3-2b1eab2d518c",
   "metadata": {},
   "outputs": [],
   "source": [
    "# This isn't a quadratic function because the input takes two different arrays.\n",
    "#The outer and inner loops run through different arrays."
   ]
  },
  {
   "cell_type": "markdown",
   "id": "6e5415df-2713-4c1f-9290-3f9b6f4cca72",
   "metadata": {},
   "source": [
    "***Time Complexity*** : $O(ab)$"
   ]
  },
  {
   "cell_type": "code",
   "execution_count": 25,
   "id": "209e9f31-f341-466f-af0b-7d2404c0a0c9",
   "metadata": {},
   "outputs": [],
   "source": [
    "def printUnorderedPairs(arrayA, arrayB):\n",
    "    for i in range(len(arrayA)): # -------------- O(a)\n",
    "        for j in range(len(arrayB)): # -------------- O(b)\n",
    "            for k in range(0, 2): # -------------- O(1)\n",
    "                print(str(arrayA[i]) + ',' + str(arrayB[j])) # -------------- O(1)"
   ]
  },
  {
   "cell_type": "code",
   "execution_count": 26,
   "id": "95d3ceb3-596e-4fbe-a1ab-41086eab21a5",
   "metadata": {
    "tags": []
   },
   "outputs": [
    {
     "name": "stdout",
     "output_type": "stream",
     "text": [
      "5,7\n",
      "5,7\n",
      "5,8\n",
      "5,8\n",
      "6,7\n",
      "6,7\n",
      "6,8\n",
      "6,8\n"
     ]
    }
   ],
   "source": [
    "arrayA = [5,6]\n",
    "arrayB = [7,8]\n",
    "printUnorderedPairs(arrayA, arrayB)"
   ]
  },
  {
   "cell_type": "markdown",
   "id": "00045d8c-481c-480f-9f8b-43332ad7487c",
   "metadata": {},
   "source": [
    "***Time Complexity*** : $O(ab)$"
   ]
  }
 ],
 "metadata": {
  "kernelspec": {
   "display_name": "Python 3 (ipykernel)",
   "language": "python",
   "name": "python3"
  },
  "language_info": {
   "codemirror_mode": {
    "name": "ipython",
    "version": 3
   },
   "file_extension": ".py",
   "mimetype": "text/x-python",
   "name": "python",
   "nbconvert_exporter": "python",
   "pygments_lexer": "ipython3",
   "version": "3.9.1"
  }
 },
 "nbformat": 4,
 "nbformat_minor": 5
}
