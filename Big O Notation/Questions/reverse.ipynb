{
 "cells": [
  {
   "cell_type": "code",
   "execution_count": 4,
   "id": "b951d652-1269-4bbf-a0a2-9e959966be7c",
   "metadata": {},
   "outputs": [],
   "source": [
    "def reverse(array):\n",
    "    for i in range(0, len(array)//2): # ------- O(N/2)\n",
    "        other = len(array)-i-1 # ------- O(1)\n",
    "        temp = array[i] # ------- O(1)\n",
    "        array[i] = array[other] # ------- O(1)\n",
    "        array[other] = temp # ------- O(1)\n",
    "    print(array) # ------- O(1)"
   ]
  },
  {
   "cell_type": "code",
   "execution_count": 5,
   "id": "83d93f9d-a359-4e7f-bef5-928e94312b03",
   "metadata": {},
   "outputs": [],
   "source": [
    "arr = [1,6, 3, 9, 2]"
   ]
  },
  {
   "cell_type": "code",
   "execution_count": 6,
   "id": "b5969eef-48fb-40ab-9d31-4ad44352ed59",
   "metadata": {},
   "outputs": [
    {
     "name": "stdout",
     "output_type": "stream",
     "text": [
      "[2, 9, 3, 6, 1]\n"
     ]
    }
   ],
   "source": [
    "reverse(arr)"
   ]
  },
  {
   "cell_type": "code",
   "execution_count": 7,
   "id": "c360decf-4623-4ed7-a658-5f00408efab2",
   "metadata": {},
   "outputs": [],
   "source": [
    "# O(N/2) = O(N)"
   ]
  },
  {
   "cell_type": "markdown",
   "id": "62f82f35-753e-409f-a766-a6f22999c9eb",
   "metadata": {},
   "source": [
    "***Time Complexity*** : $O(N)$"
   ]
  }
 ],
 "metadata": {
  "kernelspec": {
   "display_name": "Python 3 (ipykernel)",
   "language": "python",
   "name": "python3"
  },
  "language_info": {
   "codemirror_mode": {
    "name": "ipython",
    "version": 3
   },
   "file_extension": ".py",
   "mimetype": "text/x-python",
   "name": "python",
   "nbconvert_exporter": "python",
   "pygments_lexer": "ipython3",
   "version": "3.9.1"
  }
 },
 "nbformat": 4,
 "nbformat_minor": 5
}
