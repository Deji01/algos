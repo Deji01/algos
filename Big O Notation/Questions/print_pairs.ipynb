{
 "cells": [
  {
   "cell_type": "code",
   "execution_count": 1,
   "id": "83cec932-e6a5-467b-8d23-9258ba6f1e8c",
   "metadata": {},
   "outputs": [],
   "source": [
    "def printPairs(array):\n",
    "    for i in array: # ---------- O(N**2)\n",
    "        for j in array: # ---------- O(N)\n",
    "            print(str(i)+','+str(j)) # ---------- O(1)"
   ]
  },
  {
   "cell_type": "code",
   "execution_count": 6,
   "id": "5b20c761-8252-4930-9fb3-18c65ff32edb",
   "metadata": {},
   "outputs": [],
   "source": [
    "array_ = [i-1 for i in range (2,4)]"
   ]
  },
  {
   "cell_type": "code",
   "execution_count": 7,
   "id": "0652f39e-202f-44ef-9c9b-6c0b0494bd91",
   "metadata": {},
   "outputs": [
    {
     "name": "stdout",
     "output_type": "stream",
     "text": [
      "1,1\n",
      "1,2\n",
      "2,1\n",
      "2,2\n"
     ]
    }
   ],
   "source": [
    "printPairs(array_)"
   ]
  },
  {
   "cell_type": "markdown",
   "id": "e7aac26d-ac76-4414-a4a7-759831cb78e7",
   "metadata": {},
   "source": [
    "***Time complexity***"
   ]
  },
  {
   "cell_type": "markdown",
   "id": "f881c1e7-d3be-43ef-9362-fb3d2c5833f9",
   "metadata": {},
   "source": [
    " $O(N^2)+O(N) + O(1)$"
   ]
  },
  {
   "cell_type": "markdown",
   "id": "a2e517be-5083-4c00-ba25-5822c2f231b6",
   "metadata": {},
   "source": [
    "$O(N^2) + O(N)$"
   ]
  },
  {
   "cell_type": "markdown",
   "id": "5247c276-5e84-468a-bc95-6d3ce80c9697",
   "metadata": {},
   "source": [
    "$O(N^2)$"
   ]
  }
 ],
 "metadata": {
  "kernelspec": {
   "display_name": "Python 3 (ipykernel)",
   "language": "python",
   "name": "python3"
  },
  "language_info": {
   "codemirror_mode": {
    "name": "ipython",
    "version": 3
   },
   "file_extension": ".py",
   "mimetype": "text/x-python",
   "name": "python",
   "nbconvert_exporter": "python",
   "pygments_lexer": "ipython3",
   "version": "3.9.1"
  }
 },
 "nbformat": 4,
 "nbformat_minor": 5
}
