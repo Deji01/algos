{
 "cells": [
  {
   "cell_type": "code",
   "execution_count": 1,
   "id": "dbaa0e46",
   "metadata": {},
   "outputs": [],
   "source": [
    "myList = [i for i in range(1,8)]"
   ]
  },
  {
   "cell_type": "code",
   "execution_count": 2,
   "id": "3c045bed",
   "metadata": {},
   "outputs": [
    {
     "data": {
      "text/plain": [
       "[1, 2, 3, 4, 5, 6, 7]"
      ]
     },
     "execution_count": 2,
     "metadata": {},
     "output_type": "execute_result"
    }
   ],
   "source": [
    "myList"
   ]
  },
  {
   "cell_type": "code",
   "execution_count": 3,
   "id": "04dc65d7",
   "metadata": {},
   "outputs": [
    {
     "name": "stdout",
     "output_type": "stream",
     "text": [
      "index 0, value 1\n",
      "index 1, value 2\n",
      "index 2, value 3\n",
      "index 3, value 4\n",
      "index 4, value 5\n",
      "index 5, value 6\n",
      "index 6, value 7\n"
     ]
    }
   ],
   "source": [
    "for i,v in enumerate(myList):\n",
    "    print(f'index {i}, value {v}')"
   ]
  },
  {
   "cell_type": "code",
   "execution_count": 4,
   "id": "3bf88e66",
   "metadata": {},
   "outputs": [
    {
     "data": {
      "text/plain": [
       "[1, 2, 33, 4, 5, 6, 7]"
      ]
     },
     "execution_count": 4,
     "metadata": {},
     "output_type": "execute_result"
    }
   ],
   "source": [
    "myList[2] = 33\n",
    "myList"
   ]
  },
  {
   "cell_type": "code",
   "execution_count": 5,
   "id": "036acc09",
   "metadata": {},
   "outputs": [
    {
     "data": {
      "text/plain": [
       "[1, 2, 33, 4, 5, 55, 7]"
      ]
     },
     "execution_count": 5,
     "metadata": {},
     "output_type": "execute_result"
    }
   ],
   "source": [
    "myList[5] = 55\n",
    "myList"
   ]
  },
  {
   "cell_type": "markdown",
   "id": "19b71805",
   "metadata": {},
   "source": [
    "***Time complexity: O(1)***"
   ]
  },
  {
   "cell_type": "markdown",
   "id": "5a61d5d7",
   "metadata": {},
   "source": [
    "***Space complexity: O(1)***"
   ]
  },
  {
   "cell_type": "code",
   "execution_count": 6,
   "id": "66a783f3",
   "metadata": {},
   "outputs": [
    {
     "data": {
      "text/plain": [
       "[1, 2, 3, 33, 4, 5, 55, 7]"
      ]
     },
     "execution_count": 6,
     "metadata": {},
     "output_type": "execute_result"
    }
   ],
   "source": [
    "myList.insert(2, 3)\n",
    "myList"
   ]
  },
  {
   "cell_type": "code",
   "execution_count": 7,
   "id": "95965b0e",
   "metadata": {},
   "outputs": [
    {
     "data": {
      "text/plain": [
       "[1, 2, 3, 33, 4, 6, 5, 55, 7]"
      ]
     },
     "execution_count": 7,
     "metadata": {},
     "output_type": "execute_result"
    }
   ],
   "source": [
    "myList.insert(5,6)\n",
    "myList"
   ]
  },
  {
   "cell_type": "markdown",
   "id": "b95d5d77",
   "metadata": {},
   "source": [
    "***Time complexity: O(n)***"
   ]
  },
  {
   "cell_type": "markdown",
   "id": "5fad99b1",
   "metadata": {},
   "source": [
    "***Space complexity: O(1)***"
   ]
  },
  {
   "cell_type": "code",
   "execution_count": 8,
   "id": "7c852171",
   "metadata": {},
   "outputs": [
    {
     "data": {
      "text/plain": [
       "[1, 2, 3, 33, 4, 6, 5, 55, 7, 8]"
      ]
     },
     "execution_count": 8,
     "metadata": {},
     "output_type": "execute_result"
    }
   ],
   "source": [
    "myList.append(8)\n",
    "\n",
    "myList"
   ]
  },
  {
   "cell_type": "code",
   "execution_count": 9,
   "id": "c55ceb67",
   "metadata": {},
   "outputs": [
    {
     "data": {
      "text/plain": [
       "[1, 2, 3, 33, 4, 6, 5, 55, 7, 8, 77]"
      ]
     },
     "execution_count": 9,
     "metadata": {},
     "output_type": "execute_result"
    }
   ],
   "source": [
    "myList.append(77)\n",
    "myList"
   ]
  },
  {
   "cell_type": "markdown",
   "id": "a2a632f7",
   "metadata": {},
   "source": [
    "***Time complexity: O(1)***"
   ]
  },
  {
   "cell_type": "code",
   "execution_count": 10,
   "id": "31577fea",
   "metadata": {},
   "outputs": [],
   "source": [
    "newList = [2.5, 9.6, 4.4, 58]"
   ]
  },
  {
   "cell_type": "code",
   "execution_count": 11,
   "id": "caeef78b",
   "metadata": {},
   "outputs": [],
   "source": [
    "myList.extend(newList)"
   ]
  },
  {
   "cell_type": "code",
   "execution_count": 12,
   "id": "b02d8154",
   "metadata": {},
   "outputs": [
    {
     "data": {
      "text/plain": [
       "[1, 2, 3, 33, 4, 6, 5, 55, 7, 8, 77, 2.5, 9.6, 4.4, 58]"
      ]
     },
     "execution_count": 12,
     "metadata": {},
     "output_type": "execute_result"
    }
   ],
   "source": [
    "myList"
   ]
  },
  {
   "cell_type": "markdown",
   "id": "0a002112",
   "metadata": {},
   "source": [
    "***Time complexity: O(n)***"
   ]
  },
  {
   "cell_type": "markdown",
   "id": "b443273e",
   "metadata": {},
   "source": [
    "***Space complexity: O(1)***"
   ]
  },
  {
   "cell_type": "code",
   "execution_count": 20,
   "id": "a630ebfd",
   "metadata": {},
   "outputs": [
    {
     "name": "stdout",
     "output_type": "stream",
     "text": [
      "2.5 removed from list\n",
      "9.6 removed from list\n",
      "4.4 removed from list\n",
      "58 removed from list\n"
     ]
    },
    {
     "data": {
      "text/plain": [
       "[1, 2, 3, 33, 4, 6, 5, 55, 7, 8, 77]"
      ]
     },
     "execution_count": 20,
     "metadata": {},
     "output_type": "execute_result"
    }
   ],
   "source": [
    "for i in newList:\n",
    "    myList.remove(i)\n",
    "    print(f'{i} removed from list')\n",
    "myList"
   ]
  },
  {
   "cell_type": "code",
   "execution_count": 21,
   "id": "b333b386",
   "metadata": {},
   "outputs": [],
   "source": [
    "myList[:3] = [5,'a',True]"
   ]
  },
  {
   "cell_type": "code",
   "execution_count": 22,
   "id": "5a9302cf",
   "metadata": {},
   "outputs": [
    {
     "data": {
      "text/plain": [
       "[5, 'a', True, 33, 4, 6, 5, 55, 7, 8, 77]"
      ]
     },
     "execution_count": 22,
     "metadata": {},
     "output_type": "execute_result"
    }
   ],
   "source": [
    "myList"
   ]
  },
  {
   "cell_type": "code",
   "execution_count": 23,
   "id": "cf77f6b2",
   "metadata": {},
   "outputs": [
    {
     "data": {
      "text/plain": [
       "77"
      ]
     },
     "execution_count": 23,
     "metadata": {},
     "output_type": "execute_result"
    }
   ],
   "source": [
    "myList.pop()"
   ]
  },
  {
   "cell_type": "markdown",
   "id": "18b39611",
   "metadata": {},
   "source": [
    "***Time complexity: O(1)***"
   ]
  },
  {
   "cell_type": "code",
   "execution_count": 24,
   "id": "9e7060d4",
   "metadata": {},
   "outputs": [
    {
     "data": {
      "text/plain": [
       "[5, 'a', True, 33, 4, 6, 5, 55, 7, 8]"
      ]
     },
     "execution_count": 24,
     "metadata": {},
     "output_type": "execute_result"
    }
   ],
   "source": [
    "myList"
   ]
  },
  {
   "cell_type": "code",
   "execution_count": 25,
   "id": "c3ec8445",
   "metadata": {},
   "outputs": [
    {
     "data": {
      "text/plain": [
       "'a'"
      ]
     },
     "execution_count": 25,
     "metadata": {},
     "output_type": "execute_result"
    }
   ],
   "source": [
    "myList.pop(1)"
   ]
  },
  {
   "cell_type": "markdown",
   "id": "4fe34b24",
   "metadata": {},
   "source": [
    "***Time complexity: O(n)***"
   ]
  },
  {
   "cell_type": "code",
   "execution_count": 26,
   "id": "6bb8152d",
   "metadata": {},
   "outputs": [
    {
     "data": {
      "text/plain": [
       "[5, True, 33, 4, 6, 5, 55, 7, 8]"
      ]
     },
     "execution_count": 26,
     "metadata": {},
     "output_type": "execute_result"
    }
   ],
   "source": [
    "myList"
   ]
  },
  {
   "cell_type": "code",
   "execution_count": 27,
   "id": "df5172bd",
   "metadata": {},
   "outputs": [],
   "source": [
    "true = myList.pop(1)"
   ]
  },
  {
   "cell_type": "code",
   "execution_count": 28,
   "id": "cc188693",
   "metadata": {},
   "outputs": [
    {
     "name": "stdout",
     "output_type": "stream",
     "text": [
      "True\n"
     ]
    }
   ],
   "source": [
    "print(true)"
   ]
  },
  {
   "cell_type": "code",
   "execution_count": 29,
   "id": "e204fb40",
   "metadata": {},
   "outputs": [
    {
     "data": {
      "text/plain": [
       "[5, 33, 4, 6, 5, 55, 7, 8]"
      ]
     },
     "execution_count": 29,
     "metadata": {},
     "output_type": "execute_result"
    }
   ],
   "source": [
    "myList"
   ]
  },
  {
   "cell_type": "code",
   "execution_count": 31,
   "id": "43738453",
   "metadata": {},
   "outputs": [],
   "source": [
    "del myList[-3]"
   ]
  },
  {
   "cell_type": "code",
   "execution_count": 32,
   "id": "4a6337bb",
   "metadata": {},
   "outputs": [
    {
     "data": {
      "text/plain": [
       "[5, 33, 4, 6, 5, 7, 8]"
      ]
     },
     "execution_count": 32,
     "metadata": {},
     "output_type": "execute_result"
    }
   ],
   "source": [
    " myList"
   ]
  },
  {
   "cell_type": "code",
   "execution_count": 33,
   "id": "02d52c77",
   "metadata": {},
   "outputs": [],
   "source": [
    "del myList[:2]"
   ]
  },
  {
   "cell_type": "code",
   "execution_count": 34,
   "id": "dd1a3972",
   "metadata": {},
   "outputs": [
    {
     "data": {
      "text/plain": [
       "[4, 6, 5, 7, 8]"
      ]
     },
     "execution_count": 34,
     "metadata": {},
     "output_type": "execute_result"
    }
   ],
   "source": [
    "myList"
   ]
  },
  {
   "cell_type": "markdown",
   "id": "327a2970",
   "metadata": {},
   "source": [
    "***Time complexity: O(n)***"
   ]
  },
  {
   "cell_type": "code",
   "execution_count": 37,
   "id": "09ec77f4",
   "metadata": {},
   "outputs": [],
   "source": [
    "list_ = [i for i in range(10,100, 10)]"
   ]
  },
  {
   "cell_type": "code",
   "execution_count": 38,
   "id": "d7132b25",
   "metadata": {},
   "outputs": [
    {
     "data": {
      "text/plain": [
       "[10, 20, 30, 40, 50, 60, 70, 80, 90]"
      ]
     },
     "execution_count": 38,
     "metadata": {},
     "output_type": "execute_result"
    }
   ],
   "source": [
    "list_"
   ]
  },
  {
   "cell_type": "code",
   "execution_count": 39,
   "id": "73c1316e",
   "metadata": {},
   "outputs": [
    {
     "name": "stdout",
     "output_type": "stream",
     "text": [
      "1\n"
     ]
    }
   ],
   "source": [
    "if 20 in list_:\n",
    "    print(list_.index(20))\n",
    "else:\n",
    "    print('The value does not exist in the list')"
   ]
  },
  {
   "cell_type": "markdown",
   "id": "47c426ff",
   "metadata": {},
   "source": [
    "***Time complexity: O(n)***"
   ]
  },
  {
   "cell_type": "code",
   "execution_count": 40,
   "id": "bb3d92ef",
   "metadata": {},
   "outputs": [],
   "source": [
    "def searchinList(list, value):\n",
    "    for i in list:\n",
    "        if i == value:\n",
    "            return list.index(value)\n",
    "    return 'The value does not exist in the list'"
   ]
  },
  {
   "cell_type": "code",
   "execution_count": 43,
   "id": "1e504470",
   "metadata": {},
   "outputs": [
    {
     "data": {
      "text/plain": [
       "4"
      ]
     },
     "execution_count": 43,
     "metadata": {},
     "output_type": "execute_result"
    }
   ],
   "source": [
    "searchinList(list_,50)"
   ]
  },
  {
   "cell_type": "code",
   "execution_count": 44,
   "id": "fa2c6c78",
   "metadata": {},
   "outputs": [
    {
     "data": {
      "text/plain": [
       "'The value does not exist in the list'"
      ]
     },
     "execution_count": 44,
     "metadata": {},
     "output_type": "execute_result"
    }
   ],
   "source": [
    "searchinList(list_,100)"
   ]
  },
  {
   "cell_type": "markdown",
   "id": "bd4bbe98",
   "metadata": {},
   "source": [
    "***Time complexity: O(n)***"
   ]
  }
 ],
 "metadata": {
  "kernelspec": {
   "display_name": "Python 3 (ipykernel)",
   "language": "python",
   "name": "python3"
  },
  "language_info": {
   "codemirror_mode": {
    "name": "ipython",
    "version": 3
   },
   "file_extension": ".py",
   "mimetype": "text/x-python",
   "name": "python",
   "nbconvert_exporter": "python",
   "pygments_lexer": "ipython3",
   "version": "3.9.1"
  }
 },
 "nbformat": 4,
 "nbformat_minor": 5
}
