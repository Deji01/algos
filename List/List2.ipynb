{
 "cells": [
  {
   "cell_type": "markdown",
   "id": "e4440bbe",
   "metadata": {},
   "source": [
    "## List Operations and Functions"
   ]
  },
  {
   "cell_type": "code",
   "execution_count": 4,
   "id": "d441a010",
   "metadata": {},
   "outputs": [],
   "source": [
    "list_a = [1,2,3,4,5]\n",
    "list_b = [6,7,8,9,10]"
   ]
  },
  {
   "cell_type": "code",
   "execution_count": 5,
   "id": "dbfc413e",
   "metadata": {},
   "outputs": [],
   "source": [
    "list_c = list_a + list_b"
   ]
  },
  {
   "cell_type": "code",
   "execution_count": 6,
   "id": "f0fec74c",
   "metadata": {},
   "outputs": [
    {
     "data": {
      "text/plain": [
       "[1, 2, 3, 4, 5, 6, 7, 8, 9, 10]"
      ]
     },
     "execution_count": 6,
     "metadata": {},
     "output_type": "execute_result"
    }
   ],
   "source": [
    "list_c"
   ]
  },
  {
   "cell_type": "code",
   "execution_count": 7,
   "id": "2ec0050e",
   "metadata": {},
   "outputs": [],
   "source": [
    "a = [0,1]"
   ]
  },
  {
   "cell_type": "code",
   "execution_count": 8,
   "id": "fc517256",
   "metadata": {},
   "outputs": [
    {
     "data": {
      "text/plain": [
       "[0, 1, 0, 1, 0, 1, 0, 1]"
      ]
     },
     "execution_count": 8,
     "metadata": {},
     "output_type": "execute_result"
    }
   ],
   "source": [
    "a*4"
   ]
  },
  {
   "cell_type": "code",
   "execution_count": 10,
   "id": "a8037cc3",
   "metadata": {},
   "outputs": [
    {
     "data": {
      "text/plain": [
       "[1, 2, 3, 4, 5, 0, 1, 0, 1, 0, 1, 0, 1]"
      ]
     },
     "execution_count": 10,
     "metadata": {},
     "output_type": "execute_result"
    }
   ],
   "source": [
    "new_ = list_a + (a*4)\n",
    "new_"
   ]
  },
  {
   "cell_type": "code",
   "execution_count": 11,
   "id": "44cc82c1",
   "metadata": {},
   "outputs": [
    {
     "data": {
      "text/plain": [
       "13"
      ]
     },
     "execution_count": 11,
     "metadata": {},
     "output_type": "execute_result"
    }
   ],
   "source": [
    "len(new_)"
   ]
  },
  {
   "cell_type": "code",
   "execution_count": 12,
   "id": "0ec6d1ae",
   "metadata": {},
   "outputs": [
    {
     "data": {
      "text/plain": [
       "10"
      ]
     },
     "execution_count": 12,
     "metadata": {},
     "output_type": "execute_result"
    }
   ],
   "source": [
    "max(list_c)"
   ]
  },
  {
   "cell_type": "code",
   "execution_count": 13,
   "id": "cc3efe2e",
   "metadata": {},
   "outputs": [
    {
     "data": {
      "text/plain": [
       "1"
      ]
     },
     "execution_count": 13,
     "metadata": {},
     "output_type": "execute_result"
    }
   ],
   "source": [
    "min(list_c)"
   ]
  },
  {
   "cell_type": "code",
   "execution_count": 14,
   "id": "a251eb74",
   "metadata": {},
   "outputs": [
    {
     "data": {
      "text/plain": [
       "40"
      ]
     },
     "execution_count": 14,
     "metadata": {},
     "output_type": "execute_result"
    }
   ],
   "source": [
    "sum(list_b)"
   ]
  },
  {
   "cell_type": "code",
   "execution_count": 16,
   "id": "bbcec33a",
   "metadata": {},
   "outputs": [],
   "source": [
    "avg_c = sum(list_c)/len(list_c)"
   ]
  },
  {
   "cell_type": "code",
   "execution_count": 17,
   "id": "e419987d",
   "metadata": {},
   "outputs": [
    {
     "data": {
      "text/plain": [
       "5.5"
      ]
     },
     "execution_count": 17,
     "metadata": {},
     "output_type": "execute_result"
    }
   ],
   "source": [
    "avg_c"
   ]
  },
  {
   "cell_type": "code",
   "execution_count": 21,
   "id": "d8446f0b",
   "metadata": {},
   "outputs": [],
   "source": [
    "def average():\n",
    "    total = 0\n",
    "    count = 0\n",
    "    while True:\n",
    "        inp = input('Enter a number: ')\n",
    "        if inp.lower() == 'done': \n",
    "            break\n",
    "        value = float(inp)\n",
    "        total = total + value\n",
    "        count = count + 1\n",
    "        average = total / count\n",
    "        \n",
    "    return f'Average =  {average}'        "
   ]
  },
  {
   "cell_type": "code",
   "execution_count": 22,
   "id": "69ce63e7",
   "metadata": {},
   "outputs": [
    {
     "name": "stdout",
     "output_type": "stream",
     "text": [
      "Enter a number: 1\n",
      "Enter a number: 2\n",
      "Enter a number: 3\n",
      "Enter a number: 4\n",
      "Enter a number: 5\n",
      "Enter a number: 6\n",
      "Enter a number: 7\n",
      "Enter a number: 8\n",
      "Enter a number: 9\n",
      "Enter a number: 10\n",
      "Enter a number: DONE\n"
     ]
    },
    {
     "data": {
      "text/plain": [
       "'Average =  5.5'"
      ]
     },
     "execution_count": 22,
     "metadata": {},
     "output_type": "execute_result"
    }
   ],
   "source": [
    "average()"
   ]
  },
  {
   "cell_type": "code",
   "execution_count": 46,
   "id": "df0e1c1d",
   "metadata": {},
   "outputs": [],
   "source": [
    "def listAverage():\n",
    "    list_ = list()\n",
    "    while True:\n",
    "        inp = input('Enter a number: ')\n",
    "        if inp.lower() == 'done': \n",
    "            break\n",
    "        value = float(inp)\n",
    "        list_.append(value)\n",
    "    total = sum(list_)\n",
    "    length = len(list_)\n",
    "    avg = total/length\n",
    "    print(f'The average of list {str(list_)} is {avg}')"
   ]
  },
  {
   "cell_type": "code",
   "execution_count": 47,
   "id": "56c4fec1",
   "metadata": {},
   "outputs": [
    {
     "name": "stdout",
     "output_type": "stream",
     "text": [
      "Enter a number: 3\n",
      "Enter a number: 6\n",
      "Enter a number: 9\n",
      "Enter a number: 12\n",
      "Enter a number: done\n",
      "The average of list [3.0, 6.0, 9.0, 12.0] is 7.5\n"
     ]
    }
   ],
   "source": [
    "listAverage()"
   ]
  },
  {
   "cell_type": "code",
   "execution_count": 48,
   "id": "0bd171a6",
   "metadata": {},
   "outputs": [],
   "source": [
    "word = 'notebook'"
   ]
  },
  {
   "cell_type": "code",
   "execution_count": 49,
   "id": "a869558f",
   "metadata": {},
   "outputs": [
    {
     "data": {
      "text/plain": [
       "['n', 'o', 't', 'e', 'b', 'o', 'o', 'k']"
      ]
     },
     "execution_count": 49,
     "metadata": {},
     "output_type": "execute_result"
    }
   ],
   "source": [
    "list(word)"
   ]
  },
  {
   "cell_type": "code",
   "execution_count": 50,
   "id": "f4d3629e",
   "metadata": {},
   "outputs": [],
   "source": [
    "words = 'jupyter notebook'"
   ]
  },
  {
   "cell_type": "code",
   "execution_count": 51,
   "id": "f81fbcf1",
   "metadata": {},
   "outputs": [
    {
     "data": {
      "text/plain": [
       "['j',\n",
       " 'u',\n",
       " 'p',\n",
       " 'y',\n",
       " 't',\n",
       " 'e',\n",
       " 'r',\n",
       " ' ',\n",
       " 'n',\n",
       " 'o',\n",
       " 't',\n",
       " 'e',\n",
       " 'b',\n",
       " 'o',\n",
       " 'o',\n",
       " 'k']"
      ]
     },
     "execution_count": 51,
     "metadata": {},
     "output_type": "execute_result"
    }
   ],
   "source": [
    "list(words)"
   ]
  },
  {
   "cell_type": "code",
   "execution_count": 52,
   "id": "b5790a5a",
   "metadata": {},
   "outputs": [
    {
     "data": {
      "text/plain": [
       "['jupyter', 'notebook']"
      ]
     },
     "execution_count": 52,
     "metadata": {},
     "output_type": "execute_result"
    }
   ],
   "source": [
    "words.split()"
   ]
  },
  {
   "cell_type": "code",
   "execution_count": 53,
   "id": "f2a624f9",
   "metadata": {},
   "outputs": [],
   "source": [
    "spam = 'spam-spam-spam'\n",
    "delimeter = '-'"
   ]
  },
  {
   "cell_type": "code",
   "execution_count": 54,
   "id": "d19e4b3a",
   "metadata": {},
   "outputs": [
    {
     "data": {
      "text/plain": [
       "['spam-spam-spam']"
      ]
     },
     "execution_count": 54,
     "metadata": {},
     "output_type": "execute_result"
    }
   ],
   "source": [
    "spam.split()"
   ]
  },
  {
   "cell_type": "code",
   "execution_count": 56,
   "id": "9e407688",
   "metadata": {},
   "outputs": [
    {
     "data": {
      "text/plain": [
       "['spam', 'spam', 'spam']"
      ]
     },
     "execution_count": 56,
     "metadata": {},
     "output_type": "execute_result"
    }
   ],
   "source": [
    "split_ = spam.split(delimeter)\n",
    "split_"
   ]
  },
  {
   "cell_type": "code",
   "execution_count": 57,
   "id": "17869e77",
   "metadata": {},
   "outputs": [
    {
     "data": {
      "text/plain": [
       "'spam-spam-spam'"
      ]
     },
     "execution_count": 57,
     "metadata": {},
     "output_type": "execute_result"
    }
   ],
   "source": [
    "delimeter.join(split_)"
   ]
  },
  {
   "cell_type": "code",
   "execution_count": null,
   "id": "094887f4",
   "metadata": {},
   "outputs": [],
   "source": []
  }
 ],
 "metadata": {
  "kernelspec": {
   "display_name": "Python 3 (ipykernel)",
   "language": "python",
   "name": "python3"
  },
  "language_info": {
   "codemirror_mode": {
    "name": "ipython",
    "version": 3
   },
   "file_extension": ".py",
   "mimetype": "text/x-python",
   "name": "python",
   "nbconvert_exporter": "python",
   "pygments_lexer": "ipython3",
   "version": "3.9.1"
  }
 },
 "nbformat": 4,
 "nbformat_minor": 5
}
