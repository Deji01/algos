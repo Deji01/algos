{
 "cells": [
  {
   "cell_type": "markdown",
   "id": "9e2264ef",
   "metadata": {},
   "source": [
    "# Built-in Array Functions"
   ]
  },
  {
   "cell_type": "code",
   "execution_count": 1,
   "id": "b3b8f4cd",
   "metadata": {},
   "outputs": [],
   "source": [
    "from array import *"
   ]
  },
  {
   "cell_type": "markdown",
   "id": "d70962c4",
   "metadata": {},
   "source": [
    "$Create$ $and$ $traverse$ $an$ $array$"
   ]
  },
  {
   "cell_type": "code",
   "execution_count": 16,
   "id": "732f3fba",
   "metadata": {},
   "outputs": [],
   "source": [
    "arr_ = array('i',[1,2,3,4,5])"
   ]
  },
  {
   "cell_type": "code",
   "execution_count": 17,
   "id": "7c340e62",
   "metadata": {},
   "outputs": [
    {
     "name": "stdout",
     "output_type": "stream",
     "text": [
      "1\n",
      "2\n",
      "3\n",
      "4\n",
      "5\n"
     ]
    }
   ],
   "source": [
    "for i in arr_:\n",
    "    print(i)"
   ]
  },
  {
   "cell_type": "markdown",
   "id": "b5c81de1",
   "metadata": {},
   "source": [
    "$Access$ $individual$ $elements$ $through$ $indexes$"
   ]
  },
  {
   "cell_type": "code",
   "execution_count": 18,
   "id": "dfb7bc03",
   "metadata": {},
   "outputs": [
    {
     "data": {
      "text/plain": [
       "1"
      ]
     },
     "execution_count": 18,
     "metadata": {},
     "output_type": "execute_result"
    }
   ],
   "source": [
    "arr_[0]"
   ]
  },
  {
   "cell_type": "code",
   "execution_count": 19,
   "id": "736f9e46",
   "metadata": {},
   "outputs": [
    {
     "data": {
      "text/plain": [
       "5"
      ]
     },
     "execution_count": 19,
     "metadata": {},
     "output_type": "execute_result"
    }
   ],
   "source": [
    "arr_[-1]"
   ]
  },
  {
   "cell_type": "markdown",
   "id": "a5605003",
   "metadata": {},
   "source": [
    "$Append$ $any$ $value$ $to$ $the$ $using$ $append()$ $method$"
   ]
  },
  {
   "cell_type": "code",
   "execution_count": 20,
   "id": "3ae07091",
   "metadata": {},
   "outputs": [
    {
     "data": {
      "text/plain": [
       "array('i', [1, 2, 3, 4, 5])"
      ]
     },
     "execution_count": 20,
     "metadata": {},
     "output_type": "execute_result"
    }
   ],
   "source": [
    "arr_"
   ]
  },
  {
   "cell_type": "code",
   "execution_count": 21,
   "id": "e38c833d",
   "metadata": {},
   "outputs": [],
   "source": [
    "arr_.append(6)"
   ]
  },
  {
   "cell_type": "code",
   "execution_count": 22,
   "id": "d7f83f55",
   "metadata": {},
   "outputs": [
    {
     "data": {
      "text/plain": [
       "array('i', [1, 2, 3, 4, 5, 6])"
      ]
     },
     "execution_count": 22,
     "metadata": {},
     "output_type": "execute_result"
    }
   ],
   "source": [
    "arr_"
   ]
  },
  {
   "cell_type": "markdown",
   "id": "18ad97c4",
   "metadata": {},
   "source": [
    "$Insert$ $value$ $in$ $an$ $array$ $using$ $insert()$ $method$"
   ]
  },
  {
   "cell_type": "code",
   "execution_count": 23,
   "id": "40b41656",
   "metadata": {},
   "outputs": [
    {
     "data": {
      "text/plain": [
       "array('i', [1, 2, 3, 4, 5, 6])"
      ]
     },
     "execution_count": 23,
     "metadata": {},
     "output_type": "execute_result"
    }
   ],
   "source": [
    "arr_"
   ]
  },
  {
   "cell_type": "code",
   "execution_count": 24,
   "id": "2f20613b",
   "metadata": {},
   "outputs": [],
   "source": [
    "arr_.insert(3, 101)"
   ]
  },
  {
   "cell_type": "code",
   "execution_count": 25,
   "id": "3b4b3274",
   "metadata": {},
   "outputs": [
    {
     "data": {
      "text/plain": [
       "array('i', [1, 2, 3, 101, 4, 5, 6])"
      ]
     },
     "execution_count": 25,
     "metadata": {},
     "output_type": "execute_result"
    }
   ],
   "source": [
    "arr_"
   ]
  },
  {
   "cell_type": "markdown",
   "id": "e346ebd2",
   "metadata": {},
   "source": [
    "$Extend$ $an$ $array$ $using$ $extend()$ $method$"
   ]
  },
  {
   "cell_type": "code",
   "execution_count": 28,
   "id": "fafc7538",
   "metadata": {},
   "outputs": [],
   "source": [
    "arr__ = array('i',[10,11,12])"
   ]
  },
  {
   "cell_type": "code",
   "execution_count": 29,
   "id": "f2261804",
   "metadata": {},
   "outputs": [],
   "source": [
    "arr_.extend(arr__)"
   ]
  },
  {
   "cell_type": "code",
   "execution_count": 30,
   "id": "6f0bbbf7",
   "metadata": {},
   "outputs": [
    {
     "data": {
      "text/plain": [
       "array('i', [1, 2, 3, 101, 4, 5, 6, 10, 11, 12])"
      ]
     },
     "execution_count": 30,
     "metadata": {},
     "output_type": "execute_result"
    }
   ],
   "source": [
    "arr_"
   ]
  },
  {
   "cell_type": "markdown",
   "id": "c92ffec9",
   "metadata": {},
   "source": [
    "$Add$ $items$ $from$ $list$ $into$ $an$ $array$ $using$ $fromlist()$ $method$"
   ]
  },
  {
   "cell_type": "code",
   "execution_count": 31,
   "id": "f9497019",
   "metadata": {},
   "outputs": [],
   "source": [
    "tempList = [20,21,22,23]"
   ]
  },
  {
   "cell_type": "code",
   "execution_count": 32,
   "id": "63f64147",
   "metadata": {},
   "outputs": [],
   "source": [
    "arr_.fromlist(tempList)"
   ]
  },
  {
   "cell_type": "code",
   "execution_count": 33,
   "id": "72d178b4",
   "metadata": {},
   "outputs": [
    {
     "data": {
      "text/plain": [
       "array('i', [1, 2, 3, 101, 4, 5, 6, 10, 11, 12, 20, 21, 22, 23])"
      ]
     },
     "execution_count": 33,
     "metadata": {},
     "output_type": "execute_result"
    }
   ],
   "source": [
    "arr_"
   ]
  },
  {
   "cell_type": "markdown",
   "id": "f67eb1be",
   "metadata": {},
   "source": [
    "$Remove$  $any$  $array$  $element$  $using$  $remove()$  $method$"
   ]
  },
  {
   "cell_type": "code",
   "execution_count": 41,
   "id": "b5c8759b",
   "metadata": {},
   "outputs": [
    {
     "data": {
      "text/plain": [
       "array('i', [1, 2, 3, 101, 4, 5, 6, 20, 21, 22, 23])"
      ]
     },
     "execution_count": 41,
     "metadata": {},
     "output_type": "execute_result"
    }
   ],
   "source": [
    "arr_"
   ]
  },
  {
   "cell_type": "code",
   "execution_count": 42,
   "id": "30422e5f",
   "metadata": {},
   "outputs": [],
   "source": [
    "arr_.remove(23)"
   ]
  },
  {
   "cell_type": "code",
   "execution_count": 43,
   "id": "42b7538e",
   "metadata": {},
   "outputs": [
    {
     "data": {
      "text/plain": [
       "array('i', [1, 2, 3, 101, 4, 5, 6, 20, 21, 22])"
      ]
     },
     "execution_count": 43,
     "metadata": {},
     "output_type": "execute_result"
    }
   ],
   "source": [
    "arr_"
   ]
  },
  {
   "cell_type": "code",
   "execution_count": 44,
   "id": "f2ed31d1",
   "metadata": {},
   "outputs": [],
   "source": [
    "for i in range(20, 23):\n",
    "    arr_.remove(i)"
   ]
  },
  {
   "cell_type": "code",
   "execution_count": 45,
   "id": "40d80b7e",
   "metadata": {},
   "outputs": [
    {
     "data": {
      "text/plain": [
       "array('i', [1, 2, 3, 101, 4, 5, 6])"
      ]
     },
     "execution_count": 45,
     "metadata": {},
     "output_type": "execute_result"
    }
   ],
   "source": [
    "arr_"
   ]
  },
  {
   "cell_type": "markdown",
   "id": "61e1688a",
   "metadata": {},
   "source": [
    "$Remove$ $the$ $last$ $element$ $by$ $using$ $the$ $pop$ $method$"
   ]
  },
  {
   "cell_type": "code",
   "execution_count": 46,
   "id": "2754e4cb",
   "metadata": {},
   "outputs": [
    {
     "data": {
      "text/plain": [
       "6"
      ]
     },
     "execution_count": 46,
     "metadata": {},
     "output_type": "execute_result"
    }
   ],
   "source": [
    "arr_.pop()"
   ]
  },
  {
   "cell_type": "code",
   "execution_count": 47,
   "id": "a7e41258",
   "metadata": {},
   "outputs": [
    {
     "data": {
      "text/plain": [
       "array('i', [1, 2, 3, 101, 4, 5])"
      ]
     },
     "execution_count": 47,
     "metadata": {},
     "output_type": "execute_result"
    }
   ],
   "source": [
    "arr_"
   ]
  },
  {
   "cell_type": "markdown",
   "id": "924b989d",
   "metadata": {},
   "source": [
    "$Fetch$ $any$ $element$ $through$ $it's$ $index$ $using$ $the$ $index()$ $method$"
   ]
  },
  {
   "cell_type": "code",
   "execution_count": 50,
   "id": "17a67a89",
   "metadata": {},
   "outputs": [
    {
     "data": {
      "text/plain": [
       "3"
      ]
     },
     "execution_count": 50,
     "metadata": {},
     "output_type": "execute_result"
    }
   ],
   "source": [
    "arr_.index(101)"
   ]
  },
  {
   "cell_type": "code",
   "execution_count": 52,
   "id": "d8def0d4",
   "metadata": {},
   "outputs": [
    {
     "data": {
      "text/plain": [
       "0"
      ]
     },
     "execution_count": 52,
     "metadata": {},
     "output_type": "execute_result"
    }
   ],
   "source": [
    "arr_.index(1)"
   ]
  },
  {
   "cell_type": "markdown",
   "id": "4566bae8",
   "metadata": {},
   "source": [
    "$Reverse$ $a$ $python$ $array$ $using$ $reverse()$ $method$"
   ]
  },
  {
   "cell_type": "code",
   "execution_count": 53,
   "id": "e2febb68",
   "metadata": {},
   "outputs": [
    {
     "data": {
      "text/plain": [
       "array('i', [1, 2, 3, 101, 4, 5])"
      ]
     },
     "execution_count": 53,
     "metadata": {},
     "output_type": "execute_result"
    }
   ],
   "source": [
    "arr_"
   ]
  },
  {
   "cell_type": "code",
   "execution_count": 54,
   "id": "f4cef1b8",
   "metadata": {},
   "outputs": [],
   "source": [
    "arr_.reverse()"
   ]
  },
  {
   "cell_type": "code",
   "execution_count": 55,
   "id": "4b41b0b4",
   "metadata": {},
   "outputs": [
    {
     "data": {
      "text/plain": [
       "array('i', [5, 4, 101, 3, 2, 1])"
      ]
     },
     "execution_count": 55,
     "metadata": {},
     "output_type": "execute_result"
    }
   ],
   "source": [
    "arr_"
   ]
  },
  {
   "cell_type": "markdown",
   "id": "144b1e59",
   "metadata": {},
   "source": [
    "$Get$ $array$ $buffer$ $information$ $through$ $buffer$_$info()$ $method$"
   ]
  },
  {
   "cell_type": "code",
   "execution_count": 56,
   "id": "eaba9c24",
   "metadata": {},
   "outputs": [
    {
     "data": {
      "text/plain": [
       "(115522512, 6)"
      ]
     },
     "execution_count": 56,
     "metadata": {},
     "output_type": "execute_result"
    }
   ],
   "source": [
    "arr_.buffer_info()"
   ]
  },
  {
   "cell_type": "markdown",
   "id": "e5a97118",
   "metadata": {},
   "source": [
    "$Check$ $for$ $number$ $of occurences$ $of$ $an$ $element$ $using$ $count()$ $method$"
   ]
  },
  {
   "cell_type": "code",
   "execution_count": 58,
   "id": "ead5bff2",
   "metadata": {},
   "outputs": [],
   "source": [
    "new_list = [2, 3, 3]"
   ]
  },
  {
   "cell_type": "code",
   "execution_count": 59,
   "id": "4dd97348",
   "metadata": {},
   "outputs": [],
   "source": [
    "arr_.fromlist(new_list)"
   ]
  },
  {
   "cell_type": "code",
   "execution_count": 60,
   "id": "a2148ec1",
   "metadata": {},
   "outputs": [
    {
     "data": {
      "text/plain": [
       "array('i', [5, 4, 101, 3, 2, 1, 2, 3, 3])"
      ]
     },
     "execution_count": 60,
     "metadata": {},
     "output_type": "execute_result"
    }
   ],
   "source": [
    "arr_"
   ]
  },
  {
   "cell_type": "code",
   "execution_count": 61,
   "id": "3490a380",
   "metadata": {},
   "outputs": [
    {
     "data": {
      "text/plain": [
       "2"
      ]
     },
     "execution_count": 61,
     "metadata": {},
     "output_type": "execute_result"
    }
   ],
   "source": [
    "arr_.count(2)"
   ]
  },
  {
   "cell_type": "code",
   "execution_count": 62,
   "id": "70bc985a",
   "metadata": {},
   "outputs": [
    {
     "data": {
      "text/plain": [
       "3"
      ]
     },
     "execution_count": 62,
     "metadata": {},
     "output_type": "execute_result"
    }
   ],
   "source": [
    "arr_.count(3)"
   ]
  },
  {
   "cell_type": "markdown",
   "id": "0b4dcbb8",
   "metadata": {},
   "source": [
    "$Covert$ $an$ $array$ $to$ $python$ $list$  $using$ $tolist()$ $method$"
   ]
  },
  {
   "cell_type": "code",
   "execution_count": 78,
   "id": "b48fd46d",
   "metadata": {},
   "outputs": [
    {
     "data": {
      "text/plain": [
       "[5, 4, 101, 3, 2, 1, 2, 3, 3]"
      ]
     },
     "execution_count": 78,
     "metadata": {},
     "output_type": "execute_result"
    }
   ],
   "source": [
    "arr_.tolist()"
   ]
  },
  {
   "cell_type": "code",
   "execution_count": 81,
   "id": "47b9e897",
   "metadata": {},
   "outputs": [
    {
     "data": {
      "text/plain": [
       "list"
      ]
     },
     "execution_count": 81,
     "metadata": {},
     "output_type": "execute_result"
    }
   ],
   "source": [
    "type(arr_.tolist())"
   ]
  },
  {
   "cell_type": "code",
   "execution_count": 82,
   "id": "6594fde0",
   "metadata": {},
   "outputs": [
    {
     "data": {
      "text/plain": [
       "array.array"
      ]
     },
     "execution_count": 82,
     "metadata": {},
     "output_type": "execute_result"
    }
   ],
   "source": [
    "type(arr_)"
   ]
  },
  {
   "cell_type": "markdown",
   "id": "2497c501",
   "metadata": {},
   "source": [
    "$Slice$ $elements$ $from$ $an$ $array$ "
   ]
  },
  {
   "cell_type": "code",
   "execution_count": 80,
   "id": "089c83cf",
   "metadata": {},
   "outputs": [
    {
     "data": {
      "text/plain": [
       "array('i', [5, 4, 101, 3, 2, 1, 2, 3, 3])"
      ]
     },
     "execution_count": 80,
     "metadata": {},
     "output_type": "execute_result"
    }
   ],
   "source": [
    "arr_"
   ]
  },
  {
   "cell_type": "code",
   "execution_count": 83,
   "id": "4fc90bdc",
   "metadata": {},
   "outputs": [
    {
     "data": {
      "text/plain": [
       "array('i', [5, 4, 101])"
      ]
     },
     "execution_count": 83,
     "metadata": {},
     "output_type": "execute_result"
    }
   ],
   "source": [
    "arr_[:3]"
   ]
  },
  {
   "cell_type": "code",
   "execution_count": 88,
   "id": "e52d18e3",
   "metadata": {},
   "outputs": [
    {
     "data": {
      "text/plain": [
       "array('i', [5, 101, 2, 2, 3])"
      ]
     },
     "execution_count": 88,
     "metadata": {},
     "output_type": "execute_result"
    }
   ],
   "source": [
    "arr_[::2]"
   ]
  }
 ],
 "metadata": {
  "kernelspec": {
   "display_name": "Python 3 (ipykernel)",
   "language": "python",
   "name": "python3"
  },
  "language_info": {
   "codemirror_mode": {
    "name": "ipython",
    "version": 3
   },
   "file_extension": ".py",
   "mimetype": "text/x-python",
   "name": "python",
   "nbconvert_exporter": "python",
   "pygments_lexer": "ipython3",
   "version": "3.9.1"
  }
 },
 "nbformat": 4,
 "nbformat_minor": 5
}
