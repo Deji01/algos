{
 "cells": [
  {
   "cell_type": "markdown",
   "id": "106ac5c6",
   "metadata": {},
   "source": [
    "# What is an Array?"
   ]
  },
  {
   "cell_type": "markdown",
   "id": "0fe09110",
   "metadata": {},
   "source": [
    "An array is a data structure consisting of a collection of elements, each identified by at least one array index or key. An array is stored such that the position of each element can be computed from its index by a mathematical formula."
   ]
  },
  {
   "cell_type": "code",
   "execution_count": 5,
   "id": "08cfc219",
   "metadata": {},
   "outputs": [],
   "source": [
    "from array import *"
   ]
  },
  {
   "cell_type": "markdown",
   "id": "e4a68a36",
   "metadata": {},
   "source": [
    "$arrayName$ = $array$($typecode$, $[initializers]$)"
   ]
  },
  {
   "cell_type": "markdown",
   "id": "0be2842f",
   "metadata": {},
   "source": [
    "$typecode$ = $data$ $type$, $initializers$ = $array$ $elements$"
   ]
  },
  {
   "cell_type": "code",
   "execution_count": 6,
   "id": "aa26f854",
   "metadata": {},
   "outputs": [],
   "source": [
    "arr1 = array('i',[1,2,3,4,5])"
   ]
  },
  {
   "cell_type": "code",
   "execution_count": 7,
   "id": "070fa35e",
   "metadata": {},
   "outputs": [
    {
     "data": {
      "text/plain": [
       "array('i', [1, 2, 3, 4, 5])"
      ]
     },
     "execution_count": 7,
     "metadata": {},
     "output_type": "execute_result"
    }
   ],
   "source": [
    "arr1"
   ]
  },
  {
   "cell_type": "code",
   "execution_count": 8,
   "id": "ad1d547d",
   "metadata": {},
   "outputs": [
    {
     "data": {
      "text/plain": [
       "(1, 5)"
      ]
     },
     "execution_count": 8,
     "metadata": {},
     "output_type": "execute_result"
    }
   ],
   "source": [
    "arr1[0],arr1[-1]"
   ]
  },
  {
   "cell_type": "code",
   "execution_count": 9,
   "id": "f625a966",
   "metadata": {},
   "outputs": [],
   "source": [
    "arr2 = array('d',[1.2,3.4,5.6]) # ----------- O(1)"
   ]
  },
  {
   "cell_type": "code",
   "execution_count": 10,
   "id": "109d98aa",
   "metadata": {},
   "outputs": [
    {
     "data": {
      "text/plain": [
       "array('d', [1.2, 3.4, 5.6])"
      ]
     },
     "execution_count": 10,
     "metadata": {},
     "output_type": "execute_result"
    }
   ],
   "source": [
    "arr2"
   ]
  },
  {
   "cell_type": "code",
   "execution_count": 11,
   "id": "1edbfdaa",
   "metadata": {},
   "outputs": [
    {
     "data": {
      "text/plain": [
       "array.array"
      ]
     },
     "execution_count": 11,
     "metadata": {},
     "output_type": "execute_result"
    }
   ],
   "source": [
    "type(arr2)"
   ]
  },
  {
   "cell_type": "code",
   "execution_count": 12,
   "id": "6d6d1b03",
   "metadata": {},
   "outputs": [],
   "source": [
    "arr1.insert(6,6) # --------------------- O(1)"
   ]
  },
  {
   "cell_type": "code",
   "execution_count": 13,
   "id": "8f1855c1",
   "metadata": {},
   "outputs": [
    {
     "data": {
      "text/plain": [
       "array('i', [1, 2, 3, 4, 5, 6])"
      ]
     },
     "execution_count": 13,
     "metadata": {},
     "output_type": "execute_result"
    }
   ],
   "source": [
    "arr1"
   ]
  },
  {
   "cell_type": "code",
   "execution_count": 14,
   "id": "6e2d22ea",
   "metadata": {},
   "outputs": [],
   "source": [
    "arr1.insert(0,0) # --------------------- O(N)"
   ]
  },
  {
   "cell_type": "code",
   "execution_count": 15,
   "id": "59742654",
   "metadata": {},
   "outputs": [
    {
     "data": {
      "text/plain": [
       "array('i', [0, 1, 2, 3, 4, 5, 6])"
      ]
     },
     "execution_count": 15,
     "metadata": {},
     "output_type": "execute_result"
    }
   ],
   "source": [
    "arr1"
   ]
  },
  {
   "cell_type": "code",
   "execution_count": 16,
   "id": "7c38e8dc",
   "metadata": {},
   "outputs": [],
   "source": [
    "arr1.insert(3,6) # --------------------- O(N)"
   ]
  },
  {
   "cell_type": "code",
   "execution_count": 17,
   "id": "031dd62e",
   "metadata": {},
   "outputs": [
    {
     "data": {
      "text/plain": [
       "array('i', [0, 1, 2, 6, 3, 4, 5, 6])"
      ]
     },
     "execution_count": 17,
     "metadata": {},
     "output_type": "execute_result"
    }
   ],
   "source": [
    "arr1"
   ]
  },
  {
   "cell_type": "code",
   "execution_count": 18,
   "id": "e7b301f3",
   "metadata": {},
   "outputs": [
    {
     "data": {
      "text/plain": [
       "array('d', [1.2, 3.4, 5.6])"
      ]
     },
     "execution_count": 18,
     "metadata": {},
     "output_type": "execute_result"
    }
   ],
   "source": [
    "arr2"
   ]
  },
  {
   "cell_type": "code",
   "execution_count": 19,
   "id": "c8bd7300",
   "metadata": {},
   "outputs": [
    {
     "name": "stdout",
     "output_type": "stream",
     "text": [
      "(0, 1.2)\n",
      "(1, 3.4)\n",
      "(2, 5.6)\n"
     ]
    }
   ],
   "source": [
    "for i,v in enumerate(arr2):\n",
    "    print((i,v))"
   ]
  },
  {
   "cell_type": "code",
   "execution_count": 20,
   "id": "9d41143e",
   "metadata": {},
   "outputs": [],
   "source": [
    "def traverseArray(array):\n",
    "    for i in array: # --------------------- O(N)\n",
    "        print(i) # --------------------- O(1)"
   ]
  },
  {
   "cell_type": "code",
   "execution_count": 21,
   "id": "f5120dba",
   "metadata": {},
   "outputs": [
    {
     "name": "stdout",
     "output_type": "stream",
     "text": [
      "0\n",
      "1\n",
      "2\n",
      "6\n",
      "3\n",
      "4\n",
      "5\n",
      "6\n"
     ]
    }
   ],
   "source": [
    "traverseArray(arr1)"
   ]
  },
  {
   "cell_type": "markdown",
   "id": "19029ba2",
   "metadata": {},
   "source": [
    "- ***Time Complexity = O(N)*** \n",
    "- ***Space complexity = O(1)***"
   ]
  },
  {
   "cell_type": "code",
   "execution_count": 22,
   "id": "08b5c15b",
   "metadata": {},
   "outputs": [],
   "source": [
    "def accessElement(array, index):\n",
    "    if index >= len(array): # --------------------- O(1)\n",
    "        print('There is no element in this index') # --------------------- O(1)\n",
    "    else: # --------------------- O(1)\n",
    "        print(array[index])# --------------------- O(1)"
   ]
  },
  {
   "cell_type": "code",
   "execution_count": 23,
   "id": "ffdfcbf4",
   "metadata": {},
   "outputs": [
    {
     "name": "stdout",
     "output_type": "stream",
     "text": [
      "5\n"
     ]
    }
   ],
   "source": [
    "accessElement(arr1, 6)"
   ]
  },
  {
   "cell_type": "markdown",
   "id": "b4a4cf6c",
   "metadata": {},
   "source": [
    "- ***Time Complexity = O(1)*** \n",
    "- ***Space complexity = O(1)***"
   ]
  },
  {
   "cell_type": "markdown",
   "id": "341cfebf",
   "metadata": {},
   "source": [
    "## Finding an element in an array"
   ]
  },
  {
   "cell_type": "markdown",
   "id": "32ba0825",
   "metadata": {},
   "source": [
    "- By index\n",
    "- Binary search\n",
    "- Looking through every element in an array till you find the element you're looking for"
   ]
  },
  {
   "cell_type": "code",
   "execution_count": 37,
   "id": "67789f1e",
   "metadata": {},
   "outputs": [],
   "source": [
    "def searchInArray(array, value):\n",
    "    for i in array: # ------------ O(N)\n",
    "        if i == value: #------------ O(1)\n",
    "            return array.index(value) #------------ O(1)\n",
    "    return 'The element does not exist in this array' #------------ O(1)\n",
    "            "
   ]
  },
  {
   "cell_type": "code",
   "execution_count": 38,
   "id": "2a676cc7",
   "metadata": {},
   "outputs": [
    {
     "data": {
      "text/plain": [
       "array('i', [0, 1, 2, 6, 3, 4, 5, 6])"
      ]
     },
     "execution_count": 38,
     "metadata": {},
     "output_type": "execute_result"
    }
   ],
   "source": [
    "arr1"
   ]
  },
  {
   "cell_type": "code",
   "execution_count": 39,
   "id": "cc2267a0",
   "metadata": {},
   "outputs": [
    {
     "data": {
      "text/plain": [
       "'The element does not exist in this array'"
      ]
     },
     "execution_count": 39,
     "metadata": {},
     "output_type": "execute_result"
    }
   ],
   "source": [
    "searchInArray(arr1, 7)"
   ]
  },
  {
   "cell_type": "code",
   "execution_count": 40,
   "id": "da3b37fd",
   "metadata": {},
   "outputs": [
    {
     "data": {
      "text/plain": [
       "4"
      ]
     },
     "execution_count": 40,
     "metadata": {},
     "output_type": "execute_result"
    }
   ],
   "source": [
    "searchInArray(arr1, 3)"
   ]
  },
  {
   "cell_type": "markdown",
   "id": "fd190548",
   "metadata": {},
   "source": [
    "***Time Complexity: O(N)***\n",
    "\n",
    "***Space Complexity: O(1)*** because no extra space is needed"
   ]
  },
  {
   "cell_type": "code",
   "execution_count": 41,
   "id": "fa2fe4d2",
   "metadata": {},
   "outputs": [],
   "source": [
    "arr1.remove(1)"
   ]
  },
  {
   "cell_type": "code",
   "execution_count": 42,
   "id": "ebd65b83",
   "metadata": {},
   "outputs": [
    {
     "data": {
      "text/plain": [
       "3"
      ]
     },
     "execution_count": 42,
     "metadata": {},
     "output_type": "execute_result"
    }
   ],
   "source": [
    "searchInArray(arr1, 3)"
   ]
  },
  {
   "cell_type": "code",
   "execution_count": 43,
   "id": "0dbf2b43",
   "metadata": {},
   "outputs": [
    {
     "data": {
      "text/plain": [
       "array('i', [0, 2, 6, 3, 4, 5, 6])"
      ]
     },
     "execution_count": 43,
     "metadata": {},
     "output_type": "execute_result"
    }
   ],
   "source": [
    "arr1"
   ]
  },
  {
   "cell_type": "code",
   "execution_count": 44,
   "id": "32ae120a",
   "metadata": {},
   "outputs": [],
   "source": [
    "arr1.remove(6)"
   ]
  },
  {
   "cell_type": "code",
   "execution_count": 45,
   "id": "1e4614ea",
   "metadata": {},
   "outputs": [
    {
     "data": {
      "text/plain": [
       "2"
      ]
     },
     "execution_count": 45,
     "metadata": {},
     "output_type": "execute_result"
    }
   ],
   "source": [
    "searchInArray(arr1, 3)"
   ]
  },
  {
   "cell_type": "code",
   "execution_count": 46,
   "id": "1537c2c4",
   "metadata": {},
   "outputs": [
    {
     "data": {
      "text/plain": [
       "array('i', [0, 2, 3, 4, 5, 6])"
      ]
     },
     "execution_count": 46,
     "metadata": {},
     "output_type": "execute_result"
    }
   ],
   "source": [
    "arr1"
   ]
  },
  {
   "cell_type": "code",
   "execution_count": 47,
   "id": "8d7e95ec",
   "metadata": {},
   "outputs": [],
   "source": [
    "arr1.remove(6)"
   ]
  },
  {
   "cell_type": "code",
   "execution_count": 48,
   "id": "45a573d1",
   "metadata": {},
   "outputs": [
    {
     "data": {
      "text/plain": [
       "2"
      ]
     },
     "execution_count": 48,
     "metadata": {},
     "output_type": "execute_result"
    }
   ],
   "source": [
    "searchInArray(arr1, 3)"
   ]
  },
  {
   "cell_type": "code",
   "execution_count": 49,
   "id": "740172e1",
   "metadata": {},
   "outputs": [
    {
     "data": {
      "text/plain": [
       "array('i', [0, 2, 3, 4, 5])"
      ]
     },
     "execution_count": 49,
     "metadata": {},
     "output_type": "execute_result"
    }
   ],
   "source": [
    "arr1"
   ]
  },
  {
   "cell_type": "markdown",
   "id": "e4a6965a",
   "metadata": {},
   "source": [
    "***Time Complexity: O(N)***\n",
    "\n",
    "***Space Complexity: O(1)***  no extra space is needed"
   ]
  },
  {
   "cell_type": "code",
   "execution_count": null,
   "id": "ed53f321",
   "metadata": {},
   "outputs": [],
   "source": []
  }
 ],
 "metadata": {
  "kernelspec": {
   "display_name": "Python 3 (ipykernel)",
   "language": "python",
   "name": "python3"
  },
  "language_info": {
   "codemirror_mode": {
    "name": "ipython",
    "version": 3
   },
   "file_extension": ".py",
   "mimetype": "text/x-python",
   "name": "python",
   "nbconvert_exporter": "python",
   "pygments_lexer": "ipython3",
   "version": "3.9.1"
  }
 },
 "nbformat": 4,
 "nbformat_minor": 5
}
