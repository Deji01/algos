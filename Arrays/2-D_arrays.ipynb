{
 "cells": [
  {
   "cell_type": "code",
   "execution_count": 1,
   "id": "dad59702",
   "metadata": {},
   "outputs": [],
   "source": [
    "import numpy as np"
   ]
  },
  {
   "cell_type": "code",
   "execution_count": 2,
   "id": "49144a73",
   "metadata": {},
   "outputs": [],
   "source": [
    "twoDArray = np.array([[11,15,10,6],[10,14,11,5],[12,17,12,8],[15,18,14,9]])"
   ]
  },
  {
   "cell_type": "code",
   "execution_count": 3,
   "id": "a619355b",
   "metadata": {},
   "outputs": [
    {
     "data": {
      "text/plain": [
       "array([[11, 15, 10,  6],\n",
       "       [10, 14, 11,  5],\n",
       "       [12, 17, 12,  8],\n",
       "       [15, 18, 14,  9]])"
      ]
     },
     "execution_count": 3,
     "metadata": {},
     "output_type": "execute_result"
    }
   ],
   "source": [
    "twoDArray"
   ]
  },
  {
   "cell_type": "code",
   "execution_count": 4,
   "id": "e43e0d69",
   "metadata": {},
   "outputs": [
    {
     "data": {
      "text/plain": [
       "14"
      ]
     },
     "execution_count": 4,
     "metadata": {},
     "output_type": "execute_result"
    }
   ],
   "source": [
    "twoDArray[1][1]"
   ]
  },
  {
   "cell_type": "code",
   "execution_count": 5,
   "id": "e208d9a7",
   "metadata": {},
   "outputs": [
    {
     "data": {
      "text/plain": [
       "12"
      ]
     },
     "execution_count": 5,
     "metadata": {},
     "output_type": "execute_result"
    }
   ],
   "source": [
    "twoDArray[2][2]"
   ]
  },
  {
   "cell_type": "markdown",
   "id": "e2732cfe",
   "metadata": {},
   "source": [
    "***Time Complexity : O(1)***"
   ]
  },
  {
   "cell_type": "markdown",
   "id": "4f461c0e",
   "metadata": {},
   "source": [
    "***Space Complexity : O(MN)***"
   ]
  },
  {
   "cell_type": "code",
   "execution_count": 11,
   "id": "9194a134",
   "metadata": {},
   "outputs": [],
   "source": [
    "newTwoDArray = np.insert(twoDArray, 0, [[1,2,3,4]], axis=1)"
   ]
  },
  {
   "cell_type": "code",
   "execution_count": 12,
   "id": "39a0042d",
   "metadata": {},
   "outputs": [
    {
     "data": {
      "text/plain": [
       "array([[11, 15, 10,  6],\n",
       "       [10, 14, 11,  5],\n",
       "       [12, 17, 12,  8],\n",
       "       [15, 18, 14,  9]])"
      ]
     },
     "execution_count": 12,
     "metadata": {},
     "output_type": "execute_result"
    }
   ],
   "source": [
    "twoDArray"
   ]
  },
  {
   "cell_type": "code",
   "execution_count": 13,
   "id": "8ebbe8d2",
   "metadata": {},
   "outputs": [
    {
     "data": {
      "text/plain": [
       "array([[ 1, 11, 15, 10,  6],\n",
       "       [ 2, 10, 14, 11,  5],\n",
       "       [ 3, 12, 17, 12,  8],\n",
       "       [ 4, 15, 18, 14,  9]])"
      ]
     },
     "execution_count": 13,
     "metadata": {},
     "output_type": "execute_result"
    }
   ],
   "source": [
    "newTwoDArray"
   ]
  },
  {
   "cell_type": "code",
   "execution_count": 14,
   "id": "fb99726b",
   "metadata": {},
   "outputs": [],
   "source": [
    "newTwoDArray2 = np.insert(twoDArray, 0, [[1,2,3,4]], axis=0)"
   ]
  },
  {
   "cell_type": "code",
   "execution_count": 15,
   "id": "c2b67a79",
   "metadata": {},
   "outputs": [
    {
     "data": {
      "text/plain": [
       "array([[11, 15, 10,  6],\n",
       "       [10, 14, 11,  5],\n",
       "       [12, 17, 12,  8],\n",
       "       [15, 18, 14,  9]])"
      ]
     },
     "execution_count": 15,
     "metadata": {},
     "output_type": "execute_result"
    }
   ],
   "source": [
    "twoDArray"
   ]
  },
  {
   "cell_type": "code",
   "execution_count": 17,
   "id": "bf90d5de",
   "metadata": {},
   "outputs": [
    {
     "data": {
      "text/plain": [
       "array([[ 1,  2,  3,  4],\n",
       "       [11, 15, 10,  6],\n",
       "       [10, 14, 11,  5],\n",
       "       [12, 17, 12,  8],\n",
       "       [15, 18, 14,  9]])"
      ]
     },
     "execution_count": 17,
     "metadata": {},
     "output_type": "execute_result"
    }
   ],
   "source": [
    "newTwoDArray2"
   ]
  },
  {
   "cell_type": "code",
   "execution_count": 18,
   "id": "328ca5f9",
   "metadata": {},
   "outputs": [],
   "source": [
    "newTwoDArray3 = np.append(twoDArray, [[1,2,3,4]], axis=0)"
   ]
  },
  {
   "cell_type": "code",
   "execution_count": 19,
   "id": "f3ed5ab7",
   "metadata": {},
   "outputs": [
    {
     "data": {
      "text/plain": [
       "array([[11, 15, 10,  6],\n",
       "       [10, 14, 11,  5],\n",
       "       [12, 17, 12,  8],\n",
       "       [15, 18, 14,  9],\n",
       "       [ 1,  2,  3,  4]])"
      ]
     },
     "execution_count": 19,
     "metadata": {},
     "output_type": "execute_result"
    }
   ],
   "source": [
    "newTwoDArray3"
   ]
  },
  {
   "cell_type": "code",
   "execution_count": 20,
   "id": "ad68b59e",
   "metadata": {},
   "outputs": [
    {
     "data": {
      "text/plain": [
       "5"
      ]
     },
     "execution_count": 20,
     "metadata": {},
     "output_type": "execute_result"
    }
   ],
   "source": [
    "len(newTwoDArray3) #row length"
   ]
  },
  {
   "cell_type": "code",
   "execution_count": 21,
   "id": "824a739b",
   "metadata": {},
   "outputs": [
    {
     "data": {
      "text/plain": [
       "4"
      ]
     },
     "execution_count": 21,
     "metadata": {},
     "output_type": "execute_result"
    }
   ],
   "source": [
    "len(newTwoDArray3[0]) #column length"
   ]
  },
  {
   "cell_type": "code",
   "execution_count": 24,
   "id": "243cc455",
   "metadata": {},
   "outputs": [],
   "source": [
    "def accessElements(array, rowIndex, colIndex):\n",
    "    if rowIndex >= len(array) and colIndex >= len(array[0]):\n",
    "        print('Incorrect index')\n",
    "    else:\n",
    "        return array[rowIndex][colIndex]"
   ]
  },
  {
   "cell_type": "markdown",
   "id": "4b66ac7d",
   "metadata": {},
   "source": [
    "***Time Complexity : O(1)***"
   ]
  },
  {
   "cell_type": "markdown",
   "id": "49314362",
   "metadata": {},
   "source": [
    "***Space Complexity : O(1)***"
   ]
  },
  {
   "cell_type": "code",
   "execution_count": 25,
   "id": "0a9097f7",
   "metadata": {},
   "outputs": [
    {
     "data": {
      "text/plain": [
       "14"
      ]
     },
     "execution_count": 25,
     "metadata": {},
     "output_type": "execute_result"
    }
   ],
   "source": [
    "accessElements(newTwoDArray3, 3, 2)"
   ]
  },
  {
   "cell_type": "code",
   "execution_count": 26,
   "id": "0fd7f99e",
   "metadata": {},
   "outputs": [],
   "source": [
    "for i in range(5):\n",
    "    for j in range(4):\n",
    "        assert accessElements(newTwoDArray3, i, j) == newTwoDArray3[i][j]"
   ]
  },
  {
   "cell_type": "code",
   "execution_count": 36,
   "id": "67125c0b",
   "metadata": {},
   "outputs": [],
   "source": [
    "def traverseTwoDArray(array):\n",
    "    for i in range(len(array)): # ------------- O(MN)\n",
    "        for j in range(len(array[0])): # ------------- O(N)\n",
    "            print(array[i][j]) # ------------- O(1)"
   ]
  },
  {
   "cell_type": "markdown",
   "id": "0dbd72cd",
   "metadata": {},
   "source": [
    "***Time Complexity : O($N^2$)***"
   ]
  },
  {
   "cell_type": "markdown",
   "id": "4577de5d",
   "metadata": {},
   "source": [
    "***Space Complexity : O(1)***"
   ]
  },
  {
   "cell_type": "code",
   "execution_count": 37,
   "id": "0dc20bce",
   "metadata": {},
   "outputs": [
    {
     "data": {
      "text/plain": [
       "array([[11, 15, 10,  6],\n",
       "       [10, 14, 11,  5],\n",
       "       [12, 17, 12,  8],\n",
       "       [15, 18, 14,  9],\n",
       "       [ 1,  2,  3,  4]])"
      ]
     },
     "execution_count": 37,
     "metadata": {},
     "output_type": "execute_result"
    }
   ],
   "source": [
    "newTwoDArray3"
   ]
  },
  {
   "cell_type": "code",
   "execution_count": 42,
   "id": "acbde664",
   "metadata": {},
   "outputs": [
    {
     "name": "stdout",
     "output_type": "stream",
     "text": [
      "11\n",
      "15\n",
      "10\n",
      "6\n",
      "10\n",
      "14\n",
      "11\n",
      "5\n",
      "12\n",
      "17\n",
      "12\n",
      "8\n",
      "15\n",
      "18\n",
      "14\n",
      "9\n",
      "1\n",
      "2\n",
      "3\n",
      "4\n"
     ]
    }
   ],
   "source": [
    "traverseTwoDArray(newTwoDArray3)"
   ]
  },
  {
   "cell_type": "code",
   "execution_count": 53,
   "id": "281c749b",
   "metadata": {},
   "outputs": [],
   "source": [
    "def searchTwoDArray(array, value):\n",
    "    for i in range(len(array)): # ------------- O(MN)\n",
    "        for j in range(len(array[0])): # ------------- O(N)\n",
    "            if array[i][j] == value: # ------------- O(1)  \n",
    "                return 'The value is located at index '+str(i)+' , '+str(j) # ------------- O(1)\n",
    "    return 'The element is not found'"
   ]
  },
  {
   "cell_type": "code",
   "execution_count": 54,
   "id": "0ac501ee",
   "metadata": {},
   "outputs": [
    {
     "data": {
      "text/plain": [
       "'The value is located at index 2 , 1'"
      ]
     },
     "execution_count": 54,
     "metadata": {},
     "output_type": "execute_result"
    }
   ],
   "source": [
    "searchTwoDArray(newTwoDArray3, 17)"
   ]
  },
  {
   "cell_type": "code",
   "execution_count": 55,
   "id": "15a07f33",
   "metadata": {},
   "outputs": [
    {
     "data": {
      "text/plain": [
       "array([[11, 15, 10,  6],\n",
       "       [10, 14, 11,  5],\n",
       "       [12, 17, 12,  8],\n",
       "       [15, 18, 14,  9],\n",
       "       [ 1,  2,  3,  4]])"
      ]
     },
     "execution_count": 55,
     "metadata": {},
     "output_type": "execute_result"
    }
   ],
   "source": [
    "newTwoDArray3"
   ]
  },
  {
   "cell_type": "code",
   "execution_count": 56,
   "id": "ffd95051",
   "metadata": {},
   "outputs": [
    {
     "data": {
      "text/plain": [
       "array([[10, 14, 11,  5],\n",
       "       [12, 17, 12,  8],\n",
       "       [15, 18, 14,  9],\n",
       "       [ 1,  2,  3,  4]])"
      ]
     },
     "execution_count": 56,
     "metadata": {},
     "output_type": "execute_result"
    }
   ],
   "source": [
    "newTDArray = np.delete(newTwoDArray3, 0, axis=0)\n",
    "newTDArray"
   ]
  },
  {
   "cell_type": "code",
   "execution_count": 57,
   "id": "c1b85658",
   "metadata": {},
   "outputs": [
    {
     "data": {
      "text/plain": [
       "array([[14, 11,  5],\n",
       "       [17, 12,  8],\n",
       "       [18, 14,  9],\n",
       "       [ 2,  3,  4]])"
      ]
     },
     "execution_count": 57,
     "metadata": {},
     "output_type": "execute_result"
    }
   ],
   "source": [
    "newTDArray_ = np.delete(newTDArray, 0, axis=1)\n",
    "newTDArray_"
   ]
  },
  {
   "cell_type": "markdown",
   "id": "054f6340",
   "metadata": {},
   "source": [
    "***When to use/avoid Arrays***"
   ]
  },
  {
   "cell_type": "markdown",
   "id": "62c85808",
   "metadata": {},
   "source": [
    "***When to use***\n",
    "- Storing multiple variables of the same data type\n",
    "- Random access"
   ]
  },
  {
   "cell_type": "markdown",
   "id": "de8c2a2b",
   "metadata": {},
   "source": [
    "***When to avoid***\n",
    "- Storing elements of different data type\n",
    "- Reserve memory"
   ]
  }
 ],
 "metadata": {
  "kernelspec": {
   "display_name": "Python 3 (ipykernel)",
   "language": "python",
   "name": "python3"
  },
  "language_info": {
   "codemirror_mode": {
    "name": "ipython",
    "version": 3
   },
   "file_extension": ".py",
   "mimetype": "text/x-python",
   "name": "python",
   "nbconvert_exporter": "python",
   "pygments_lexer": "ipython3",
   "version": "3.9.1"
  }
 },
 "nbformat": 4,
 "nbformat_minor": 5
}
