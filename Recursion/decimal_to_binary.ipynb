{
 "cells": [
  {
   "cell_type": "markdown",
   "id": "678b3b52-a2f2-4834-8374-cb9eb65bf40f",
   "metadata": {},
   "source": [
    "# $Decimal$ $to$ $binary$"
   ]
  },
  {
   "cell_type": "markdown",
   "id": "6432a1e9-3900-4e81-9a66-8d3ce77c4822",
   "metadata": {},
   "source": [
    "covert a number from decimal to binary using recursion"
   ]
  },
  {
   "cell_type": "code",
   "execution_count": 14,
   "id": "09c0e99d-2d0a-4618-90a4-6b97da71ecd4",
   "metadata": {},
   "outputs": [],
   "source": [
    "# 13 to binary\n",
    "# 13/2 = 6 remainder 1\n",
    "# 6/2 = 3 remainder 0\n",
    "# 3/2 = 1 remainder 1\n",
    "# 1/2 = 0 remainder 1\n",
    "# 1101"
   ]
  },
  {
   "cell_type": "code",
   "execution_count": 15,
   "id": "3d564355-eac8-4005-a9ee-77fee112226c",
   "metadata": {},
   "outputs": [],
   "source": [
    "# 10 to binary\n",
    "# 10/2 = 5 remainder 0\n",
    "# 5/2 = 2 remainder 1\n",
    "# 2/2 = 1 remainder 0\n",
    "# 1/2 = 0 remainder 1\n",
    "# 1010"
   ]
  },
  {
   "cell_type": "code",
   "execution_count": 16,
   "id": "8a057024-020d-4770-b70c-8ae8863be31e",
   "metadata": {},
   "outputs": [],
   "source": [
    "# f(n) = n mod 2 + 10 * f(n/2)"
   ]
  },
  {
   "cell_type": "code",
   "execution_count": 17,
   "id": "b6581efb-31e4-48b0-b3cd-2b1b7423eaca",
   "metadata": {},
   "outputs": [],
   "source": [
    "def decimalToBinary(n):\n",
    "    # 3. Unintentional case - the constraint\n",
    "    assert int(n) == n and n >= 0 , 'The parameter must be a positive integer!'\n",
    "    # 2. Base case - the stopping criterion\n",
    "    if n == 0:\n",
    "        return 0\n",
    "    else:\n",
    "        # 1. Recursive case - the flow\n",
    "        return n%2 + 10 * decimalToBinary(n//2) "
   ]
  },
  {
   "cell_type": "code",
   "execution_count": 18,
   "id": "e265a0a3-a131-40b2-a0b2-174fbbd4bd73",
   "metadata": {},
   "outputs": [
    {
     "data": {
      "text/plain": [
       "1010"
      ]
     },
     "execution_count": 18,
     "metadata": {},
     "output_type": "execute_result"
    }
   ],
   "source": [
    "decimalToBinary(10)"
   ]
  },
  {
   "cell_type": "code",
   "execution_count": 19,
   "id": "2791da27-c2ef-4861-8636-b1bc13f76f57",
   "metadata": {},
   "outputs": [
    {
     "data": {
      "text/plain": [
       "1101"
      ]
     },
     "execution_count": 19,
     "metadata": {},
     "output_type": "execute_result"
    }
   ],
   "source": [
    "decimalToBinary(13)"
   ]
  }
 ],
 "metadata": {
  "kernelspec": {
   "display_name": "Python 3 (ipykernel)",
   "language": "python",
   "name": "python3"
  },
  "language_info": {
   "codemirror_mode": {
    "name": "ipython",
    "version": 3
   },
   "file_extension": ".py",
   "mimetype": "text/x-python",
   "name": "python",
   "nbconvert_exporter": "python",
   "pygments_lexer": "ipython3",
   "version": "3.9.1"
  }
 },
 "nbformat": 4,
 "nbformat_minor": 5
}
