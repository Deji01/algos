{
 "cells": [
  {
   "cell_type": "markdown",
   "id": "653037e7-82d0-4902-b1ba-e375b4116739",
   "metadata": {},
   "source": [
    "# `Recursion`"
   ]
  },
  {
   "cell_type": "code",
   "execution_count": 1,
   "id": "aceb8e33-8049-4220-9832-4492f66c3636",
   "metadata": {},
   "outputs": [],
   "source": [
    "def recursiveMethod(n):\n",
    "    if n<1:\n",
    "        print('n is less than 1')\n",
    "    else:\n",
    "        recursiveMethod(n-1)\n",
    "        print(n)"
   ]
  },
  {
   "cell_type": "code",
   "execution_count": 2,
   "id": "024fdf0e-5ed9-4802-8907-f37c9e4ae4ff",
   "metadata": {},
   "outputs": [
    {
     "name": "stdout",
     "output_type": "stream",
     "text": [
      "n is less than 1\n",
      "1\n",
      "2\n",
      "3\n",
      "4\n",
      "5\n"
     ]
    }
   ],
   "source": [
    "recursiveMethod(5)"
   ]
  },
  {
   "cell_type": "code",
   "execution_count": 5,
   "id": "81a8488a-d8f6-434a-a602-067dd8e8c22f",
   "metadata": {},
   "outputs": [],
   "source": [
    "def firstMethod():\n",
    "    secondMethod()\n",
    "    print('I am the first method')\n",
    "    \n",
    "def secondMethod():\n",
    "    thirdMethod()\n",
    "    print('I am the second method')\n",
    "\n",
    "def thirdMethod():\n",
    "    fourthMethod()\n",
    "    print('I am the third method')\n",
    "    \n",
    "def fourthMethod():\n",
    "    print('I am the fourth method')"
   ]
  },
  {
   "cell_type": "code",
   "execution_count": 6,
   "id": "25c9648a-5786-4aac-ac72-8fc17d7bb12a",
   "metadata": {},
   "outputs": [
    {
     "name": "stdout",
     "output_type": "stream",
     "text": [
      "I am the fourth method\n",
      "I am the third method\n",
      "I am the second method\n",
      "I am the first method\n"
     ]
    }
   ],
   "source": [
    "firstMethod()"
   ]
  },
  {
   "cell_type": "code",
   "execution_count": 10,
   "id": "f9fbc1bb-3b95-4d3e-bf1a-da013d1ef7c7",
   "metadata": {},
   "outputs": [],
   "source": [
    "def russianDoll(n):\n",
    "    '''n is the number of dolls contained in a russian doll.\n",
    "       n is of type integer\n",
    "    '''\n",
    "    if n == 1:\n",
    "        print('all dolls have been opened!')\n",
    "    else:\n",
    "        russianDoll(n-1)\n",
    "        print(n)\n",
    "        "
   ]
  },
  {
   "cell_type": "code",
   "execution_count": 14,
   "id": "4cee1f5b-ca00-4163-ae24-ca0cd081abed",
   "metadata": {},
   "outputs": [
    {
     "name": "stdout",
     "output_type": "stream",
     "text": [
      "all dolls have been opened!\n",
      "2\n",
      "3\n",
      "4\n",
      "5\n",
      "6\n",
      "7\n",
      "8\n",
      "9\n",
      "10\n"
     ]
    }
   ],
   "source": [
    "russianDoll(10)"
   ]
  },
  {
   "cell_type": "markdown",
   "id": "41766338-3046-467a-bbb1-02b45e75c6b6",
   "metadata": {},
   "source": [
    "### Recursive vs Iterative solution"
   ]
  },
  {
   "cell_type": "markdown",
   "id": "cffbe758-7c88-463d-ade5-bbb8760bcd65",
   "metadata": {},
   "source": [
    "$Recursion$"
   ]
  },
  {
   "cell_type": "code",
   "execution_count": 40,
   "id": "d94e12fc-9320-4c03-a47b-57aa8a308d69",
   "metadata": {},
   "outputs": [],
   "source": [
    "def powerOfTwo(n):\n",
    "    if n == 0:\n",
    "        return 1\n",
    "    else:\n",
    "        power = powerOfTwo(n-1)\n",
    "        return power * 2"
   ]
  },
  {
   "cell_type": "markdown",
   "id": "411bdba0-d88e-4366-b368-c365a5bb0032",
   "metadata": {},
   "source": [
    "$Iteration$"
   ]
  },
  {
   "cell_type": "code",
   "execution_count": 51,
   "id": "63db6b92-3901-4ea8-b683-602d1bf67f62",
   "metadata": {},
   "outputs": [],
   "source": [
    "def powerOfTwoIt(n):\n",
    "    i = 0\n",
    "    power = 1\n",
    "    while i < n:\n",
    "        power = power * 2\n",
    "        i += 1\n",
    "    return power"
   ]
  },
  {
   "cell_type": "code",
   "execution_count": 57,
   "id": "5102e49c-b789-4ffd-bb8c-9e9464f9a6ae",
   "metadata": {},
   "outputs": [],
   "source": [
    "for _ in range(1500):\n",
    "    assert powerOfTwoIt(_) == powerOfTwo(_), 'The powers are not equal'"
   ]
  },
  {
   "cell_type": "markdown",
   "id": "ce3c0ecc-75ec-4f88-8a85-140967d7230c",
   "metadata": {},
   "source": [
    "###### `Iterative Function`"
   ]
  },
  {
   "cell_type": "code",
   "execution_count": 53,
   "id": "b7bac338-9d25-4751-bd71-fe2c3202bd83",
   "metadata": {},
   "outputs": [
    {
     "name": "stdout",
     "output_type": "stream",
     "text": [
      "1.77 ms ± 94.9 µs per loop (mean ± std. dev. of 7 runs, 100 loops each)\n"
     ]
    }
   ],
   "source": [
    "%%timeit\n",
    "powerOfTwoIt(_)"
   ]
  },
  {
   "cell_type": "markdown",
   "id": "a74fb2ce-259d-4720-a714-a9ffd32ace88",
   "metadata": {},
   "source": [
    "###### `Recursive Function`"
   ]
  },
  {
   "cell_type": "code",
   "execution_count": 54,
   "id": "83f81a01-435c-4114-aa2c-d0182b3447a2",
   "metadata": {},
   "outputs": [
    {
     "name": "stdout",
     "output_type": "stream",
     "text": [
      "2.89 ms ± 122 µs per loop (mean ± std. dev. of 7 runs, 100 loops each)\n"
     ]
    }
   ],
   "source": [
    "%%timeit\n",
    "powerOfTwo(_)"
   ]
  },
  {
   "cell_type": "markdown",
   "id": "b4a60629-d339-478d-8e5e-b917c22a8a2e",
   "metadata": {},
   "source": [
    "- The iterative function is faster than the recursive function even if they perfrom the same task.\n",
    "- The recursive function stores its result (power) in stack memory and then refers back to the result when the base condition (n = 0) is satsfied."
   ]
  },
  {
   "cell_type": "markdown",
   "id": "fa245da6-1f9d-4c11-b160-a6854eb1d660",
   "metadata": {},
   "source": [
    "$Factorial$"
   ]
  },
  {
   "cell_type": "code",
   "execution_count": 58,
   "id": "df9e3f45-096e-4338-b968-19e74f2ceff2",
   "metadata": {},
   "outputs": [],
   "source": [
    "def factorial(n):\n",
    "    assert n >= 0 and int(n) == n, 'The number must be positive integer only!'\n",
    "    if n in [0,1]:\n",
    "        return 1\n",
    "    else:\n",
    "        return n * factorial(n-1)"
   ]
  },
  {
   "cell_type": "code",
   "execution_count": 59,
   "id": "698e6123-b38c-4570-9dd2-8836748e8610",
   "metadata": {},
   "outputs": [
    {
     "data": {
      "text/plain": [
       "24"
      ]
     },
     "execution_count": 59,
     "metadata": {},
     "output_type": "execute_result"
    }
   ],
   "source": [
    "factorial(4)"
   ]
  },
  {
   "cell_type": "markdown",
   "id": "6adf8cca-493c-4beb-be7a-0dbda3daed4e",
   "metadata": {},
   "source": [
    "$Fibonacci$"
   ]
  },
  {
   "cell_type": "code",
   "execution_count": 65,
   "id": "3895f7ed-e588-45eb-a094-c5e62ac72e2f",
   "metadata": {},
   "outputs": [],
   "source": [
    "def fibonacci(n):\n",
    "    assert n >=0 and int(n) == n , 'Fibonacci number cannot be negative number or non-integer.'\n",
    "    if n in [0,1]:\n",
    "        return n\n",
    "    else:\n",
    "        return fibonacci(n-1) + fibonacci(n-2)"
   ]
  },
  {
   "cell_type": "code",
   "execution_count": 66,
   "id": "0b52367b-56d8-4867-95d8-c3f7cd88707e",
   "metadata": {},
   "outputs": [
    {
     "data": {
      "text/plain": [
       "55"
      ]
     },
     "execution_count": 66,
     "metadata": {},
     "output_type": "execute_result"
    }
   ],
   "source": [
    "fibonacci(10)"
   ]
  },
  {
   "cell_type": "code",
   "execution_count": null,
   "id": "9f3a1a5a-44dd-469b-b900-678f656c0f47",
   "metadata": {},
   "outputs": [],
   "source": []
  },
  {
   "cell_type": "code",
   "execution_count": null,
   "id": "0fa63f8c-7661-4d38-876e-0219028ac27c",
   "metadata": {},
   "outputs": [],
   "source": []
  }
 ],
 "metadata": {
  "kernelspec": {
   "display_name": "Python 3 (ipykernel)",
   "language": "python",
   "name": "python3"
  },
  "language_info": {
   "codemirror_mode": {
    "name": "ipython",
    "version": 3
   },
   "file_extension": ".py",
   "mimetype": "text/x-python",
   "name": "python",
   "nbconvert_exporter": "python",
   "pygments_lexer": "ipython3",
   "version": "3.9.1"
  }
 },
 "nbformat": 4,
 "nbformat_minor": 5
}
