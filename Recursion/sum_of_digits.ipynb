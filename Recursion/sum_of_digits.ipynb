{
 "cells": [
  {
   "cell_type": "markdown",
   "id": "678b3b52-a2f2-4834-8374-cb9eb65bf40f",
   "metadata": {},
   "source": [
    "# $Sum$ $of$ $Digits$"
   ]
  },
  {
   "cell_type": "markdown",
   "id": "6432a1e9-3900-4e81-9a66-8d3ce77c4822",
   "metadata": {},
   "source": [
    "Find the sum of digits of a positive integer using recursion"
   ]
  },
  {
   "cell_type": "code",
   "execution_count": 2,
   "id": "54cb211c-b851-4abd-a404-003f71ff2fd6",
   "metadata": {},
   "outputs": [],
   "source": [
    "# for 2 digit numbers \n",
    "# 14\n",
    "# 14 % 10 = 1 remainder 4\n",
    "# 1 + 4 = 5"
   ]
  },
  {
   "cell_type": "code",
   "execution_count": 3,
   "id": "a18d1367-9879-45a9-b1ae-935c5c50ce27",
   "metadata": {},
   "outputs": [],
   "source": [
    "# for 3 digit numbers \n",
    "# 123\n",
    "# 123 % 10 = 12 remainder 3\n",
    "# 12%10 = 1 remainder 2 (recursive case)\n",
    "# 1 + 2 + 3 = 6"
   ]
  },
  {
   "cell_type": "code",
   "execution_count": 34,
   "id": "b6581efb-31e4-48b0-b3cd-2b1b7423eaca",
   "metadata": {},
   "outputs": [],
   "source": [
    "def sumofDigits(n):\n",
    "    # 3. Unintentional case - the constraint\n",
    "    assert int(n) == n and n >= 0, 'n must be a positive integer!'\n",
    "    # 2. Base case - the stopping criterion\n",
    "    if n == 0:\n",
    "        return 0\n",
    "    else:\n",
    "        # 1. Recursive case - the flow\n",
    "        sum = n % 10 + sumofDigits(n//10)\n",
    "        return sum"
   ]
  },
  {
   "cell_type": "code",
   "execution_count": 35,
   "id": "59728745-89bf-4260-a4e5-597ddc7fe46e",
   "metadata": {},
   "outputs": [
    {
     "data": {
      "text/plain": [
       "16"
      ]
     },
     "execution_count": 35,
     "metadata": {},
     "output_type": "execute_result"
    }
   ],
   "source": [
    "sumofDigits(97)"
   ]
  },
  {
   "cell_type": "code",
   "execution_count": 33,
   "id": "347f5d2b-ceaa-4f15-95a0-69cb72caaa61",
   "metadata": {},
   "outputs": [
    {
     "name": "stdout",
     "output_type": "stream",
     "text": [
      "19 10\n",
      "21 3\n",
      "23 5\n",
      "25 7\n",
      "27 9\n",
      "29 11\n",
      "31 4\n",
      "33 6\n",
      "35 8\n",
      "37 10\n",
      "39 12\n",
      "41 5\n",
      "43 7\n",
      "45 9\n",
      "47 11\n",
      "49 13\n",
      "51 6\n",
      "53 8\n"
     ]
    }
   ],
   "source": [
    "for i in range(19, 55, 2):\n",
    "    print(i, sumofDigits(i))"
   ]
  },
  {
   "cell_type": "code",
   "execution_count": null,
   "id": "f2953f26-a0b4-485f-9cd3-3a7e9bf885a1",
   "metadata": {},
   "outputs": [],
   "source": []
  }
 ],
 "metadata": {
  "kernelspec": {
   "display_name": "Python 3 (ipykernel)",
   "language": "python",
   "name": "python3"
  },
  "language_info": {
   "codemirror_mode": {
    "name": "ipython",
    "version": 3
   },
   "file_extension": ".py",
   "mimetype": "text/x-python",
   "name": "python",
   "nbconvert_exporter": "python",
   "pygments_lexer": "ipython3",
   "version": "3.9.1"
  }
 },
 "nbformat": 4,
 "nbformat_minor": 5
}
