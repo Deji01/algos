{
 "cells": [
  {
   "cell_type": "code",
   "execution_count": 4,
   "id": "8c992aff",
   "metadata": {},
   "outputs": [],
   "source": [
    "strng = 'python'"
   ]
  },
  {
   "cell_type": "code",
   "execution_count": 5,
   "id": "b29000c6",
   "metadata": {},
   "outputs": [
    {
     "data": {
      "text/plain": [
       "6"
      ]
     },
     "execution_count": 5,
     "metadata": {},
     "output_type": "execute_result"
    }
   ],
   "source": [
    "len(strng)"
   ]
  },
  {
   "cell_type": "code",
   "execution_count": 6,
   "id": "3d0a7b3a",
   "metadata": {},
   "outputs": [
    {
     "data": {
      "text/plain": [
       "'n'"
      ]
     },
     "execution_count": 6,
     "metadata": {},
     "output_type": "execute_result"
    }
   ],
   "source": [
    "strng[len(strng)-1]"
   ]
  },
  {
   "cell_type": "code",
   "execution_count": 2,
   "id": "35f79b91",
   "metadata": {},
   "outputs": [],
   "source": [
    "def reverse(strng):\n",
    "    if len(strng) <= 1:\n",
    "        return strng\n",
    "    return strng[len(strng)-1] + reverse(strng[0:len(strng)-1])"
   ]
  },
  {
   "cell_type": "code",
   "execution_count": 3,
   "id": "ba91a327",
   "metadata": {},
   "outputs": [
    {
     "name": "stdout",
     "output_type": "stream",
     "text": [
      "nohtyp\n",
      "retypuj\n"
     ]
    }
   ],
   "source": [
    "print(reverse('python')) # 'nohtyp'\n",
    "print(reverse('jupyter')) # 'retypuj'"
   ]
  }
 ],
 "metadata": {
  "kernelspec": {
   "display_name": "Python 3 (ipykernel)",
   "language": "python",
   "name": "python3"
  },
  "language_info": {
   "codemirror_mode": {
    "name": "ipython",
    "version": 3
   },
   "file_extension": ".py",
   "mimetype": "text/x-python",
   "name": "python",
   "nbconvert_exporter": "python",
   "pygments_lexer": "ipython3",
   "version": "3.9.1"
  }
 },
 "nbformat": 4,
 "nbformat_minor": 5
}
