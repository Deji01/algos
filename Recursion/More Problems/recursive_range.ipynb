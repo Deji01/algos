{
 "cells": [
  {
   "cell_type": "code",
   "execution_count": 1,
   "id": "1375ea73",
   "metadata": {},
   "outputs": [],
   "source": [
    "def recursiveRange(num):\n",
    "    if num <= 0:\n",
    "        return 0\n",
    "    return num + recursiveRange(num - 1)"
   ]
  },
  {
   "cell_type": "code",
   "execution_count": 2,
   "id": "26b3269f",
   "metadata": {},
   "outputs": [
    {
     "data": {
      "text/plain": [
       "55"
      ]
     },
     "execution_count": 2,
     "metadata": {},
     "output_type": "execute_result"
    }
   ],
   "source": [
    " recursiveRange(10)"
   ]
  },
  {
   "cell_type": "code",
   "execution_count": 7,
   "id": "bf7d88ff",
   "metadata": {},
   "outputs": [
    {
     "data": {
      "text/plain": [
       "55.0"
      ]
     },
     "execution_count": 7,
     "metadata": {},
     "output_type": "execute_result"
    }
   ],
   "source": [
    "# sum = n(n + 1) / 2\n",
    "\n",
    "(10 * 11) / 2"
   ]
  },
  {
   "cell_type": "code",
   "execution_count": 8,
   "id": "819ddcfa",
   "metadata": {},
   "outputs": [
    {
     "data": {
      "text/plain": [
       "28"
      ]
     },
     "execution_count": 8,
     "metadata": {},
     "output_type": "execute_result"
    }
   ],
   "source": [
    " recursiveRange(7)"
   ]
  },
  {
   "cell_type": "code",
   "execution_count": 9,
   "id": "c3fb8bb0",
   "metadata": {},
   "outputs": [
    {
     "data": {
      "text/plain": [
       "28.0"
      ]
     },
     "execution_count": 9,
     "metadata": {},
     "output_type": "execute_result"
    }
   ],
   "source": [
    "# sum = n(n + 1) / 2\n",
    "\n",
    "(7 * 8) / 2"
   ]
  },
  {
   "cell_type": "code",
   "execution_count": 12,
   "id": "becd3b35",
   "metadata": {},
   "outputs": [],
   "source": [
    "for i in range(100):\n",
    "    assert recursiveRange(i) == int((i * (i+1))/2)"
   ]
  }
 ],
 "metadata": {
  "kernelspec": {
   "display_name": "Python 3 (ipykernel)",
   "language": "python",
   "name": "python3"
  },
  "language_info": {
   "codemirror_mode": {
    "name": "ipython",
    "version": 3
   },
   "file_extension": ".py",
   "mimetype": "text/x-python",
   "name": "python",
   "nbconvert_exporter": "python",
   "pygments_lexer": "ipython3",
   "version": "3.9.1"
  }
 },
 "nbformat": 4,
 "nbformat_minor": 5
}
