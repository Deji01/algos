{
 "cells": [
  {
   "cell_type": "code",
   "execution_count": 1,
   "id": "e564bb00",
   "metadata": {},
   "outputs": [],
   "source": [
    "def flatten(arr):\n",
    "    resultArr = []\n",
    "    for custItem in arr:\n",
    "        if type(custItem) is list:\n",
    "            resultArr.extend(flatten(custItem))\n",
    "        else: \n",
    "            resultArr.append(custItem)\n",
    "    return resultArr "
   ]
  },
  {
   "cell_type": "code",
   "execution_count": 2,
   "id": "c32107bd",
   "metadata": {},
   "outputs": [],
   "source": [
    "import numpy as np"
   ]
  },
  {
   "cell_type": "code",
   "execution_count": 6,
   "id": "7198531e",
   "metadata": {},
   "outputs": [
    {
     "data": {
      "text/plain": [
       "array([[ 1, 23, 45],\n",
       "       [15, 10, 19],\n",
       "       [12, 13, 98]])"
      ]
     },
     "execution_count": 6,
     "metadata": {},
     "output_type": "execute_result"
    }
   ],
   "source": [
    "arr_ = np.array([[1,23,45],[15,10,19],[12,13,98]])\n",
    "arr_"
   ]
  },
  {
   "cell_type": "code",
   "execution_count": 7,
   "id": "89ee827c",
   "metadata": {},
   "outputs": [
    {
     "data": {
      "text/plain": [
       "[array([ 1, 23, 45]), array([15, 10, 19]), array([12, 13, 98])]"
      ]
     },
     "execution_count": 7,
     "metadata": {},
     "output_type": "execute_result"
    }
   ],
   "source": [
    "flatten(arr_)"
   ]
  },
  {
   "cell_type": "code",
   "execution_count": 8,
   "id": "cc37af34",
   "metadata": {},
   "outputs": [
    {
     "name": "stdout",
     "output_type": "stream",
     "text": [
      "[1, 2, 3, 4, 5]\n",
      "[1, 2, 3, 4, 5]\n",
      "[1, 2, 3]\n",
      "[1, 2, 3]\n"
     ]
    }
   ],
   "source": [
    "print(flatten([1, 2, 3, [4, 5]])) # [1, 2, 3, 4, 5]\n",
    "print(flatten([1, [2, [3, 4], [[5]]]])) # [1, 2, 3, 4, 5]\n",
    "print(flatten([[1], [2], [3]])) # [1, 2, 3]\n",
    "print(flatten([[[[1], [[[2]]], [[[[[[[3]]]]]]]]]])) # [1, 2, 3]"
   ]
  }
 ],
 "metadata": {
  "kernelspec": {
   "display_name": "Python 3 (ipykernel)",
   "language": "python",
   "name": "python3"
  },
  "language_info": {
   "codemirror_mode": {
    "name": "ipython",
    "version": 3
   },
   "file_extension": ".py",
   "mimetype": "text/x-python",
   "name": "python",
   "nbconvert_exporter": "python",
   "pygments_lexer": "ipython3",
   "version": "3.9.1"
  }
 },
 "nbformat": 4,
 "nbformat_minor": 5
}
