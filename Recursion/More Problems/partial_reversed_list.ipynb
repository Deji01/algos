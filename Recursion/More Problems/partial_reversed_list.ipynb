{
 "cells": [
  {
   "cell_type": "code",
   "execution_count": 2,
   "id": "5c0dec8f",
   "metadata": {},
   "outputs": [
    {
     "data": {
      "text/plain": [
       "[1, 2, 3, 4, 5, 6]"
      ]
     },
     "execution_count": 2,
     "metadata": {},
     "output_type": "execute_result"
    }
   ],
   "source": [
    "list_ = [i for i in range(1,7)]\n",
    "list_"
   ]
  },
  {
   "cell_type": "markdown",
   "id": "739a626b",
   "metadata": {},
   "source": [
    "# For loop method"
   ]
  },
  {
   "cell_type": "code",
   "execution_count": 11,
   "id": "a107b853",
   "metadata": {},
   "outputs": [],
   "source": [
    "def reverse_list(n, lst):\n",
    "    res = []\n",
    "    for i in range(n):\n",
    "        res.append(lst[i])\n",
    "    return lst[n:] + res"
   ]
  },
  {
   "cell_type": "code",
   "execution_count": 12,
   "id": "c109b4a9",
   "metadata": {},
   "outputs": [
    {
     "data": {
      "text/plain": [
       "[4, 5, 6, 1, 2, 3]"
      ]
     },
     "execution_count": 12,
     "metadata": {},
     "output_type": "execute_result"
    }
   ],
   "source": [
    "reverse_list(3,list_)"
   ]
  },
  {
   "cell_type": "markdown",
   "id": "3c866981",
   "metadata": {},
   "source": [
    "# Recursion Method for reversing a list"
   ]
  },
  {
   "cell_type": "code",
   "execution_count": 44,
   "id": "98bc2e10",
   "metadata": {},
   "outputs": [],
   "source": [
    "def reverse_rec(lst):\n",
    "    if len(lst) == 0:\n",
    "        return []\n",
    "    return [lst[-1]] + reverse_rec(lst[:-1])"
   ]
  },
  {
   "cell_type": "code",
   "execution_count": 45,
   "id": "b357230f",
   "metadata": {},
   "outputs": [
    {
     "data": {
      "text/plain": [
       "[1, 2, 3, 4, 5, 6]"
      ]
     },
     "execution_count": 45,
     "metadata": {},
     "output_type": "execute_result"
    }
   ],
   "source": [
    "list_"
   ]
  },
  {
   "cell_type": "code",
   "execution_count": 46,
   "id": "affc7d26",
   "metadata": {},
   "outputs": [
    {
     "data": {
      "text/plain": [
       "[6, 5, 4, 3, 2, 1]"
      ]
     },
     "execution_count": 46,
     "metadata": {},
     "output_type": "execute_result"
    }
   ],
   "source": [
    "reverse_rec(list_)"
   ]
  },
  {
   "cell_type": "markdown",
   "id": "10bbdd9c",
   "metadata": {},
   "source": [
    "# Recursion Method for reversing a list with an end point"
   ]
  },
  {
   "cell_type": "code",
   "execution_count": 116,
   "id": "71b680ce",
   "metadata": {},
   "outputs": [],
   "source": [
    "def reverseList(n, lst):\n",
    "    sliced_lst = lst[:n]\n",
    "    if n < 0:\n",
    "        return []\n",
    "    return lst[n:] + sorted(reverseList(n-1, lst[:n]))"
   ]
  },
  {
   "cell_type": "code",
   "execution_count": 117,
   "id": "90357433",
   "metadata": {},
   "outputs": [
    {
     "data": {
      "text/plain": [
       "[4, 5, 6, 1, 2, 3]"
      ]
     },
     "execution_count": 117,
     "metadata": {},
     "output_type": "execute_result"
    }
   ],
   "source": [
    "reverseList(3, list_)"
   ]
  },
  {
   "cell_type": "code",
   "execution_count": 122,
   "id": "ffe09202",
   "metadata": {},
   "outputs": [
    {
     "name": "stdout",
     "output_type": "stream",
     "text": [
      " n = 1\n",
      " reversed list = [2, 3, 4, 5, 6, 1]\n",
      "\n",
      " n = 2\n",
      " reversed list = [3, 4, 5, 6, 1, 2]\n",
      "\n",
      " n = 3\n",
      " reversed list = [4, 5, 6, 1, 2, 3]\n",
      "\n",
      " n = 4\n",
      " reversed list = [5, 6, 1, 2, 3, 4]\n",
      "\n",
      " n = 5\n",
      " reversed list = [6, 1, 2, 3, 4, 5]\n",
      "\n",
      " n = 6\n",
      " reversed list = [1, 2, 3, 4, 5, 6]\n",
      "\n"
     ]
    }
   ],
   "source": [
    "for i in range(1,7):\n",
    "    print(f' n = {i}\\n reversed list = {reverseList(i, list_)}\\n')"
   ]
  }
 ],
 "metadata": {
  "kernelspec": {
   "display_name": "Python 3 (ipykernel)",
   "language": "python",
   "name": "python3"
  },
  "language_info": {
   "codemirror_mode": {
    "name": "ipython",
    "version": 3
   },
   "file_extension": ".py",
   "mimetype": "text/x-python",
   "name": "python",
   "nbconvert_exporter": "python",
   "pygments_lexer": "ipython3",
   "version": "3.9.1"
  }
 },
 "nbformat": 4,
 "nbformat_minor": 5
}
