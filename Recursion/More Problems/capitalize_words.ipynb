{
 "cells": [
  {
   "cell_type": "code",
   "execution_count": 2,
   "id": "71726db9",
   "metadata": {},
   "outputs": [],
   "source": [
    "def capitalizeWords(lst):\n",
    "    result = []\n",
    "    if len(lst) == 0:\n",
    "        return result\n",
    "    result.append(lst[0].upper())\n",
    "    return result + capitalizeWords(lst[1:])"
   ]
  },
  {
   "cell_type": "code",
   "execution_count": 3,
   "id": "e8eb14ec",
   "metadata": {},
   "outputs": [
    {
     "name": "stdout",
     "output_type": "stream",
     "text": [
      "['I', 'AM', 'LEARNING', 'RECURSION']\n"
     ]
    }
   ],
   "source": [
    "words = ['i', 'am', 'learning', 'recursion']\n",
    "print(capitalizeWords(words)) # ['I', 'AM', 'LEARNING', 'RECURSION']"
   ]
  }
 ],
 "metadata": {
  "kernelspec": {
   "display_name": "Python 3 (ipykernel)",
   "language": "python",
   "name": "python3"
  },
  "language_info": {
   "codemirror_mode": {
    "name": "ipython",
    "version": 3
   },
   "file_extension": ".py",
   "mimetype": "text/x-python",
   "name": "python",
   "nbconvert_exporter": "python",
   "pygments_lexer": "ipython3",
   "version": "3.9.1"
  }
 },
 "nbformat": 4,
 "nbformat_minor": 5
}
