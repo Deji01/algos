{
 "cells": [
  {
   "cell_type": "code",
   "execution_count": 4,
   "id": "5e025a69",
   "metadata": {},
   "outputs": [],
   "source": [
    "def capitalizeFirst(lst):\n",
    "    result = []\n",
    "    if len(lst) == 0:\n",
    "        return result\n",
    "    result.append(lst[0][0].upper() + lst[0][1:])\n",
    "    return result + capitalizeFirst(lst[1:]) "
   ]
  },
  {
   "cell_type": "code",
   "execution_count": 5,
   "id": "0253a349",
   "metadata": {},
   "outputs": [
    {
     "name": "stdout",
     "output_type": "stream",
     "text": [
      "['Car', 'Taco', 'Banana']\n"
     ]
    }
   ],
   "source": [
    "print(capitalizeFirst(['car', 'taco', 'banana'])) # ['Car','Taco','Banana']"
   ]
  }
 ],
 "metadata": {
  "kernelspec": {
   "display_name": "Python 3 (ipykernel)",
   "language": "python",
   "name": "python3"
  },
  "language_info": {
   "codemirror_mode": {
    "name": "ipython",
    "version": 3
   },
   "file_extension": ".py",
   "mimetype": "text/x-python",
   "name": "python",
   "nbconvert_exporter": "python",
   "pygments_lexer": "ipython3",
   "version": "3.9.1"
  }
 },
 "nbformat": 4,
 "nbformat_minor": 5
}
