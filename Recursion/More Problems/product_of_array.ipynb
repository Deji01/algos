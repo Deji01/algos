{
 "cells": [
  {
   "cell_type": "code",
   "execution_count": 1,
   "id": "0c81d5f6",
   "metadata": {},
   "outputs": [],
   "source": [
    "def productOfArray(arr):\n",
    "    if len(arr) == 0:\n",
    "        return 1\n",
    "    return arr[0] * productOfArray(arr[1:])"
   ]
  },
  {
   "cell_type": "code",
   "execution_count": 6,
   "id": "61cbd500",
   "metadata": {},
   "outputs": [],
   "source": [
    "import numpy as np\n",
    "\n",
    "arr1 = np.array([1,2,3,4,5,6])\n",
    "arr2 = np.array([1,2,3,5,6])\n",
    "arr3 = np.array([4,6,7,2])"
   ]
  },
  {
   "cell_type": "code",
   "execution_count": 7,
   "id": "f745c56a",
   "metadata": {},
   "outputs": [],
   "source": [
    "list_  = [arr1, arr2, arr3]"
   ]
  },
  {
   "cell_type": "code",
   "execution_count": 9,
   "id": "fb462a73",
   "metadata": {},
   "outputs": [
    {
     "name": "stdout",
     "output_type": "stream",
     "text": [
      "(array([1, 2, 3, 4, 5, 6]), 720)\n",
      "(array([1, 2, 3, 5, 6]), 180)\n",
      "(array([4, 6, 7, 2]), 336)\n"
     ]
    }
   ],
   "source": [
    "for i in list_:\n",
    "    print((i, productOfArray(i)))"
   ]
  }
 ],
 "metadata": {
  "kernelspec": {
   "display_name": "Python 3 (ipykernel)",
   "language": "python",
   "name": "python3"
  },
  "language_info": {
   "codemirror_mode": {
    "name": "ipython",
    "version": 3
   },
   "file_extension": ".py",
   "mimetype": "text/x-python",
   "name": "python",
   "nbconvert_exporter": "python",
   "pygments_lexer": "ipython3",
   "version": "3.9.1"
  }
 },
 "nbformat": 4,
 "nbformat_minor": 5
}
