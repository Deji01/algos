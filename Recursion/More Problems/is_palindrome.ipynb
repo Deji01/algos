{
 "cells": [
  {
   "cell_type": "code",
   "execution_count": 6,
   "id": "ae58ec32",
   "metadata": {},
   "outputs": [],
   "source": [
    "string = 'tacocat'"
   ]
  },
  {
   "cell_type": "code",
   "execution_count": 7,
   "id": "13702db2",
   "metadata": {},
   "outputs": [
    {
     "data": {
      "text/plain": [
       "7"
      ]
     },
     "execution_count": 7,
     "metadata": {},
     "output_type": "execute_result"
    }
   ],
   "source": [
    "len(string)"
   ]
  },
  {
   "cell_type": "code",
   "execution_count": 13,
   "id": "09beb164",
   "metadata": {},
   "outputs": [
    {
     "data": {
      "text/plain": [
       "'t'"
      ]
     },
     "execution_count": 13,
     "metadata": {},
     "output_type": "execute_result"
    }
   ],
   "source": [
    "string[0]"
   ]
  },
  {
   "cell_type": "code",
   "execution_count": 12,
   "id": "838ff6e9",
   "metadata": {},
   "outputs": [
    {
     "data": {
      "text/plain": [
       "'t'"
      ]
     },
     "execution_count": 12,
     "metadata": {},
     "output_type": "execute_result"
    }
   ],
   "source": [
    "string[len(string)-1]"
   ]
  },
  {
   "cell_type": "code",
   "execution_count": 3,
   "id": "ada4add6",
   "metadata": {},
   "outputs": [],
   "source": [
    "def isPalindrome(string):\n",
    "    if len(string) == 0:\n",
    "        return True\n",
    "    if string[0] != string[len(string)-1]:\n",
    "        return False\n",
    "    return isPalindrome(string[1:-1])"
   ]
  },
  {
   "cell_type": "code",
   "execution_count": 4,
   "id": "5b87fe70",
   "metadata": {},
   "outputs": [
    {
     "name": "stdout",
     "output_type": "stream",
     "text": [
      "False\n",
      "False\n",
      "True\n",
      "True\n",
      "False\n"
     ]
    }
   ],
   "source": [
    "print(isPalindrome('awesome')) # false\n",
    "print(isPalindrome('foobar')) # false\n",
    "print(isPalindrome('tacocat')) # true\n",
    "print(isPalindrome('amanaplanacanalpanama')) # true\n",
    "print(isPalindrome('amanaplanacanalpandemonium')) # false"
   ]
  }
 ],
 "metadata": {
  "kernelspec": {
   "display_name": "Python 3 (ipykernel)",
   "language": "python",
   "name": "python3"
  },
  "language_info": {
   "codemirror_mode": {
    "name": "ipython",
    "version": 3
   },
   "file_extension": ".py",
   "mimetype": "text/x-python",
   "name": "python",
   "nbconvert_exporter": "python",
   "pygments_lexer": "ipython3",
   "version": "3.9.1"
  }
 },
 "nbformat": 4,
 "nbformat_minor": 5
}
