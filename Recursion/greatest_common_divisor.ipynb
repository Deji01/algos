{
 "cells": [
  {
   "cell_type": "markdown",
   "id": "678b3b52-a2f2-4834-8374-cb9eb65bf40f",
   "metadata": {},
   "source": [
    "# $Greatest$ $common$ $divisor$"
   ]
  },
  {
   "cell_type": "markdown",
   "id": "6432a1e9-3900-4e81-9a66-8d3ce77c4822",
   "metadata": {},
   "source": [
    "Find the greatest common divisor of two numbers using recursion"
   ]
  },
  {
   "cell_type": "markdown",
   "id": "d73bb0cb-7d74-453c-b67c-4f882192f35a",
   "metadata": {},
   "source": [
    "`Method 1`"
   ]
  },
  {
   "cell_type": "code",
   "execution_count": 3,
   "id": "a18d1367-9879-45a9-b1ae-935c5c50ce27",
   "metadata": {},
   "outputs": [],
   "source": [
    "# GCD or HCF (Highest Common Factor) is the largetst positive integer that divides numbers without a remainder.\n",
    "# 8 = [2] * [2] * 2\n",
    "# 12 = [2] * [2] * 3\n",
    "# GCD = 2 * 2 = 4"
   ]
  },
  {
   "cell_type": "markdown",
   "id": "eae4bdbc-94c5-4797-b49f-9ed6a8bda1f9",
   "metadata": {},
   "source": [
    "`Method 2`"
   ]
  },
  {
   "cell_type": "code",
   "execution_count": null,
   "id": "09c0e99d-2d0a-4618-90a4-6b97da71ecd4",
   "metadata": {},
   "outputs": [],
   "source": [
    "# Euclidean algorithm\n",
    "# gcd(48,18)\n",
    "# 48/18 = 2 remainder 12\n",
    "# 18/12 = 1 remainder 6\n",
    "# 12/6 = 2 remainder 0"
   ]
  },
  {
   "cell_type": "code",
   "execution_count": null,
   "id": "8343195a-a342-4df6-bfc7-7f05eec6e87f",
   "metadata": {},
   "outputs": [],
   "source": [
    "# gcd(a, 0) = a\n",
    "# gcd(a,b) = gcd (b, a mod b)"
   ]
  },
  {
   "cell_type": "code",
   "execution_count": 5,
   "id": "b6581efb-31e4-48b0-b3cd-2b1b7423eaca",
   "metadata": {},
   "outputs": [],
   "source": [
    "def greatestCommonDivisor(a,b):\n",
    "    # 3. Unintentional case - the constraint\n",
    "    assert int(a) == a and int(b) == b,'The numbers must be integers'\n",
    "    if a < 0:\n",
    "        a = -1 * a\n",
    "    if b < 0:\n",
    "        b = -1 * b\n",
    "    # 2. Base case - the stopping criterion\n",
    "    if b == 0:\n",
    "        return a\n",
    "    else:\n",
    "        # 1. Recursive case - the flow\n",
    "        return greatestCommonDivisor(b, a%b)"
   ]
  },
  {
   "cell_type": "code",
   "execution_count": 7,
   "id": "f2953f26-a0b4-485f-9cd3-3a7e9bf885a1",
   "metadata": {},
   "outputs": [
    {
     "data": {
      "text/plain": [
       "6"
      ]
     },
     "execution_count": 7,
     "metadata": {},
     "output_type": "execute_result"
    }
   ],
   "source": [
    "greatestCommonDivisor(48,18)"
   ]
  },
  {
   "cell_type": "code",
   "execution_count": 10,
   "id": "6eb8eb16-f5eb-4875-a56e-dc35d81d0adb",
   "metadata": {},
   "outputs": [
    {
     "data": {
      "text/plain": [
       "6"
      ]
     },
     "execution_count": 10,
     "metadata": {},
     "output_type": "execute_result"
    }
   ],
   "source": [
    "greatestCommonDivisor(48,-18)"
   ]
  }
 ],
 "metadata": {
  "kernelspec": {
   "display_name": "Python 3 (ipykernel)",
   "language": "python",
   "name": "python3"
  },
  "language_info": {
   "codemirror_mode": {
    "name": "ipython",
    "version": 3
   },
   "file_extension": ".py",
   "mimetype": "text/x-python",
   "name": "python",
   "nbconvert_exporter": "python",
   "pygments_lexer": "ipython3",
   "version": "3.9.1"
  }
 },
 "nbformat": 4,
 "nbformat_minor": 5
}
