{
 "cells": [
  {
   "cell_type": "markdown",
   "id": "678b3b52-a2f2-4834-8374-cb9eb65bf40f",
   "metadata": {},
   "source": [
    "# $Power$ $of$ $a$ $number$"
   ]
  },
  {
   "cell_type": "markdown",
   "id": "6432a1e9-3900-4e81-9a66-8d3ce77c4822",
   "metadata": {},
   "source": [
    "Calculate the power of a number using recursion"
   ]
  },
  {
   "cell_type": "code",
   "execution_count": 1,
   "id": "54cb211c-b851-4abd-a404-003f71ff2fd6",
   "metadata": {},
   "outputs": [],
   "source": [
    "# X,n = 3,4  = 3**4\n",
    "\n",
    "#  3 * 4 = 3 * 3 * 3 * 3 \n",
    "#    = 3 * (3 ** 3)\n",
    "\n",
    "#  3 * 4 = 3 * 3 * 3 * 3 \n",
    "#    = 3 * 3 * (3 ** 2)\n",
    "\n",
    "#  3 * 4 = 3 * 3 * 3 * 3 \n",
    "#    = 3 * 3 * 3 * (3 ** 1)"
   ]
  },
  {
   "cell_type": "code",
   "execution_count": 2,
   "id": "a18d1367-9879-45a9-b1ae-935c5c50ce27",
   "metadata": {},
   "outputs": [],
   "source": [
    "# X**n = X * X**(n-1)"
   ]
  },
  {
   "cell_type": "code",
   "execution_count": 28,
   "id": "b6581efb-31e4-48b0-b3cd-2b1b7423eaca",
   "metadata": {},
   "outputs": [],
   "source": [
    "def power(base, exponent):\n",
    "    # 3. Unintentional case - the constraint\n",
    "    assert  int(exponent) == exponent and exponent >= 0 ,'The exponent must be a positive integer only!'\n",
    "    \n",
    "    # 2. Base case - the stopping criterion\n",
    "    if exponent == 0:\n",
    "        return 1\n",
    "    if  exponent == 1:\n",
    "        return base\n",
    "    else:\n",
    "        # 1. Recursive case - the flow\n",
    "        return base * power(base, exponent-1)"
   ]
  },
  {
   "cell_type": "code",
   "execution_count": 30,
   "id": "da03fd38-c31e-4e70-aac9-6082f91264c6",
   "metadata": {},
   "outputs": [
    {
     "data": {
      "text/plain": [
       "-32"
      ]
     },
     "execution_count": 30,
     "metadata": {},
     "output_type": "execute_result"
    }
   ],
   "source": [
    "power(-2,5)"
   ]
  },
  {
   "cell_type": "code",
   "execution_count": 11,
   "id": "f2953f26-a0b4-485f-9cd3-3a7e9bf885a1",
   "metadata": {},
   "outputs": [
    {
     "name": "stdout",
     "output_type": "stream",
     "text": [
      "base : 1  exponent : 1\n",
      "  base ** exponent : 1\n",
      "\n",
      "base : 1  exponent : 2\n",
      "  base ** exponent : 1\n",
      "\n",
      "base : 1  exponent : 3\n",
      "  base ** exponent : 1\n",
      "\n",
      "base : 2  exponent : 1\n",
      "  base ** exponent : 2\n",
      "\n",
      "base : 2  exponent : 2\n",
      "  base ** exponent : 4\n",
      "\n",
      "base : 2  exponent : 3\n",
      "  base ** exponent : 8\n",
      "\n",
      "base : 3  exponent : 1\n",
      "  base ** exponent : 3\n",
      "\n",
      "base : 3  exponent : 2\n",
      "  base ** exponent : 9\n",
      "\n",
      "base : 3  exponent : 3\n",
      "  base ** exponent : 27\n",
      "\n"
     ]
    }
   ],
   "source": [
    "for base in range (1,4):\n",
    "    for exponent in range (1,4):\n",
    "        print(f'base : {base}  exponent : {exponent}\\n  base ** exponent : {power(base, exponent)}\\n')"
   ]
  },
  {
   "cell_type": "code",
   "execution_count": null,
   "id": "ef939afe-bfe0-419a-b1db-dba988bff8d9",
   "metadata": {},
   "outputs": [],
   "source": []
  }
 ],
 "metadata": {
  "kernelspec": {
   "display_name": "Python 3 (ipykernel)",
   "language": "python",
   "name": "python3"
  },
  "language_info": {
   "codemirror_mode": {
    "name": "ipython",
    "version": 3
   },
   "file_extension": ".py",
   "mimetype": "text/x-python",
   "name": "python",
   "nbconvert_exporter": "python",
   "pygments_lexer": "ipython3",
   "version": "3.9.1"
  }
 },
 "nbformat": 4,
 "nbformat_minor": 5
}
