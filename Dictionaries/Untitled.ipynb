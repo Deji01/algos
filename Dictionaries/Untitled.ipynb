{
 "cells": [
  {
   "cell_type": "code",
   "execution_count": 4,
   "id": "e66f3adc",
   "metadata": {},
   "outputs": [],
   "source": [
    "def collectStrings(obj):\n",
    "    resultList = []\n",
    "    for key in obj:\n",
    "        if type(obj[key]) is str:\n",
    "            resultList.append(obj[key])\n",
    "        if type(obj[key]) is dict:\n",
    "            resultList = resultList + collectStrings(obj[key])\n",
    "    return resultList"
   ]
  },
  {
   "cell_type": "code",
   "execution_count": 5,
   "id": "b72e7906",
   "metadata": {},
   "outputs": [],
   "source": [
    "obj = {\n",
    "    \"stuff\": 'foo',\n",
    "    \"data\": {\n",
    "    \"val\": {\n",
    "    \"thing\": {\n",
    "    \"info\": 'bar',\n",
    "    \"moreInfo\": {\n",
    "    \"evenMoreInfo\": {\n",
    "    \"weMadeIt\": 'baz'\n",
    "          }\n",
    "        }\n",
    "      }\n",
    "    }\n",
    "  }\n",
    "}"
   ]
  },
  {
   "cell_type": "code",
   "execution_count": 6,
   "id": "a9d0f161",
   "metadata": {},
   "outputs": [
    {
     "name": "stdout",
     "output_type": "stream",
     "text": [
      "['foo', 'bar', 'baz']\n"
     ]
    }
   ],
   "source": [
    "\n",
    "print(collectStrings(obj)) # ['foo', 'bar', 'baz'])"
   ]
  }
 ],
 "metadata": {
  "kernelspec": {
   "display_name": "Python 3 (ipykernel)",
   "language": "python",
   "name": "python3"
  },
  "language_info": {
   "codemirror_mode": {
    "name": "ipython",
    "version": 3
   },
   "file_extension": ".py",
   "mimetype": "text/x-python",
   "name": "python",
   "nbconvert_exporter": "python",
   "pygments_lexer": "ipython3",
   "version": "3.9.1"
  }
 },
 "nbformat": 4,
 "nbformat_minor": 5
}
