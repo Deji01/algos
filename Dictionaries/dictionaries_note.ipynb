{
 "cells": [
  {
   "cell_type": "code",
   "execution_count": 5,
   "id": "b6f0ff4a",
   "metadata": {},
   "outputs": [],
   "source": [
    "myDict = dict(one=1, two=2)"
   ]
  },
  {
   "cell_type": "code",
   "execution_count": 6,
   "id": "ef8a51de",
   "metadata": {},
   "outputs": [
    {
     "data": {
      "text/plain": [
       "{'one': 1, 'two': 2}"
      ]
     },
     "execution_count": 6,
     "metadata": {},
     "output_type": "execute_result"
    }
   ],
   "source": [
    "myDict"
   ]
  },
  {
   "cell_type": "code",
   "execution_count": 7,
   "id": "6e85df3a",
   "metadata": {},
   "outputs": [
    {
     "data": {
      "text/plain": [
       "1"
      ]
     },
     "execution_count": 7,
     "metadata": {},
     "output_type": "execute_result"
    }
   ],
   "source": [
    "myDict['one']"
   ]
  },
  {
   "cell_type": "code",
   "execution_count": 8,
   "id": "7ff6aef0",
   "metadata": {},
   "outputs": [
    {
     "data": {
      "text/plain": [
       "2"
      ]
     },
     "execution_count": 8,
     "metadata": {},
     "output_type": "execute_result"
    }
   ],
   "source": [
    "myDict['two']"
   ]
  },
  {
   "cell_type": "code",
   "execution_count": 38,
   "id": "dfff70ae",
   "metadata": {},
   "outputs": [
    {
     "name": "stdout",
     "output_type": "stream",
     "text": [
      "('one', 1)\n",
      "('two', 2)\n"
     ]
    }
   ],
   "source": [
    "for k,v in myDict.items():\n",
    "    print((k,v))"
   ]
  },
  {
   "cell_type": "code",
   "execution_count": 16,
   "id": "917be320",
   "metadata": {},
   "outputs": [],
   "source": [
    "englishToSpanish = {'one':'uno', \n",
    "                    'two':'dos', \n",
    "                    'three':'tres'}"
   ]
  },
  {
   "cell_type": "code",
   "execution_count": 17,
   "id": "d18a9c13",
   "metadata": {},
   "outputs": [
    {
     "data": {
      "text/plain": [
       "{'one': 'uno', 'two': 'dos', 'three': 'tres'}"
      ]
     },
     "execution_count": 17,
     "metadata": {},
     "output_type": "execute_result"
    }
   ],
   "source": [
    "englishToSpanish"
   ]
  },
  {
   "cell_type": "code",
   "execution_count": 25,
   "id": "35c1a0da",
   "metadata": {},
   "outputs": [
    {
     "data": {
      "text/plain": [
       "'uno'"
      ]
     },
     "execution_count": 25,
     "metadata": {},
     "output_type": "execute_result"
    }
   ],
   "source": [
    "englishToSpanish['one']"
   ]
  },
  {
   "cell_type": "code",
   "execution_count": 26,
   "id": "0b9e872c",
   "metadata": {},
   "outputs": [
    {
     "data": {
      "text/plain": [
       "'tres'"
      ]
     },
     "execution_count": 26,
     "metadata": {},
     "output_type": "execute_result"
    }
   ],
   "source": [
    "englishToSpanish['three']"
   ]
  },
  {
   "cell_type": "markdown",
   "id": "7b00a49b",
   "metadata": {},
   "source": [
    "***Time Complexity: O(1)***"
   ]
  },
  {
   "cell_type": "code",
   "execution_count": 41,
   "id": "cde16e37",
   "metadata": {},
   "outputs": [
    {
     "data": {
      "text/plain": [
       "{'name': 'eddy', 'age': 29}"
      ]
     },
     "execution_count": 41,
     "metadata": {},
     "output_type": "execute_result"
    }
   ],
   "source": [
    "my_dict = {'name': 'eddy', 'age': 29}\n",
    "my_dict"
   ]
  },
  {
   "cell_type": "code",
   "execution_count": 42,
   "id": "15d2b109",
   "metadata": {},
   "outputs": [],
   "source": [
    "my_dict['age'] = 30"
   ]
  },
  {
   "cell_type": "code",
   "execution_count": 43,
   "id": "6fbb9532",
   "metadata": {},
   "outputs": [
    {
     "data": {
      "text/plain": [
       "{'name': 'eddy', 'age': 30}"
      ]
     },
     "execution_count": 43,
     "metadata": {},
     "output_type": "execute_result"
    }
   ],
   "source": [
    "my_dict"
   ]
  },
  {
   "cell_type": "markdown",
   "id": "ff877ca7",
   "metadata": {},
   "source": [
    "***Time Complexity: O(1)***"
   ]
  },
  {
   "cell_type": "markdown",
   "id": "a5bbfdf3",
   "metadata": {},
   "source": [
    "***Space Complexity: O(1)***"
   ]
  },
  {
   "cell_type": "code",
   "execution_count": 44,
   "id": "bf811f94",
   "metadata": {},
   "outputs": [],
   "source": [
    "my_dict['address'] = 'Glascow'"
   ]
  },
  {
   "cell_type": "code",
   "execution_count": 45,
   "id": "9211cb54",
   "metadata": {},
   "outputs": [
    {
     "data": {
      "text/plain": [
       "{'name': 'eddy', 'age': 30, 'address': 'Glascow'}"
      ]
     },
     "execution_count": 45,
     "metadata": {},
     "output_type": "execute_result"
    }
   ],
   "source": [
    "my_dict"
   ]
  },
  {
   "cell_type": "markdown",
   "id": "20581d63",
   "metadata": {},
   "source": [
    "***Time Complexity: O(1)***"
   ]
  },
  {
   "cell_type": "markdown",
   "id": "e781b7e7",
   "metadata": {},
   "source": [
    "***Space Complexity: O(1)***"
   ]
  },
  {
   "cell_type": "code",
   "execution_count": 46,
   "id": "35a9827f",
   "metadata": {},
   "outputs": [],
   "source": [
    "def traverseDict(dict_):\n",
    "    for key in dict_:\n",
    "        print(key, dict_[key])"
   ]
  },
  {
   "cell_type": "markdown",
   "id": "89c5e5cc",
   "metadata": {},
   "source": [
    "***Time Complexity: O(n)***"
   ]
  },
  {
   "cell_type": "code",
   "execution_count": 47,
   "id": "e020921f",
   "metadata": {},
   "outputs": [
    {
     "name": "stdout",
     "output_type": "stream",
     "text": [
      "name eddy\n",
      "age 30\n",
      "address Glascow\n"
     ]
    }
   ],
   "source": [
    "traverseDict(my_dict)"
   ]
  },
  {
   "cell_type": "code",
   "execution_count": 48,
   "id": "30335897",
   "metadata": {},
   "outputs": [],
   "source": [
    "def searchDict(dict_,value):\n",
    "    for key in dict_:\n",
    "        if dict_[key]==value:\n",
    "            return (key, value)\n",
    "    return 'The value does not exist'"
   ]
  },
  {
   "cell_type": "code",
   "execution_count": 49,
   "id": "e7b1ca82",
   "metadata": {},
   "outputs": [
    {
     "data": {
      "text/plain": [
       "'The value does not exist'"
      ]
     },
     "execution_count": 49,
     "metadata": {},
     "output_type": "execute_result"
    }
   ],
   "source": [
    "searchDict(my_dict, 26)"
   ]
  },
  {
   "cell_type": "code",
   "execution_count": 50,
   "id": "90835215",
   "metadata": {},
   "outputs": [
    {
     "data": {
      "text/plain": [
       "('age', 30)"
      ]
     },
     "execution_count": 50,
     "metadata": {},
     "output_type": "execute_result"
    }
   ],
   "source": [
    "searchDict(my_dict, 30)"
   ]
  },
  {
   "cell_type": "markdown",
   "id": "699fa295",
   "metadata": {},
   "source": [
    "***Time Complexity: O(n)***"
   ]
  },
  {
   "cell_type": "code",
   "execution_count": 51,
   "id": "7e2bada6",
   "metadata": {},
   "outputs": [
    {
     "data": {
      "text/plain": [
       "{'name': 'eddy', 'age': 30, 'address': 'Glascow', 'education': 'masters'}"
      ]
     },
     "execution_count": 51,
     "metadata": {},
     "output_type": "execute_result"
    }
   ],
   "source": [
    "my_dict['education'] = 'masters'\n",
    "my_dict"
   ]
  },
  {
   "cell_type": "code",
   "execution_count": 52,
   "id": "68ace032",
   "metadata": {},
   "outputs": [
    {
     "data": {
      "text/plain": [
       "'eddy'"
      ]
     },
     "execution_count": 52,
     "metadata": {},
     "output_type": "execute_result"
    }
   ],
   "source": [
    "my_dict.pop('name')"
   ]
  },
  {
   "cell_type": "code",
   "execution_count": 53,
   "id": "853ac071",
   "metadata": {},
   "outputs": [
    {
     "data": {
      "text/plain": [
       "{'age': 30, 'address': 'Glascow', 'education': 'masters'}"
      ]
     },
     "execution_count": 53,
     "metadata": {},
     "output_type": "execute_result"
    }
   ],
   "source": [
    "my_dict"
   ]
  },
  {
   "cell_type": "code",
   "execution_count": 54,
   "id": "de6dbb70",
   "metadata": {},
   "outputs": [
    {
     "data": {
      "text/plain": [
       "('education', 'masters')"
      ]
     },
     "execution_count": 54,
     "metadata": {},
     "output_type": "execute_result"
    }
   ],
   "source": [
    "my_dict.popitem()"
   ]
  },
  {
   "cell_type": "code",
   "execution_count": 55,
   "id": "bfd1a099",
   "metadata": {},
   "outputs": [
    {
     "data": {
      "text/plain": [
       "{'age': 30, 'address': 'Glascow'}"
      ]
     },
     "execution_count": 55,
     "metadata": {},
     "output_type": "execute_result"
    }
   ],
   "source": [
    "my_dict"
   ]
  },
  {
   "cell_type": "code",
   "execution_count": 57,
   "id": "93d3a4b6",
   "metadata": {},
   "outputs": [
    {
     "name": "stdout",
     "output_type": "stream",
     "text": [
      "{'address': 'Glascow'}\n"
     ]
    }
   ],
   "source": [
    "del my_dict['age']\n",
    "print(my_dict)"
   ]
  },
  {
   "cell_type": "code",
   "execution_count": 58,
   "id": "53beac77",
   "metadata": {},
   "outputs": [
    {
     "data": {
      "text/plain": [
       "{'one': 'uno', 'two': 'dos', 'three': 'tres'}"
      ]
     },
     "execution_count": 58,
     "metadata": {},
     "output_type": "execute_result"
    }
   ],
   "source": [
    "englishToSpanish"
   ]
  },
  {
   "cell_type": "code",
   "execution_count": 59,
   "id": "54483866",
   "metadata": {},
   "outputs": [],
   "source": [
    "englishToSpanish.clear()"
   ]
  },
  {
   "cell_type": "code",
   "execution_count": 60,
   "id": "5714b2a9",
   "metadata": {},
   "outputs": [
    {
     "data": {
      "text/plain": [
       "{}"
      ]
     },
     "execution_count": 60,
     "metadata": {},
     "output_type": "execute_result"
    }
   ],
   "source": [
    "englishToSpanish"
   ]
  },
  {
   "cell_type": "markdown",
   "id": "6a5ace35",
   "metadata": {},
   "source": [
    "***Time Complexity: O(1)***"
   ]
  },
  {
   "cell_type": "markdown",
   "id": "b90a4d39",
   "metadata": {},
   "source": [
    "***Time Complexity:Amortized O(n)***"
   ]
  },
  {
   "cell_type": "markdown",
   "id": "ef09e4bf",
   "metadata": {},
   "source": [
    "***Space Complexity: O(1)***"
   ]
  },
  {
   "cell_type": "code",
   "execution_count": 62,
   "id": "e1cea3c5",
   "metadata": {},
   "outputs": [
    {
     "data": {
      "text/plain": [
       "{'name': 'eddy', 'age': 29}"
      ]
     },
     "execution_count": 62,
     "metadata": {},
     "output_type": "execute_result"
    }
   ],
   "source": [
    "my_dict = {'name': 'eddy', 'age': 29}\n",
    "my_dict"
   ]
  },
  {
   "cell_type": "code",
   "execution_count": 63,
   "id": "c59effab",
   "metadata": {},
   "outputs": [],
   "source": [
    "new_dict = {}.fromkeys([1,2,3], 0)"
   ]
  },
  {
   "cell_type": "code",
   "execution_count": 64,
   "id": "35847825",
   "metadata": {},
   "outputs": [
    {
     "data": {
      "text/plain": [
       "{1: 0, 2: 0, 3: 0}"
      ]
     },
     "execution_count": 64,
     "metadata": {},
     "output_type": "execute_result"
    }
   ],
   "source": [
    "new_dict"
   ]
  },
  {
   "cell_type": "code",
   "execution_count": 66,
   "id": "71e7ef55",
   "metadata": {},
   "outputs": [
    {
     "data": {
      "text/plain": [
       "{1: None, 2: None, 3: None}"
      ]
     },
     "execution_count": 66,
     "metadata": {},
     "output_type": "execute_result"
    }
   ],
   "source": [
    "new_dict2 = {}.fromkeys([1,2,3])\n",
    "new_dict2"
   ]
  },
  {
   "cell_type": "code",
   "execution_count": 67,
   "id": "7c6051f2",
   "metadata": {},
   "outputs": [
    {
     "data": {
      "text/plain": [
       "{'name': 'eddy', 'age': 29}"
      ]
     },
     "execution_count": 67,
     "metadata": {},
     "output_type": "execute_result"
    }
   ],
   "source": [
    "my_dict"
   ]
  },
  {
   "cell_type": "code",
   "execution_count": 68,
   "id": "0cc3172a",
   "metadata": {},
   "outputs": [
    {
     "data": {
      "text/plain": [
       "29"
      ]
     },
     "execution_count": 68,
     "metadata": {},
     "output_type": "execute_result"
    }
   ],
   "source": [
    "my_dict.get('age',27)"
   ]
  },
  {
   "cell_type": "code",
   "execution_count": 69,
   "id": "d33f319e",
   "metadata": {},
   "outputs": [
    {
     "data": {
      "text/plain": [
       "29"
      ]
     },
     "execution_count": 69,
     "metadata": {},
     "output_type": "execute_result"
    }
   ],
   "source": [
    "my_dict.get('age',29)"
   ]
  },
  {
   "cell_type": "code",
   "execution_count": 70,
   "id": "64977164",
   "metadata": {},
   "outputs": [
    {
     "data": {
      "text/plain": [
       "27"
      ]
     },
     "execution_count": 70,
     "metadata": {},
     "output_type": "execute_result"
    }
   ],
   "source": [
    "my_dict.get('city',27)"
   ]
  },
  {
   "cell_type": "code",
   "execution_count": 72,
   "id": "dba02f16",
   "metadata": {},
   "outputs": [
    {
     "name": "stdout",
     "output_type": "stream",
     "text": [
      "None\n"
     ]
    }
   ],
   "source": [
    "print(my_dict.get('city'))"
   ]
  },
  {
   "cell_type": "code",
   "execution_count": 73,
   "id": "0c24d552",
   "metadata": {},
   "outputs": [
    {
     "data": {
      "text/plain": [
       "dict_items([('name', 'eddy'), ('age', 29)])"
      ]
     },
     "execution_count": 73,
     "metadata": {},
     "output_type": "execute_result"
    }
   ],
   "source": [
    "my_dict.items()"
   ]
  },
  {
   "cell_type": "code",
   "execution_count": 74,
   "id": "36775c16",
   "metadata": {},
   "outputs": [
    {
     "data": {
      "text/plain": [
       "dict_keys(['name', 'age'])"
      ]
     },
     "execution_count": 74,
     "metadata": {},
     "output_type": "execute_result"
    }
   ],
   "source": [
    "my_dict.keys()"
   ]
  },
  {
   "cell_type": "code",
   "execution_count": 80,
   "id": "b99d116c",
   "metadata": {},
   "outputs": [
    {
     "data": {
      "text/plain": [
       "'eddy'"
      ]
     },
     "execution_count": 80,
     "metadata": {},
     "output_type": "execute_result"
    }
   ],
   "source": [
    "my_dict.setdefault('name','josh')"
   ]
  },
  {
   "cell_type": "code",
   "execution_count": 81,
   "id": "752b6cb8",
   "metadata": {},
   "outputs": [
    {
     "data": {
      "text/plain": [
       "'josh'"
      ]
     },
     "execution_count": 81,
     "metadata": {},
     "output_type": "execute_result"
    }
   ],
   "source": [
    "my_dict.setdefault('name1', 'josh')"
   ]
  },
  {
   "cell_type": "code",
   "execution_count": 82,
   "id": "af7584ec",
   "metadata": {},
   "outputs": [
    {
     "data": {
      "text/plain": [
       "{'name': 'eddy', 'age': 29, 'name1': 'josh'}"
      ]
     },
     "execution_count": 82,
     "metadata": {},
     "output_type": "execute_result"
    }
   ],
   "source": [
    "my_dict"
   ]
  },
  {
   "cell_type": "code",
   "execution_count": 79,
   "id": "4734934e",
   "metadata": {},
   "outputs": [
    {
     "data": {
      "text/plain": [
       "{'name': 'eddy', 'age': 29}"
      ]
     },
     "execution_count": 79,
     "metadata": {},
     "output_type": "execute_result"
    }
   ],
   "source": [
    "{k:v for k,v in my_dict.items()}"
   ]
  },
  {
   "cell_type": "code",
   "execution_count": 83,
   "id": "c1c29df5",
   "metadata": {},
   "outputs": [
    {
     "data": {
      "text/plain": [
       "dict_values(['eddy', 29, 'josh'])"
      ]
     },
     "execution_count": 83,
     "metadata": {},
     "output_type": "execute_result"
    }
   ],
   "source": [
    "my_dict.values()"
   ]
  },
  {
   "cell_type": "code",
   "execution_count": 84,
   "id": "f15a986c",
   "metadata": {},
   "outputs": [],
   "source": [
    "my_dict.update(new_dict2)"
   ]
  },
  {
   "cell_type": "code",
   "execution_count": 85,
   "id": "56a66870",
   "metadata": {},
   "outputs": [
    {
     "data": {
      "text/plain": [
       "{'name': 'eddy', 'age': 29, 'name1': 'josh', 1: None, 2: None, 3: None}"
      ]
     },
     "execution_count": 85,
     "metadata": {},
     "output_type": "execute_result"
    }
   ],
   "source": [
    "my_dict"
   ]
  },
  {
   "cell_type": "code",
   "execution_count": 86,
   "id": "7bb9abc3",
   "metadata": {},
   "outputs": [
    {
     "data": {
      "text/plain": [
       "{'name': 'eddy', 'age': 29, 'name1': 'josh', 1: None, 2: None, 3: None}"
      ]
     },
     "execution_count": 86,
     "metadata": {},
     "output_type": "execute_result"
    }
   ],
   "source": [
    "my_dict.update()\n",
    "my_dict"
   ]
  },
  {
   "cell_type": "code",
   "execution_count": 87,
   "id": "cb837e89",
   "metadata": {},
   "outputs": [
    {
     "data": {
      "text/plain": [
       "6"
      ]
     },
     "execution_count": 87,
     "metadata": {},
     "output_type": "execute_result"
    }
   ],
   "source": [
    "len(my_dict)"
   ]
  },
  {
   "cell_type": "code",
   "execution_count": 90,
   "id": "38ede63c",
   "metadata": {},
   "outputs": [],
   "source": [
    "lang_dict = {'one':'uno', 'two':'dos', 'three':'tres', 'four':'cuarto'}"
   ]
  },
  {
   "cell_type": "code",
   "execution_count": 91,
   "id": "bc7c98e7",
   "metadata": {},
   "outputs": [
    {
     "data": {
      "text/plain": [
       "True"
      ]
     },
     "execution_count": 91,
     "metadata": {},
     "output_type": "execute_result"
    }
   ],
   "source": [
    "'one' in lang_dict"
   ]
  },
  {
   "cell_type": "code",
   "execution_count": 92,
   "id": "23854f2c",
   "metadata": {},
   "outputs": [
    {
     "data": {
      "text/plain": [
       "False"
      ]
     },
     "execution_count": 92,
     "metadata": {},
     "output_type": "execute_result"
    }
   ],
   "source": [
    "'uno' in lang_dict"
   ]
  },
  {
   "cell_type": "code",
   "execution_count": 93,
   "id": "2e7dc022",
   "metadata": {},
   "outputs": [
    {
     "data": {
      "text/plain": [
       "True"
      ]
     },
     "execution_count": 93,
     "metadata": {},
     "output_type": "execute_result"
    }
   ],
   "source": [
    "'uno' in lang_dict.values()"
   ]
  },
  {
   "cell_type": "markdown",
   "id": "cf63b2f2",
   "metadata": {},
   "source": [
    "***Time Complexity : O(1)***"
   ]
  },
  {
   "cell_type": "code",
   "execution_count": 96,
   "id": "3bf412d8",
   "metadata": {},
   "outputs": [
    {
     "name": "stdout",
     "output_type": "stream",
     "text": [
      "one\n",
      "two\n",
      "three\n",
      "four\n"
     ]
    }
   ],
   "source": [
    "for key in lang_dict:\n",
    "    print(key)"
   ]
  },
  {
   "cell_type": "markdown",
   "id": "069218a2",
   "metadata": {},
   "source": [
    "***Time Complexity : O(N)***"
   ]
  },
  {
   "cell_type": "code",
   "execution_count": 106,
   "id": "06ffc995",
   "metadata": {},
   "outputs": [],
   "source": [
    "true_dict = {1:True, 2:True }\n",
    "false_dict = {3: False, 4: False}\n",
    "bool_dict = {5: True , 6: False}"
   ]
  },
  {
   "cell_type": "code",
   "execution_count": 107,
   "id": "4f909503",
   "metadata": {},
   "outputs": [],
   "source": [
    "all_dict = [true_dict, false_dict, bool_dict]"
   ]
  },
  {
   "cell_type": "code",
   "execution_count": 108,
   "id": "4dd6625f",
   "metadata": {},
   "outputs": [
    {
     "name": "stdout",
     "output_type": "stream",
     "text": [
      "({1: True, 2: True}, True)\n",
      "({3: False, 4: False}, True)\n",
      "({5: True, 6: False}, True)\n"
     ]
    }
   ],
   "source": [
    "for i in all_dict:\n",
    "    print((i, all(i)))"
   ]
  },
  {
   "cell_type": "code",
   "execution_count": 109,
   "id": "64703d2d",
   "metadata": {},
   "outputs": [
    {
     "data": {
      "text/plain": [
       "{5: True, 6: False, 1: True, 2: True}"
      ]
     },
     "execution_count": 109,
     "metadata": {},
     "output_type": "execute_result"
    }
   ],
   "source": [
    "bool_dict.update(true_dict)\n",
    "bool_dict"
   ]
  },
  {
   "cell_type": "code",
   "execution_count": 110,
   "id": "726a1bbb",
   "metadata": {},
   "outputs": [
    {
     "data": {
      "text/plain": [
       "{5: True, 6: False, 1: True, 2: True, 3: False, 4: False}"
      ]
     },
     "execution_count": 110,
     "metadata": {},
     "output_type": "execute_result"
    }
   ],
   "source": [
    "bool_dict.update(false_dict)\n",
    "bool_dict"
   ]
  },
  {
   "cell_type": "code",
   "execution_count": 127,
   "id": "ace0ab1d",
   "metadata": {
    "scrolled": true
   },
   "outputs": [
    {
     "data": {
      "text/plain": [
       "[(1, True), (2, True), (3, False), (4, False), (5, True), (6, False)]"
      ]
     },
     "execution_count": 127,
     "metadata": {},
     "output_type": "execute_result"
    }
   ],
   "source": [
    "my_list = sorted(bool_dict.items(), key=lambda x: x[0])\n",
    "my_list"
   ]
  },
  {
   "cell_type": "code",
   "execution_count": 140,
   "id": "a6c79803",
   "metadata": {},
   "outputs": [
    {
     "data": {
      "text/plain": [
       "{1: True, 2: True, 3: False, 4: False, 5: True, 6: False}"
      ]
     },
     "execution_count": 140,
     "metadata": {},
     "output_type": "execute_result"
    }
   ],
   "source": [
    "sorted_bool = {tup[0]:tup[1] for index, tup in enumerate(my_list)}\n",
    "sorted_bool"
   ]
  },
  {
   "cell_type": "code",
   "execution_count": 142,
   "id": "a2c77f76",
   "metadata": {},
   "outputs": [
    {
     "data": {
      "text/plain": [
       "True"
      ]
     },
     "execution_count": 142,
     "metadata": {},
     "output_type": "execute_result"
    }
   ],
   "source": [
    "all(sorted_bool)"
   ]
  },
  {
   "cell_type": "code",
   "execution_count": 144,
   "id": "a7a9dee8",
   "metadata": {},
   "outputs": [
    {
     "name": "stdout",
     "output_type": "stream",
     "text": [
      "({1: True, 2: True}, True)\n",
      "({3: False, 4: False}, True)\n",
      "({5: True, 6: False, 1: True, 2: True, 3: False, 4: False}, True)\n"
     ]
    }
   ],
   "source": [
    "for i in all_dict:\n",
    "    print((i, any(i)))"
   ]
  },
  {
   "cell_type": "code",
   "execution_count": 145,
   "id": "1213c4d6",
   "metadata": {},
   "outputs": [
    {
     "data": {
      "text/plain": [
       "False"
      ]
     },
     "execution_count": 145,
     "metadata": {},
     "output_type": "execute_result"
    }
   ],
   "source": [
    "any({})"
   ]
  },
  {
   "cell_type": "code",
   "execution_count": 151,
   "id": "6c8b5ce5",
   "metadata": {},
   "outputs": [],
   "source": [
    "alpha_dict = {'e':1, 'a':2, 'o':4, 'u':3, 'i':5}"
   ]
  },
  {
   "cell_type": "code",
   "execution_count": 152,
   "id": "e4a4b555",
   "metadata": {},
   "outputs": [
    {
     "data": {
      "text/plain": [
       "['u', 'o', 'i', 'e', 'a']"
      ]
     },
     "execution_count": 152,
     "metadata": {},
     "output_type": "execute_result"
    }
   ],
   "source": [
    "sorted(alpha_dict, reverse=True)"
   ]
  },
  {
   "cell_type": "code",
   "execution_count": 153,
   "id": "32b145cf",
   "metadata": {},
   "outputs": [],
   "source": [
    "alpha_dict2 = {'e':1, 'aa':2, 'oooo':4, 'uuu':3, 'iiiii':5}"
   ]
  },
  {
   "cell_type": "code",
   "execution_count": 155,
   "id": "a610b790",
   "metadata": {},
   "outputs": [
    {
     "data": {
      "text/plain": [
       "['e', 'aa', 'uuu', 'oooo', 'iiiii']"
      ]
     },
     "execution_count": 155,
     "metadata": {},
     "output_type": "execute_result"
    }
   ],
   "source": [
    "sorted(alpha_dict2, key=len)"
   ]
  }
 ],
 "metadata": {
  "kernelspec": {
   "display_name": "Python 3 (ipykernel)",
   "language": "python",
   "name": "python3"
  },
  "language_info": {
   "codemirror_mode": {
    "name": "ipython",
    "version": 3
   },
   "file_extension": ".py",
   "mimetype": "text/x-python",
   "name": "python",
   "nbconvert_exporter": "python",
   "pygments_lexer": "ipython3",
   "version": "3.9.1"
  }
 },
 "nbformat": 4,
 "nbformat_minor": 5
}
