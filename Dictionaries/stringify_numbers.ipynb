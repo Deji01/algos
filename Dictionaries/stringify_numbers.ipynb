{
 "cells": [
  {
   "cell_type": "code",
   "execution_count": 1,
   "id": "2c858d17",
   "metadata": {},
   "outputs": [],
   "source": [
    "def stringifyNumbers(obj):\n",
    "    newObj = obj\n",
    "    for key in newObj:\n",
    "        if type(newObj[key]) is int:\n",
    "            newObj[key] = str(newObj[key])\n",
    "        if type(newObj[key]) is dict:\n",
    "            newObj[key] = stringifyNumbers(newObj[key])\n",
    "    return newObj"
   ]
  },
  {
   "cell_type": "code",
   "execution_count": 2,
   "id": "4f07bc46",
   "metadata": {},
   "outputs": [],
   "source": [
    "obj = {\n",
    "    \"num\": 1,\n",
    "    \"test\": [],\n",
    "    \"data\": {\n",
    "    \"val\": 4,\n",
    "    \"info\": {\n",
    "    \"isRight\": True,\n",
    "    \"random\": 66\n",
    "    }\n",
    "  }\n",
    "}"
   ]
  },
  {
   "cell_type": "code",
   "execution_count": 4,
   "id": "733f9620",
   "metadata": {},
   "outputs": [
    {
     "name": "stdout",
     "output_type": "stream",
     "text": [
      "{'num': '1', 'test': [], 'data': {'val': '4', 'info': {'isRight': True, 'random': '66'}}}\n"
     ]
    }
   ],
   "source": [
    "print(stringifyNumbers(obj))\n",
    "\n",
    "#{'num': '1','test': [],'data': {'val': '4',  'info': {'isRight': True, 'random': '66'}}}"
   ]
  }
 ],
 "metadata": {
  "kernelspec": {
   "display_name": "Python 3 (ipykernel)",
   "language": "python",
   "name": "python3"
  },
  "language_info": {
   "codemirror_mode": {
    "name": "ipython",
    "version": 3
   },
   "file_extension": ".py",
   "mimetype": "text/x-python",
   "name": "python",
   "nbconvert_exporter": "python",
   "pygments_lexer": "ipython3",
   "version": "3.9.1"
  }
 },
 "nbformat": 4,
 "nbformat_minor": 5
}
