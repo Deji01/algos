{
 "cells": [
  {
   "cell_type": "code",
   "execution_count": 1,
   "id": "d0a22e4d",
   "metadata": {},
   "outputs": [],
   "source": [
    "def nestedEvenSum(obj, sum=0):\n",
    "    for key in obj:\n",
    "        if type(obj[key]) is dict:\n",
    "            sum += nestedEvenSum(obj[key])\n",
    "        elif type(obj[key]) is int and obj[key]%2==0:\n",
    "            sum+=obj[key]\n",
    "    return sum"
   ]
  },
  {
   "cell_type": "code",
   "execution_count": 4,
   "id": "c06233a2",
   "metadata": {},
   "outputs": [],
   "source": [
    "obj1 = {\n",
    "    \"outer\": 2,\n",
    "    \n",
    "    \"obj\": {\n",
    "    \"inner\": 2,\n",
    "        \n",
    "    \"otherObj\": {\n",
    "    \"superInner\": 2,\n",
    "        \n",
    "    \"notANumber\": True,\n",
    "        \n",
    "    \"alsoNotANumber\": \"yup\"\n",
    "    }\n",
    "  }\n",
    "}"
   ]
  },
  {
   "cell_type": "code",
   "execution_count": 5,
   "id": "e32ab5f7",
   "metadata": {},
   "outputs": [],
   "source": [
    "obj2 = {\n",
    "  \"a\": 2,\n",
    "  \"b\": {\"b\": 2, \"bb\": {\"b\": 3, \"bb\": {\"b\": 2}}},\n",
    "  \"c\": {\"c\": {\"c\": 2}, \"cc\": 'ball', \"ccc\": 5},\n",
    "  \"d\": 1,\n",
    "  \"e\": {\"e\": {\"e\": 2}, \"ee\": 'car'}\n",
    "}"
   ]
  },
  {
   "cell_type": "code",
   "execution_count": 6,
   "id": "4b5236bb",
   "metadata": {},
   "outputs": [
    {
     "name": "stdout",
     "output_type": "stream",
     "text": [
      "6\n",
      "10\n"
     ]
    }
   ],
   "source": [
    "print(nestedEvenSum(obj1)) # 6\n",
    "print(nestedEvenSum(obj2)) # 10"
   ]
  }
 ],
 "metadata": {
  "kernelspec": {
   "display_name": "Python 3 (ipykernel)",
   "language": "python",
   "name": "python3"
  },
  "language_info": {
   "codemirror_mode": {
    "name": "ipython",
    "version": 3
   },
   "file_extension": ".py",
   "mimetype": "text/x-python",
   "name": "python",
   "nbconvert_exporter": "python",
   "pygments_lexer": "ipython3",
   "version": "3.9.1"
  }
 },
 "nbformat": 4,
 "nbformat_minor": 5
}
